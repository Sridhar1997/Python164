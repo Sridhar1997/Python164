{
  "nbformat": 4,
  "nbformat_minor": 0,
  "metadata": {
    "colab": {
      "provenance": []
    },
    "kernelspec": {
      "name": "python3",
      "display_name": "Python 3"
    },
    "language_info": {
      "name": "python"
    }
  },
  "cells": [
    {
      "cell_type": "code",
      "execution_count": null,
      "metadata": {
        "colab": {
          "base_uri": "https://localhost:8080/"
        },
        "id": "kMX7w-yzdQfV",
        "outputId": "3faa1d53-8924-4b19-ccf5-f1204034295d"
      },
      "outputs": [
        {
          "output_type": "stream",
          "name": "stdout",
          "text": [
            "Hi Welcome to Credo Systemz - Python Session\n"
          ]
        }
      ],
      "source": [
        "# Python - Unit 1 - Python - Variable - Data Type - Operators\n",
        "\n",
        "print(\"Hi Welcome to Credo Systemz - Python Session\")"
      ]
    },
    {
      "cell_type": "code",
      "source": [
        "# Variable - Store the Value, Assign the Value\n",
        "\n",
        "Name=\"Sridhar Raj P\"\n",
        "print(\"I am\",Name)"
      ],
      "metadata": {
        "colab": {
          "base_uri": "https://localhost:8080/"
        },
        "id": "UcUlVJK8dvgF",
        "outputId": "011426b2-d921-4da8-fba4-1286ef8ef57e"
      },
      "execution_count": null,
      "outputs": [
        {
          "output_type": "stream",
          "name": "stdout",
          "text": [
            "I am Sridhar Raj P\n"
          ]
        }
      ]
    },
    {
      "cell_type": "code",
      "source": [
        "Age=27\n",
        "print(Age)"
      ],
      "metadata": {
        "colab": {
          "base_uri": "https://localhost:8080/"
        },
        "id": "GVXSdsT-eHPT",
        "outputId": "9a66381c-022e-4198-e128-815ce6f527db"
      },
      "execution_count": null,
      "outputs": [
        {
          "output_type": "stream",
          "name": "stdout",
          "text": [
            "27\n"
          ]
        }
      ]
    },
    {
      "cell_type": "code",
      "source": [
        "Salary=50000.00\n",
        "print(Salary)"
      ],
      "metadata": {
        "colab": {
          "base_uri": "https://localhost:8080/"
        },
        "id": "D2zpvFAZeKOR",
        "outputId": "7e39ded3-e465-4807-e743-9b23217b732f"
      },
      "execution_count": null,
      "outputs": [
        {
          "output_type": "stream",
          "name": "stdout",
          "text": [
            "50000.0\n"
          ]
        }
      ]
    },
    {
      "cell_type": "code",
      "source": [
        "Name=input(\"Enter the User Name \")\n",
        "print(\"Welcome\", Name)"
      ],
      "metadata": {
        "colab": {
          "base_uri": "https://localhost:8080/"
        },
        "id": "vx4PglC8esYT",
        "outputId": "2b734143-992c-4f41-e6b3-e2f6a3949e68"
      },
      "execution_count": null,
      "outputs": [
        {
          "output_type": "stream",
          "name": "stdout",
          "text": [
            "Enter the User Name Sridhar\n",
            "Welcome  Sridhar\n"
          ]
        }
      ]
    },
    {
      "cell_type": "code",
      "source": [
        "Age=int(input(\"Enter the Age \"))\n",
        "print(\"Age -\",Age)"
      ],
      "metadata": {
        "colab": {
          "base_uri": "https://localhost:8080/"
        },
        "id": "6KKf7dSjfDuG",
        "outputId": "97703e8f-1a6a-4a70-a102-b9e2c478c119"
      },
      "execution_count": null,
      "outputs": [
        {
          "output_type": "stream",
          "name": "stdout",
          "text": [
            "Enter the Age 27\n",
            "Age - 27\n"
          ]
        }
      ]
    },
    {
      "cell_type": "code",
      "source": [
        "myAge=27\n",
        "print(myAge)"
      ],
      "metadata": {
        "colab": {
          "base_uri": "https://localhost:8080/"
        },
        "id": "-NPKwbEzfZvI",
        "outputId": "22705a3c-6681-4ef9-d04c-0f993ae9c782"
      },
      "execution_count": null,
      "outputs": [
        {
          "output_type": "stream",
          "name": "stdout",
          "text": [
            "27\n"
          ]
        }
      ]
    },
    {
      "cell_type": "code",
      "source": [
        "my_age=28\n",
        "print(my_age)"
      ],
      "metadata": {
        "colab": {
          "base_uri": "https://localhost:8080/"
        },
        "id": "4uynCYbmfgZD",
        "outputId": "7ebf67dc-99bc-48f1-b91f-38596c9f44c2"
      },
      "execution_count": null,
      "outputs": [
        {
          "output_type": "stream",
          "name": "stdout",
          "text": [
            "28\n"
          ]
        }
      ]
    },
    {
      "cell_type": "code",
      "source": [
        "MyAge=30\n",
        "print(MyAge)"
      ],
      "metadata": {
        "colab": {
          "base_uri": "https://localhost:8080/"
        },
        "id": "Ls-2i8AYfm5w",
        "outputId": "064323a7-77c4-486f-9f04-96d34f6a7e11"
      },
      "execution_count": null,
      "outputs": [
        {
          "output_type": "stream",
          "name": "stdout",
          "text": [
            "30\n"
          ]
        }
      ]
    },
    {
      "cell_type": "code",
      "source": [
        "#InValid Variable\n",
        "\n",
        "# 2age=25\n",
        "# print(2Age)\n",
        "\n",
        "# my age=27\n",
        "# print(my age)\n",
        "\n",
        "# my+age=27\n",
        "# print(my+age)\n",
        "\n",
        "# return=27\n",
        "# print(return)\n",
        "\n",
        "# age2=27\n",
        "# print(age2)"
      ],
      "metadata": {
        "colab": {
          "base_uri": "https://localhost:8080/",
          "height": 106
        },
        "id": "4K1ydSlPf-to",
        "outputId": "28f427ce-ac46-41af-850e-cb2ff82112bd"
      },
      "execution_count": null,
      "outputs": [
        {
          "output_type": "error",
          "ename": "SyntaxError",
          "evalue": "invalid syntax (ipython-input-19-2437650949.py, line 12)",
          "traceback": [
            "\u001b[0;36m  File \u001b[0;32m\"/tmp/ipython-input-19-2437650949.py\"\u001b[0;36m, line \u001b[0;32m12\u001b[0m\n\u001b[0;31m    return=27\u001b[0m\n\u001b[0m          ^\u001b[0m\n\u001b[0;31mSyntaxError\u001b[0m\u001b[0;31m:\u001b[0m invalid syntax\n"
          ]
        }
      ]
    },
    {
      "cell_type": "code",
      "source": [
        "# Data Type\n",
        "\n",
        "# Text - str\n",
        "# Numeric - int, float, complex\n",
        "# Sequence - list, tuple, range\n",
        "# Mapping - dict\n",
        "# Set - set, frozenset\n",
        "# Boolean - bool\n",
        "# Binary - byets, bytesarray, memoryview\n",
        "# None - NoneType"
      ],
      "metadata": {
        "id": "PAgt-Q9Ug_xV"
      },
      "execution_count": null,
      "outputs": []
    },
    {
      "cell_type": "code",
      "source": [
        "Name=\"Sridhar Raj P - Python Trainer\"\n",
        "print(Name)\n",
        "print(type(Name))"
      ],
      "metadata": {
        "colab": {
          "base_uri": "https://localhost:8080/"
        },
        "id": "vKrPGH8MhkO7",
        "outputId": "4a56914c-5ac0-47d0-a5b1-1939605a611e"
      },
      "execution_count": null,
      "outputs": [
        {
          "output_type": "stream",
          "name": "stdout",
          "text": [
            "Sridhar Raj P - Python Trainer\n",
            "<class 'str'>\n"
          ]
        }
      ]
    },
    {
      "cell_type": "code",
      "source": [
        "Name=input(\"Enter the Name \")\n",
        "print(Name)\n",
        "print(type(Name))"
      ],
      "metadata": {
        "colab": {
          "base_uri": "https://localhost:8080/"
        },
        "id": "NVzcqDn8iF6a",
        "outputId": "1170af05-b5ba-453f-806d-d8ebc5da3f8e"
      },
      "execution_count": null,
      "outputs": [
        {
          "output_type": "stream",
          "name": "stdout",
          "text": [
            "Enter the Name Sridhar\n",
            "Sridhar\n",
            "<class 'str'>\n"
          ]
        }
      ]
    },
    {
      "cell_type": "code",
      "source": [
        "Age=27\n",
        "print(Age)\n",
        "print(type(Age))"
      ],
      "metadata": {
        "colab": {
          "base_uri": "https://localhost:8080/"
        },
        "id": "b58IoT4viWqf",
        "outputId": "d37578d7-ebf2-4043-dcd1-bdb3c8b09449"
      },
      "execution_count": null,
      "outputs": [
        {
          "output_type": "stream",
          "name": "stdout",
          "text": [
            "27\n",
            "<class 'int'>\n"
          ]
        }
      ]
    },
    {
      "cell_type": "code",
      "source": [
        "Balance=60000.71\n",
        "print(Balance)\n",
        "print(type(Balance))"
      ],
      "metadata": {
        "colab": {
          "base_uri": "https://localhost:8080/"
        },
        "id": "G5xE3GoXipr5",
        "outputId": "821a555f-ceee-4ec9-ccb8-56affd4fb21f"
      },
      "execution_count": null,
      "outputs": [
        {
          "output_type": "stream",
          "name": "stdout",
          "text": [
            "60000.71\n",
            "<class 'float'>\n"
          ]
        }
      ]
    },
    {
      "cell_type": "code",
      "source": [
        "answer=1+2j\n",
        "print(answer)\n",
        "print(type(answer))"
      ],
      "metadata": {
        "colab": {
          "base_uri": "https://localhost:8080/"
        },
        "id": "E-zmUPKoi2E4",
        "outputId": "9f2c9f19-4fc4-4c3b-dfed-385ce49e62d1"
      },
      "execution_count": null,
      "outputs": [
        {
          "output_type": "stream",
          "name": "stdout",
          "text": [
            "(1+2j)\n",
            "<class 'complex'>\n"
          ]
        }
      ]
    },
    {
      "cell_type": "code",
      "source": [
        "answer=1+2j+3+4j\n",
        "print(answer)"
      ],
      "metadata": {
        "colab": {
          "base_uri": "https://localhost:8080/"
        },
        "id": "ASYZ5QLDi8zO",
        "outputId": "b55508cc-d484-4184-d0c8-8ef062b53963"
      },
      "execution_count": null,
      "outputs": [
        {
          "output_type": "stream",
          "name": "stdout",
          "text": [
            "(4+6j)\n"
          ]
        }
      ]
    },
    {
      "cell_type": "code",
      "source": [
        "answer=[\"Core Python\", \"OOPS Python\", \"Collections\", \"GUI\", \"Database\"]\n",
        "print(answer)\n",
        "print(type(answer))"
      ],
      "metadata": {
        "colab": {
          "base_uri": "https://localhost:8080/"
        },
        "id": "JyqtJcAxjIJn",
        "outputId": "41a747e9-bcc2-4905-8b2b-88a3f63545b3"
      },
      "execution_count": null,
      "outputs": [
        {
          "output_type": "stream",
          "name": "stdout",
          "text": [
            "['Core Python', 'OOPS Python', 'Collections', 'GUI', 'Database']\n",
            "<class 'list'>\n"
          ]
        }
      ]
    },
    {
      "cell_type": "code",
      "source": [
        "answer=(\"AI\", \"NLP\", \"DS\", \"DA\", \"DV\")\n",
        "print(answer)\n",
        "print(type(answer))"
      ],
      "metadata": {
        "colab": {
          "base_uri": "https://localhost:8080/"
        },
        "id": "7Q3GWP4Sjctb",
        "outputId": "93b22985-ba2e-4ddb-f35f-9c5c4cfee9d3"
      },
      "execution_count": null,
      "outputs": [
        {
          "output_type": "stream",
          "name": "stdout",
          "text": [
            "('AI', 'NLP', 'DS', 'DA', 'DV')\n",
            "<class 'tuple'>\n"
          ]
        }
      ]
    },
    {
      "cell_type": "code",
      "source": [
        "answer=range(10)\n",
        "print(answer)\n",
        "print(type(answer))"
      ],
      "metadata": {
        "colab": {
          "base_uri": "https://localhost:8080/"
        },
        "id": "qI3eEMHRjqPU",
        "outputId": "086fee76-bc6a-4215-bd72-cda50832da9c"
      },
      "execution_count": null,
      "outputs": [
        {
          "output_type": "stream",
          "name": "stdout",
          "text": [
            "range(0, 10)\n",
            "<class 'range'>\n"
          ]
        }
      ]
    },
    {
      "cell_type": "code",
      "source": [
        "answer={\"HTML\", \"CSS\", \"JavaScript\", \"PHP\", \"Python\"}\n",
        "print(answer)\n",
        "print(type(answer))"
      ],
      "metadata": {
        "colab": {
          "base_uri": "https://localhost:8080/"
        },
        "id": "0llCW9H8lt7D",
        "outputId": "2ebbd1c5-d2ea-4252-b778-978c5f558226"
      },
      "execution_count": null,
      "outputs": [
        {
          "output_type": "stream",
          "name": "stdout",
          "text": [
            "{'JavaScript', 'HTML', 'PHP', 'Python', 'CSS'}\n",
            "<class 'set'>\n"
          ]
        }
      ]
    },
    {
      "cell_type": "code",
      "source": [
        "answer={\"name\":\"Sridhar\", \"age\":27, \"skill\":\"Python\"}\n",
        "print(answer)\n",
        "print(type(answer))"
      ],
      "metadata": {
        "colab": {
          "base_uri": "https://localhost:8080/"
        },
        "id": "pLWmL49kmf2u",
        "outputId": "4cb179d7-9e1f-4243-85e9-98140a4edd1f"
      },
      "execution_count": null,
      "outputs": [
        {
          "output_type": "stream",
          "name": "stdout",
          "text": [
            "{'name': 'Sridhar', 'age': 27, 'skill': 'Python'}\n",
            "<class 'dict'>\n"
          ]
        }
      ]
    },
    {
      "cell_type": "code",
      "source": [
        "answer=True\n",
        "print(answer)\n",
        "print(type(answer))"
      ],
      "metadata": {
        "colab": {
          "base_uri": "https://localhost:8080/"
        },
        "id": "fEdohAg5mv2F",
        "outputId": "f94e08ca-8ca6-4ea7-858b-582f7528e1ec"
      },
      "execution_count": null,
      "outputs": [
        {
          "output_type": "stream",
          "name": "stdout",
          "text": [
            "True\n",
            "<class 'str'>\n"
          ]
        }
      ]
    },
    {
      "cell_type": "code",
      "source": [
        "# Specific Data Type - constructor functions\n",
        "\n",
        "answer=str(\"Hi I am Sridhar\")\n",
        "print(answer)\n",
        "print(type(answer))"
      ],
      "metadata": {
        "colab": {
          "base_uri": "https://localhost:8080/"
        },
        "id": "SFm2EjQ1nADh",
        "outputId": "f2520634-2dde-464b-9929-f85385dcc90d"
      },
      "execution_count": null,
      "outputs": [
        {
          "output_type": "stream",
          "name": "stdout",
          "text": [
            "Hi I am Sridhar\n",
            "<class 'str'>\n"
          ]
        }
      ]
    },
    {
      "cell_type": "code",
      "source": [
        "answer=int(100)\n",
        "print(answer)\n",
        "print(type(answer))"
      ],
      "metadata": {
        "colab": {
          "base_uri": "https://localhost:8080/"
        },
        "id": "4hAS1ioVnNx-",
        "outputId": "d040a943-f176-4870-a8cd-ab05f0199937"
      },
      "execution_count": null,
      "outputs": [
        {
          "output_type": "stream",
          "name": "stdout",
          "text": [
            "100\n",
            "<class 'int'>\n"
          ]
        }
      ]
    },
    {
      "cell_type": "code",
      "source": [
        "answer=float(100.54)\n",
        "print(answer)\n",
        "print(type(answer))"
      ],
      "metadata": {
        "colab": {
          "base_uri": "https://localhost:8080/"
        },
        "id": "4GQVpwhynUb8",
        "outputId": "34b86012-3955-4fab-9db7-7d19afe28ddd"
      },
      "execution_count": null,
      "outputs": [
        {
          "output_type": "stream",
          "name": "stdout",
          "text": [
            "100.54\n",
            "<class 'float'>\n"
          ]
        }
      ]
    },
    {
      "cell_type": "code",
      "source": [
        "answer=complex(1+1j+4)\n",
        "print(answer)\n",
        "print(type(answer))"
      ],
      "metadata": {
        "colab": {
          "base_uri": "https://localhost:8080/"
        },
        "id": "d81ZwXmbneHW",
        "outputId": "7887f383-1f50-4a05-da80-8efdc337227f"
      },
      "execution_count": null,
      "outputs": [
        {
          "output_type": "stream",
          "name": "stdout",
          "text": [
            "(5+1j)\n",
            "<class 'complex'>\n"
          ]
        }
      ]
    },
    {
      "cell_type": "code",
      "source": [
        "answer=list((\"HTML\", \"CSS\", \"Python\", \"Java\"))\n",
        "print(answer)\n",
        "print(type(answer))"
      ],
      "metadata": {
        "colab": {
          "base_uri": "https://localhost:8080/"
        },
        "id": "3G4QYckrnmdL",
        "outputId": "3e56fb89-11b2-44f2-872e-635df1f8da36"
      },
      "execution_count": null,
      "outputs": [
        {
          "output_type": "stream",
          "name": "stdout",
          "text": [
            "['HTML', 'CSS', 'Python', 'Java']\n",
            "<class 'list'>\n"
          ]
        }
      ]
    },
    {
      "cell_type": "code",
      "source": [
        "answer=tuple((\"C\", \"C++\",\"Java\", \"Python\"))\n",
        "print(answer)\n",
        "print(type(answer))"
      ],
      "metadata": {
        "colab": {
          "base_uri": "https://localhost:8080/"
        },
        "id": "DA68UsHVn03y",
        "outputId": "72197af7-fc67-449a-db05-35c9c6547310"
      },
      "execution_count": null,
      "outputs": [
        {
          "output_type": "stream",
          "name": "stdout",
          "text": [
            "('C', 'C++', 'Java', 'Python')\n",
            "<class 'tuple'>\n"
          ]
        }
      ]
    },
    {
      "cell_type": "code",
      "source": [
        "answer=range(100)\n",
        "print(answer)\n",
        "print(type(answer))"
      ],
      "metadata": {
        "colab": {
          "base_uri": "https://localhost:8080/"
        },
        "id": "IkIuMUh-n-FW",
        "outputId": "8d51b8bb-530c-4f89-b3c0-fad5eb366db4"
      },
      "execution_count": null,
      "outputs": [
        {
          "output_type": "stream",
          "name": "stdout",
          "text": [
            "range(0, 100)\n",
            "<class 'range'>\n"
          ]
        }
      ]
    },
    {
      "cell_type": "code",
      "source": [
        "answer=dict(name=\"Sridhar\", age=27, salary=40000)\n",
        "print(answer)\n",
        "print(type(answer))"
      ],
      "metadata": {
        "colab": {
          "base_uri": "https://localhost:8080/"
        },
        "id": "IkuKO8vroIWn",
        "outputId": "b3cc0bf2-9708-4a1c-b86e-10657aabc9ad"
      },
      "execution_count": null,
      "outputs": [
        {
          "output_type": "stream",
          "name": "stdout",
          "text": [
            "{'name': 'Sridhar', 'age': 27, 'salary': 40000}\n",
            "<class 'dict'>\n"
          ]
        }
      ]
    },
    {
      "cell_type": "code",
      "source": [
        "answer=set((\"Python\", \"AI\", \"NLP\", \"IP - OpenCV\"))\n",
        "print(answer)\n",
        "print(type(answer))"
      ],
      "metadata": {
        "colab": {
          "base_uri": "https://localhost:8080/"
        },
        "id": "xgeUWr9KoWYa",
        "outputId": "bd78bcce-d7db-4fab-ae57-b1836a51dd19"
      },
      "execution_count": null,
      "outputs": [
        {
          "output_type": "stream",
          "name": "stdout",
          "text": [
            "{'IP - OpenCV', 'Python', 'NLP', 'AI'}\n",
            "<class 'set'>\n"
          ]
        }
      ]
    },
    {
      "cell_type": "code",
      "source": [
        "# Operator\n",
        "\n",
        "# Arithmetic Operators - +,-,*,%,/,**,//\n",
        "\n",
        "num1=10\n",
        "num2=2\n",
        "\n",
        "print(num1+num2)\n",
        "print(num1-num2)\n",
        "print(num1*num2)\n",
        "print(num1%num2)\n",
        "print(num1/num2)\n",
        "print(num1//num2)"
      ],
      "metadata": {
        "colab": {
          "base_uri": "https://localhost:8080/"
        },
        "id": "hf28HjMhotpJ",
        "outputId": "038c1132-1655-4f06-b6ff-9384a1e95fe9"
      },
      "execution_count": null,
      "outputs": [
        {
          "output_type": "stream",
          "name": "stdout",
          "text": [
            "12\n",
            "8\n",
            "20\n",
            "0\n",
            "5.0\n",
            "5\n"
          ]
        }
      ]
    },
    {
      "cell_type": "code",
      "source": [
        "x=5\n",
        "y=3\n",
        "\n",
        "print(x**y)"
      ],
      "metadata": {
        "colab": {
          "base_uri": "https://localhost:8080/"
        },
        "id": "jY6TfZYzppV6",
        "outputId": "c433defd-9498-4481-e4f8-47013f0e5100"
      },
      "execution_count": null,
      "outputs": [
        {
          "output_type": "stream",
          "name": "stdout",
          "text": [
            "125\n"
          ]
        }
      ]
    },
    {
      "cell_type": "code",
      "source": [
        "# Add 5 Number Sum, Avg\n",
        "\n",
        "T=90\n",
        "E=80\n",
        "M=99\n",
        "S=99\n",
        "SS=99\n",
        "\n",
        "total=T+E+M+S+SS\n",
        "print(total)\n",
        "avg=total/5\n",
        "print(avg)"
      ],
      "metadata": {
        "colab": {
          "base_uri": "https://localhost:8080/"
        },
        "id": "V86zh2ZFp2Rs",
        "outputId": "a4fca7ea-c7a7-42c7-b372-763f8f4fc11c"
      },
      "execution_count": null,
      "outputs": [
        {
          "output_type": "stream",
          "name": "stdout",
          "text": [
            "467\n",
            "93.4\n"
          ]
        }
      ]
    },
    {
      "cell_type": "code",
      "source": [
        "Tamil=int(input(\"Enter the Tamil Mark \"))\n",
        "English=int(input(\"Enter the English Mark \"))\n",
        "Maths=int(input(\"Enter the Maths Mark \"))\n",
        "Science=int(input(\"Enter the Science Mark \"))\n",
        "Social=int(input(\"Enter the Social Mark \"))\n",
        "\n",
        "Total=Tamil+English+Maths+Science+Social\n",
        "print(Total)\n",
        "\n",
        "Avg=Total/5\n",
        "print(Avg)"
      ],
      "metadata": {
        "colab": {
          "base_uri": "https://localhost:8080/"
        },
        "id": "V1SWDVi4qMKv",
        "outputId": "7d653913-520f-4436-8225-4f95fe913ed8"
      },
      "execution_count": null,
      "outputs": [
        {
          "output_type": "stream",
          "name": "stdout",
          "text": [
            "Enter the Tamil Mark 90\n",
            "Enter the English Mark 90\n",
            "Enter the Maths Mark 100\n",
            "Enter the Science Mark 100\n",
            "Enter the Social Mark 100\n",
            "480\n",
            "96.0\n"
          ]
        }
      ]
    },
    {
      "cell_type": "code",
      "source": [
        "Celsius=50\n",
        "Fahrenheit=(Celsius*9/5)+32\n",
        "print(Fahrenheit)"
      ],
      "metadata": {
        "colab": {
          "base_uri": "https://localhost:8080/"
        },
        "id": "sp17N4RlrHzJ",
        "outputId": "d731648e-b080-403b-e370-e05de1a1bead"
      },
      "execution_count": null,
      "outputs": [
        {
          "output_type": "stream",
          "name": "stdout",
          "text": [
            "122.0\n"
          ]
        }
      ]
    },
    {
      "cell_type": "code",
      "source": [
        "# Swap 2 Number\n",
        "\n",
        "# a=5, b=10 =>  a=10, b=5\n",
        "\n",
        "a=5\n",
        "b=10\n",
        "\n",
        "print(\"Before Swapping....\")\n",
        "print(\"A -\",a)\n",
        "print(\"B -\",b)\n",
        "\n",
        "a=a+b   # 15=5+10 a=15\n",
        "b=a-b   # 5=15-10  b=5\n",
        "a=a-b   # 10=15-5  a=10\n",
        "\n",
        "print(\"After Swapping...\")\n",
        "print(\"A -\",a)\n",
        "print(\"B -\",b)"
      ],
      "metadata": {
        "colab": {
          "base_uri": "https://localhost:8080/"
        },
        "id": "n6CasH5trgdO",
        "outputId": "9846ddb5-9c98-4c55-f394-3bce4dce6d27"
      },
      "execution_count": null,
      "outputs": [
        {
          "output_type": "stream",
          "name": "stdout",
          "text": [
            "Before Swapping....\n",
            "A - 5\n",
            "B - 10\n",
            "After Swapping...\n",
            "A - 10\n",
            "B - 5\n"
          ]
        }
      ]
    },
    {
      "cell_type": "code",
      "source": [
        "a=10\n",
        "b=5\n",
        "\n",
        "\n",
        "print(\"Before Swapping....\")\n",
        "print(\"A -\",a)\n",
        "print(\"B -\",b)\n",
        "\n",
        "c=a   #a=10, c=10\n",
        "a=b   #b=10, a=10\n",
        "b=c   #c=5,b=5\n",
        "\n",
        "print(\"After Swapping....\")\n",
        "print(\"A -\",a)\n",
        "print(\"B -\",b)"
      ],
      "metadata": {
        "colab": {
          "base_uri": "https://localhost:8080/"
        },
        "id": "KFi88EBjslb1",
        "outputId": "2fff2e4a-f282-44af-bc18-1f591163c15d"
      },
      "execution_count": null,
      "outputs": [
        {
          "output_type": "stream",
          "name": "stdout",
          "text": [
            "Before Swapping....\n",
            "A - 10\n",
            "B - 5\n",
            "After Swapping....\n",
            "A - 5\n",
            "B - 10\n"
          ]
        }
      ]
    },
    {
      "cell_type": "code",
      "source": [
        "# Assignment Operator - +=,-=,*=,%=,/=,**=,//=\n",
        "\n",
        "a=5\n",
        "b=10\n",
        "\n",
        "c=a+b\n",
        "print(c)\n",
        "print(a+b)"
      ],
      "metadata": {
        "colab": {
          "base_uri": "https://localhost:8080/"
        },
        "id": "clX6SJm0tUGJ",
        "outputId": "333b98f6-09f6-4e95-b6b1-d36d355e5b12"
      },
      "execution_count": null,
      "outputs": [
        {
          "output_type": "stream",
          "name": "stdout",
          "text": [
            "15\n",
            "15\n"
          ]
        }
      ]
    },
    {
      "cell_type": "code",
      "source": [
        "a=10\n",
        "b=2\n",
        "\n",
        "# a+=b # a=a+b\n",
        "b+=a   # b=b+a\n",
        "\n",
        "print(a)\n",
        "print(b)"
      ],
      "metadata": {
        "colab": {
          "base_uri": "https://localhost:8080/"
        },
        "id": "PJC7d6X2tmVJ",
        "outputId": "cc432920-011a-4505-c767-868096914f77"
      },
      "execution_count": null,
      "outputs": [
        {
          "output_type": "stream",
          "name": "stdout",
          "text": [
            "10\n",
            "12\n"
          ]
        }
      ]
    },
    {
      "cell_type": "code",
      "source": [
        "a=10\n",
        "b=2\n",
        "\n",
        "# a+=b\n",
        "# a-=b\n",
        "# a*=b\n",
        "# a/=b\n",
        "# a%=b\n",
        "a//=b\n",
        "\n",
        "print(a)"
      ],
      "metadata": {
        "colab": {
          "base_uri": "https://localhost:8080/"
        },
        "id": "iB2WLsqqtlWf",
        "outputId": "c728eb13-f9ec-4dd8-9c5f-da76bde78d51"
      },
      "execution_count": null,
      "outputs": [
        {
          "output_type": "stream",
          "name": "stdout",
          "text": [
            "5\n"
          ]
        }
      ]
    },
    {
      "cell_type": "code",
      "source": [
        "a=5\n",
        "b=5\n",
        "\n",
        "a**=b\n",
        "print(a)"
      ],
      "metadata": {
        "colab": {
          "base_uri": "https://localhost:8080/"
        },
        "id": "HhEQ958kuHo1",
        "outputId": "538fbee9-a217-4a4a-9a0a-7dc32dc0c80b"
      },
      "execution_count": null,
      "outputs": [
        {
          "output_type": "stream",
          "name": "stdout",
          "text": [
            "3125\n"
          ]
        }
      ]
    },
    {
      "cell_type": "code",
      "source": [
        "# Comparison Operator - ==, !=, >, >=, <, <= - OP - True, Flase\n",
        "\n",
        "a=5\n",
        "b=5\n",
        "\n",
        "print(a!=b)\n",
        "print(a==b)\n",
        "print(a>b)\n",
        "print(a>=b)\n",
        "print(a<b)\n",
        "print(a<=b)"
      ],
      "metadata": {
        "colab": {
          "base_uri": "https://localhost:8080/"
        },
        "id": "gMAUAnmhuQ3D",
        "outputId": "bbda7ea4-ba9f-4080-dc5e-8a73d1d554da"
      },
      "execution_count": null,
      "outputs": [
        {
          "output_type": "stream",
          "name": "stdout",
          "text": [
            "False\n",
            "True\n",
            "False\n",
            "True\n",
            "False\n",
            "True\n"
          ]
        }
      ]
    },
    {
      "cell_type": "code",
      "source": [
        "# Logical Operators - and, or, not\n",
        "\n",
        "a=10\n",
        "b=15\n",
        "\n",
        "check=a<b and a<=b\n",
        "print(check)"
      ],
      "metadata": {
        "colab": {
          "base_uri": "https://localhost:8080/"
        },
        "id": "AOqV9KuRmA6-",
        "outputId": "efdf7288-fe6f-40fe-8e7e-e84688bed0d7"
      },
      "execution_count": null,
      "outputs": [
        {
          "output_type": "stream",
          "name": "stdout",
          "text": [
            "True\n"
          ]
        }
      ]
    },
    {
      "cell_type": "code",
      "source": [
        "a=5\n",
        "print(a>3 and a<10)\n"
      ],
      "metadata": {
        "colab": {
          "base_uri": "https://localhost:8080/"
        },
        "id": "FQcDns3PmlP3",
        "outputId": "09117df7-70f7-4f6d-9189-95bd625a8516"
      },
      "execution_count": null,
      "outputs": [
        {
          "output_type": "stream",
          "name": "stdout",
          "text": [
            "True\n"
          ]
        }
      ]
    },
    {
      "cell_type": "code",
      "source": [
        "a=5\n",
        "print(a>3 or a<4)"
      ],
      "metadata": {
        "colab": {
          "base_uri": "https://localhost:8080/"
        },
        "id": "Mn6zaKjwnA0P",
        "outputId": "08c7618a-5aac-45b6-93a9-b1015c428d62"
      },
      "execution_count": null,
      "outputs": [
        {
          "output_type": "stream",
          "name": "stdout",
          "text": [
            "True\n"
          ]
        }
      ]
    },
    {
      "cell_type": "code",
      "source": [
        "a=10\n",
        "b=15\n",
        "check=a<b or a>=b\n",
        "print(check)"
      ],
      "metadata": {
        "colab": {
          "base_uri": "https://localhost:8080/"
        },
        "id": "eksOvO34mkmO",
        "outputId": "c38244a5-e977-4199-c1ad-19f9600b938e"
      },
      "execution_count": null,
      "outputs": [
        {
          "output_type": "stream",
          "name": "stdout",
          "text": [
            "True\n"
          ]
        }
      ]
    },
    {
      "cell_type": "code",
      "source": [
        "a=5\n",
        "b=10\n",
        "print(not(a==b))"
      ],
      "metadata": {
        "colab": {
          "base_uri": "https://localhost:8080/"
        },
        "id": "NJ_Xk2tbnLZ5",
        "outputId": "df03b247-a6f4-44e5-fb88-cbe4f5513b47"
      },
      "execution_count": null,
      "outputs": [
        {
          "output_type": "stream",
          "name": "stdout",
          "text": [
            "True\n"
          ]
        }
      ]
    },
    {
      "cell_type": "code",
      "source": [
        "# Identity Operators - is, is not\n",
        "\n",
        "# compare the objects\n",
        "\n",
        "a=[\"Python\", \"AI\"]\n",
        "b=[\"Python\", \"AI\"]\n",
        "c=a\n",
        "\n",
        "print(a is c)   # returns True because c is the same object as a\n",
        "\n",
        "print(a is b)   # returns False because a is not the some object as b, even if they have the same content\n",
        "\n",
        "print(a==b)\n",
        "print(a==c)"
      ],
      "metadata": {
        "colab": {
          "base_uri": "https://localhost:8080/"
        },
        "id": "iyieKpnrnefn",
        "outputId": "82d26572-72ce-49b6-9b5d-b3467db44c5f"
      },
      "execution_count": null,
      "outputs": [
        {
          "output_type": "stream",
          "name": "stdout",
          "text": [
            "True\n",
            "False\n",
            "True\n",
            "True\n"
          ]
        }
      ]
    },
    {
      "cell_type": "code",
      "source": [
        "x=[\"Python\", \"AI\"]\n",
        "y=[\"Python\", \"AI\"]\n",
        "z=x\n",
        "\n",
        "print(x is not z)  # returns False because z is the some obejct as x\n",
        "\n",
        "print(x is not y)   # return True bacause x in not the some object as y, even if they have the same content\n",
        "\n",
        "print(x!=y)"
      ],
      "metadata": {
        "colab": {
          "base_uri": "https://localhost:8080/"
        },
        "id": "iptJ5kwqobwQ",
        "outputId": "69c4fea6-24b6-4f65-cfff-ed23ee8f45b9"
      },
      "execution_count": null,
      "outputs": [
        {
          "output_type": "stream",
          "name": "stdout",
          "text": [
            "False\n",
            "True\n",
            "False\n"
          ]
        }
      ]
    },
    {
      "cell_type": "code",
      "source": [
        "# Membershipt Operators - in, not in\n",
        "\n",
        "x=[\"Python\", \"AI\"]\n",
        "print(\"NLP\" in x)\n",
        "print(\"AI\" in x)"
      ],
      "metadata": {
        "colab": {
          "base_uri": "https://localhost:8080/"
        },
        "id": "JJDu57kwo-iy",
        "outputId": "df62961b-c8f8-42bb-db30-7b5720cb7a62"
      },
      "execution_count": null,
      "outputs": [
        {
          "output_type": "stream",
          "name": "stdout",
          "text": [
            "False\n",
            "True\n"
          ]
        }
      ]
    },
    {
      "cell_type": "code",
      "source": [
        "x=[\"Python\", \"Java\"]\n",
        "print(\"AI\" not in x)\n",
        "print(\"Java\" not in x)"
      ],
      "metadata": {
        "colab": {
          "base_uri": "https://localhost:8080/"
        },
        "id": "daQ3p4sjpSD9",
        "outputId": "c5304cb5-61d0-46a6-bfcd-ff429a197c60"
      },
      "execution_count": null,
      "outputs": [
        {
          "output_type": "stream",
          "name": "stdout",
          "text": [
            "True\n",
            "False\n"
          ]
        }
      ]
    },
    {
      "cell_type": "code",
      "source": [
        "# Celsius to Fahrenheit\n",
        "\n",
        "c=float(input(\"Enter temp in Centigrade \"))\n",
        "f=(c*9/5)+32\n",
        "print(f)"
      ],
      "metadata": {
        "colab": {
          "base_uri": "https://localhost:8080/"
        },
        "id": "gQyfWtjypn1N",
        "outputId": "a78c3f1c-24f4-450b-8570-87a842ceab79"
      },
      "execution_count": null,
      "outputs": [
        {
          "output_type": "stream",
          "name": "stdout",
          "text": [
            "Enter temp in Centigrade 33.2\n",
            "91.76\n"
          ]
        }
      ]
    },
    {
      "cell_type": "code",
      "source": [
        "c=float(input(\"Enter temp in Centigrade \"))\n",
        "f=(1.8*c)+32\n",
        "print(f)"
      ],
      "metadata": {
        "colab": {
          "base_uri": "https://localhost:8080/"
        },
        "id": "2YREih4JqElW",
        "outputId": "e7b8f876-fafa-4ccd-b68c-34820b67fd70"
      },
      "execution_count": null,
      "outputs": [
        {
          "output_type": "stream",
          "name": "stdout",
          "text": [
            "Enter temp in Centigrade 33.2\n",
            "91.76\n"
          ]
        }
      ]
    },
    {
      "cell_type": "code",
      "source": [
        "# Fahrenheit to Celsius\n",
        "\n",
        "f=float(input(\"Enter temp in Fahrenheit \"))\n",
        "c=((f-32)*5/9)\n",
        "print(c)"
      ],
      "metadata": {
        "colab": {
          "base_uri": "https://localhost:8080/"
        },
        "id": "cHNiwqV1qV-O",
        "outputId": "7f89e992-a1dc-431c-d1d6-477abe7d6b88"
      },
      "execution_count": null,
      "outputs": [
        {
          "output_type": "stream",
          "name": "stdout",
          "text": [
            "Enter temp in Fahrenheit 98\n",
            "36.666666666666664\n"
          ]
        }
      ]
    },
    {
      "cell_type": "code",
      "source": [
        "# Interest Calculate\n",
        "\n",
        "p=int(input(\"Enter Principal Amount \"))\n",
        "r=float(input(\"Enter Rate \"))\n",
        "t=int(input(\"Enter Time \"))\n",
        "\n",
        "answer=(p*r*t)/100\n",
        "print(answer)"
      ],
      "metadata": {
        "colab": {
          "base_uri": "https://localhost:8080/"
        },
        "id": "d8lTuXhIquL-",
        "outputId": "d9466cd7-ab42-4f47-931e-2d1e36eba3a1"
      },
      "execution_count": null,
      "outputs": [
        {
          "output_type": "stream",
          "name": "stdout",
          "text": [
            "Enter Principal Amount 400000\n",
            "Enter Rate 5\n",
            "Enter Time 1\n",
            "20000.0\n"
          ]
        }
      ]
    },
    {
      "cell_type": "code",
      "source": [
        "# Area of Circle\n",
        "\n",
        "radius=int(input(\"Enter Radius of the Circle \"))\n",
        "area=3.14*radius**2\n",
        "print(area)"
      ],
      "metadata": {
        "colab": {
          "base_uri": "https://localhost:8080/"
        },
        "id": "JFeKQABZrcvu",
        "outputId": "99b699de-be1e-4586-8f16-af18c43c9f66"
      },
      "execution_count": null,
      "outputs": [
        {
          "output_type": "stream",
          "name": "stdout",
          "text": [
            "Enter Radius of the Circle 4\n",
            "50.24\n"
          ]
        }
      ]
    },
    {
      "cell_type": "code",
      "source": [
        "# Area of Triangle, Salary Calculate, Area of Rectangle, Area of Square"
      ],
      "metadata": {
        "id": "uVlwrep2ryeE"
      },
      "execution_count": null,
      "outputs": []
    },
    {
      "cell_type": "code",
      "source": [
        "# Unit 2 - Control STM, Contidion STM\n",
        "\n",
        "# 1.if\n",
        "# 2.if...else\n",
        "# 3.nested if...else\n",
        "# 4.ladder if...else\n",
        "\n",
        "mark=int(input(\"Enter the Mark \"))\n",
        "if(mark>=35):\n",
        "  print(\"Pass\")\n",
        "\n",
        "if(mark<35):\n",
        "  print(\"Fail\")"
      ],
      "metadata": {
        "colab": {
          "base_uri": "https://localhost:8080/"
        },
        "id": "yiURYeFer76R",
        "outputId": "61f2fcb1-180c-4cff-cc86-16ce9e571b8d"
      },
      "execution_count": null,
      "outputs": [
        {
          "output_type": "stream",
          "name": "stdout",
          "text": [
            "Enter the Mark 10\n",
            "Fail\n"
          ]
        }
      ]
    },
    {
      "cell_type": "code",
      "source": [
        "mark=int(input(\"Enter the Mark \"))\n",
        "if(mark>=35):\n",
        "  print(\"Pass\")\n",
        "else:\n",
        "  print(\"Fail\")"
      ],
      "metadata": {
        "colab": {
          "base_uri": "https://localhost:8080/"
        },
        "id": "idpMRvQRtjBm",
        "outputId": "5779e5a9-d44d-4300-c979-aafcae88f0df"
      },
      "execution_count": null,
      "outputs": [
        {
          "output_type": "stream",
          "name": "stdout",
          "text": [
            "Enter the Mark 80\n",
            "Pass\n"
          ]
        }
      ]
    },
    {
      "cell_type": "code",
      "source": [
        "age=int(input(\"Enter the Age \"))\n",
        "if(age>=18):\n",
        "  print(\"VE\")\n",
        "else:\n",
        "  print(\"NVE\")"
      ],
      "metadata": {
        "colab": {
          "base_uri": "https://localhost:8080/"
        },
        "id": "tzaJOWknt5pk",
        "outputId": "430ebcaf-5a40-4c9c-8447-a2fb3a1c384e"
      },
      "execution_count": null,
      "outputs": [
        {
          "output_type": "stream",
          "name": "stdout",
          "text": [
            "Enter the Age 10\n",
            "NVE\n"
          ]
        }
      ]
    },
    {
      "cell_type": "code",
      "source": [
        "number=int(input(\"Enter the Number \"))\n",
        "\n",
        "if(number%2==0):\n",
        "  print(number, \"- Even Number\")\n",
        "else:\n",
        "  print(number, \"- Odd Number\")"
      ],
      "metadata": {
        "colab": {
          "base_uri": "https://localhost:8080/"
        },
        "id": "N5LYkqa6uiX3",
        "outputId": "cbd0c0e1-40e5-4d5f-a4e6-47436628dbf1"
      },
      "execution_count": null,
      "outputs": [
        {
          "output_type": "stream",
          "name": "stdout",
          "text": [
            "Enter the Number 3\n",
            "3 - Odd Number\n"
          ]
        }
      ]
    },
    {
      "cell_type": "code",
      "source": [
        "number=int(input(\"Enter the Number \"))\n",
        "\n",
        "if(number%2!=0):\n",
        "  print(number, \"- Odd Number\")\n",
        "else:\n",
        "  print(number, \"- Even Number\")"
      ],
      "metadata": {
        "colab": {
          "base_uri": "https://localhost:8080/"
        },
        "id": "Q5DA65-bu3fh",
        "outputId": "6ee98570-17d5-4b21-d0f7-9f54d30d3458"
      },
      "execution_count": null,
      "outputs": [
        {
          "output_type": "stream",
          "name": "stdout",
          "text": [
            "Enter the Number 10\n",
            "10 - Even Number\n"
          ]
        }
      ]
    },
    {
      "cell_type": "code",
      "source": [
        "year=int(input(\"Enter the Year \"))\n",
        "\n",
        "if(year%4==0):\n",
        "  print(year,\"- Leap Year\")\n",
        "else:\n",
        "  print(year,\" - Not Leap Year\")"
      ],
      "metadata": {
        "colab": {
          "base_uri": "https://localhost:8080/"
        },
        "id": "w69ygyaAvIxh",
        "outputId": "256ee4c7-1116-4692-92bc-e2c7341cc947"
      },
      "execution_count": null,
      "outputs": [
        {
          "output_type": "stream",
          "name": "stdout",
          "text": [
            "Enter the Year 2028\n",
            "2028 - Leap Year\n"
          ]
        }
      ]
    },
    {
      "cell_type": "code",
      "source": [
        "a=int(input(\"Enter the A Value \"))\n",
        "b=int(input(\"Enter the B Value \"))\n",
        "if(a>b):\n",
        "  print(\"A is Biggest Value\")\n",
        "else:\n",
        "  print(\"B is Biggest Value\")"
      ],
      "metadata": {
        "colab": {
          "base_uri": "https://localhost:8080/"
        },
        "id": "rfL8YSt-vly3",
        "outputId": "65184a54-9fef-4fe8-8968-06cf80099576"
      },
      "execution_count": null,
      "outputs": [
        {
          "output_type": "stream",
          "name": "stdout",
          "text": [
            "Enter the A Value 20\n",
            "Enter the B Value 2\n",
            "A is Biggest Value\n"
          ]
        }
      ]
    },
    {
      "cell_type": "code",
      "source": [
        "number=int(input(\"Enter the Number \"))\n",
        "if(number>0):\n",
        "  print(\"+ve\")\n",
        "elif(number<0):\n",
        "  print(\"-ve\")\n",
        "# elif(number==0):\n",
        "#   print(\"Zero\")\n",
        "\n",
        "else:\n",
        "  print(\"Zero\")"
      ],
      "metadata": {
        "colab": {
          "base_uri": "https://localhost:8080/"
        },
        "id": "1wTphmxYwYGP",
        "outputId": "c12775a4-411d-41c3-e08e-2cf9bb4ccf06"
      },
      "execution_count": null,
      "outputs": [
        {
          "output_type": "stream",
          "name": "stdout",
          "text": [
            "Enter the Number 0\n",
            "Zero\n"
          ]
        }
      ]
    },
    {
      "cell_type": "code",
      "source": [
        "a=int(input(\"Enter the A Value \"))\n",
        "b=int(input(\"Enter the B Value \"))\n",
        "c=int(input(\"Enter the C Value \"))\n",
        "\n",
        "if(a>b and a>c):\n",
        "  print(\"A is Biggest Value\")\n",
        "elif(b>a and b>c):\n",
        "  print(\"B is Biggest Value\")\n",
        "elif(c>a and c>b):\n",
        "  print(\"C is Biggest Value\")\n",
        "else:\n",
        "  print(\"A, B, C Some  Value\")"
      ],
      "metadata": {
        "colab": {
          "base_uri": "https://localhost:8080/"
        },
        "id": "pkr_uc09wW8d",
        "outputId": "62e80cac-854b-4a99-fd65-72ae6ebeee09"
      },
      "execution_count": null,
      "outputs": [
        {
          "output_type": "stream",
          "name": "stdout",
          "text": [
            "Enter the A Value 10\n",
            "Enter the B Value 10\n",
            "Enter the C Value 10\n",
            "A, B, C Some Value\n"
          ]
        }
      ]
    },
    {
      "cell_type": "code",
      "source": [
        "a=500\n",
        "b=100\n",
        "c=15\n",
        "\n",
        "if(a>b):\n",
        "  if(a>c):\n",
        "    print(\"A is Biggest Value\")\n",
        "  else:\n",
        "    print(\"C is Biggest Value\")\n",
        "else:\n",
        "  if(b>c):\n",
        "    print(\"B is Biggest Value\")\n",
        "  else:\n",
        "    print(\"C is Biggest Value\")"
      ],
      "metadata": {
        "colab": {
          "base_uri": "https://localhost:8080/"
        },
        "id": "7salUt5NyX6v",
        "outputId": "ff05f20e-88e6-407b-c01d-551c85b03b4b"
      },
      "execution_count": null,
      "outputs": [
        {
          "output_type": "stream",
          "name": "stdout",
          "text": [
            "A is Biggest Value\n"
          ]
        }
      ]
    },
    {
      "cell_type": "code",
      "source": [
        "# Unit - 3 - Loop STM\n",
        "\n",
        "# 1. for loop\n",
        "# 2. while loop\n",
        "\n",
        "\n",
        "# for varible in sequence:\n",
        "#   statements\n",
        "\n",
        "for i in range(1,5):    # 1>5 - 1,2,3,4\n",
        "  print(i)"
      ],
      "metadata": {
        "colab": {
          "base_uri": "https://localhost:8080/"
        },
        "id": "9hpO8Rhr0fwh",
        "outputId": "4ee60458-3b58-4632-af5b-b04872d4b543"
      },
      "execution_count": null,
      "outputs": [
        {
          "output_type": "stream",
          "name": "stdout",
          "text": [
            "1\n",
            "2\n",
            "3\n",
            "4\n"
          ]
        }
      ]
    },
    {
      "cell_type": "code",
      "source": [
        "for i in range(1,5):\n",
        "  print(\"Welcome to Credo Systemz - Python Session\")"
      ],
      "metadata": {
        "colab": {
          "base_uri": "https://localhost:8080/"
        },
        "id": "yjIg2aUV09WU",
        "outputId": "b9155e09-38ec-4b50-e328-0c5b03bf393c"
      },
      "execution_count": null,
      "outputs": [
        {
          "output_type": "stream",
          "name": "stdout",
          "text": [
            "Welcome to Credo Systemz - Python Session\n",
            "Welcome to Credo Systemz - Python Session\n",
            "Welcome to Credo Systemz - Python Session\n",
            "Welcome to Credo Systemz - Python Session\n"
          ]
        }
      ]
    },
    {
      "cell_type": "code",
      "source": [
        "topics=[\"Core Python\", \"OOPS Python\", \"Collections\", \"GUI\", \"Database - SQLite\"]\n",
        "\n",
        "for syllabus in topics:\n",
        "  print(syllabus)"
      ],
      "metadata": {
        "colab": {
          "base_uri": "https://localhost:8080/"
        },
        "id": "WjWrPgr11FrE",
        "outputId": "9731a8f6-63f1-4a2b-e474-85aee656bce9"
      },
      "execution_count": null,
      "outputs": [
        {
          "output_type": "stream",
          "name": "stdout",
          "text": [
            "Core Python\n",
            "OOPS Python\n",
            "Collections\n",
            "GUI\n",
            "Database - SQLite\n"
          ]
        }
      ]
    },
    {
      "cell_type": "code",
      "source": [
        "word=\"Sridhar\"\n",
        "\n",
        "for answer in word:\n",
        "  print(answer)"
      ],
      "metadata": {
        "colab": {
          "base_uri": "https://localhost:8080/"
        },
        "id": "eYbuuJno1Z7x",
        "outputId": "ddbb13ae-3463-4aec-b441-a03f468753a6"
      },
      "execution_count": null,
      "outputs": [
        {
          "output_type": "stream",
          "name": "stdout",
          "text": [
            "S\n",
            "r\n",
            "i\n",
            "d\n",
            "h\n",
            "a\n",
            "r\n"
          ]
        }
      ]
    },
    {
      "cell_type": "code",
      "source": [
        "for i in range(1,11):\n",
        "  print(i,\"* 5 =\", i*5)"
      ],
      "metadata": {
        "colab": {
          "base_uri": "https://localhost:8080/"
        },
        "id": "FFM_2ZmL1ypA",
        "outputId": "500bba58-29d1-4638-8cae-973716fe47c4"
      },
      "execution_count": null,
      "outputs": [
        {
          "output_type": "stream",
          "name": "stdout",
          "text": [
            "1 * 5 = 5\n",
            "2 * 5 = 10\n",
            "3 * 5 = 15\n",
            "4 * 5 = 20\n",
            "5 * 5 = 25\n",
            "6 * 5 = 30\n",
            "7 * 5 = 35\n",
            "8 * 5 = 40\n",
            "9 * 5 = 45\n",
            "10 * 5 = 50\n"
          ]
        }
      ]
    },
    {
      "cell_type": "code",
      "source": [
        "# while loop\n",
        "\n",
        "# while (condition):\n",
        "      #  statements\n",
        "\n",
        "\n",
        "i=1\n",
        "while(i<=5):\n",
        "  print(i)\n",
        "  i+=1"
      ],
      "metadata": {
        "colab": {
          "base_uri": "https://localhost:8080/"
        },
        "id": "GUUCF--12MBA",
        "outputId": "63da014f-487a-4fad-d7ed-3139575fd4bb"
      },
      "execution_count": null,
      "outputs": [
        {
          "output_type": "stream",
          "name": "stdout",
          "text": [
            "1\n",
            "2\n",
            "3\n",
            "4\n",
            "5\n"
          ]
        }
      ]
    },
    {
      "cell_type": "code",
      "source": [
        "i=1\n",
        "\n",
        "while(i<=5):\n",
        "  print(\"Welcome to Credo Systemz\")\n",
        "  i+=1"
      ],
      "metadata": {
        "colab": {
          "base_uri": "https://localhost:8080/"
        },
        "id": "hmLvjxt42kZs",
        "outputId": "ccf8045e-97f6-4ed0-87f2-4bb051b020e0"
      },
      "execution_count": null,
      "outputs": [
        {
          "output_type": "stream",
          "name": "stdout",
          "text": [
            "Welcome to Credo Systemz\n",
            "Welcome to Credo Systemz\n",
            "Welcome to Credo Systemz\n",
            "Welcome to Credo Systemz\n",
            "Welcome to Credo Systemz\n"
          ]
        }
      ]
    },
    {
      "cell_type": "code",
      "source": [
        "for x in range(1,6):\n",
        "  for y in range(1,6):\n",
        "    print(\"*\", end=\" \")\n",
        "  print()"
      ],
      "metadata": {
        "colab": {
          "base_uri": "https://localhost:8080/"
        },
        "id": "whn9SyHVe4gv",
        "outputId": "bf86c294-c639-49d5-b463-99c4843cca0f"
      },
      "execution_count": null,
      "outputs": [
        {
          "output_type": "stream",
          "name": "stdout",
          "text": [
            "* * * * * \n",
            "* * * * * \n",
            "* * * * * \n",
            "* * * * * \n",
            "* * * * * \n"
          ]
        }
      ]
    },
    {
      "cell_type": "code",
      "source": [
        "for x in range(1,6):\n",
        "  for y in range(1,6):\n",
        "    print(x, end=\" \")\n",
        "  print()"
      ],
      "metadata": {
        "colab": {
          "base_uri": "https://localhost:8080/"
        },
        "id": "W2m9KtyjheT0",
        "outputId": "0a24252d-f915-40a2-b662-09c3591c0b3e"
      },
      "execution_count": null,
      "outputs": [
        {
          "output_type": "stream",
          "name": "stdout",
          "text": [
            "1 1 1 1 1 \n",
            "2 2 2 2 2 \n",
            "3 3 3 3 3 \n",
            "4 4 4 4 4 \n",
            "5 5 5 5 5 \n"
          ]
        }
      ]
    },
    {
      "cell_type": "code",
      "source": [
        "for x in range(1,6):\n",
        "  for y in range(1,6):\n",
        "    print(y, end=\" \")\n",
        "  print()"
      ],
      "metadata": {
        "colab": {
          "base_uri": "https://localhost:8080/"
        },
        "id": "JhJ_ZBgnhs7b",
        "outputId": "4c852009-92f4-4ba7-9c40-20b1149324fd"
      },
      "execution_count": null,
      "outputs": [
        {
          "output_type": "stream",
          "name": "stdout",
          "text": [
            "1 2 3 4 5 \n",
            "1 2 3 4 5 \n",
            "1 2 3 4 5 \n",
            "1 2 3 4 5 \n",
            "1 2 3 4 5 \n"
          ]
        }
      ]
    },
    {
      "cell_type": "code",
      "source": [
        "for x in range(5, 0, -1):\n",
        "  for y in range(5,0,-1):\n",
        "    print(x, end=\" \")\n",
        "  print()"
      ],
      "metadata": {
        "colab": {
          "base_uri": "https://localhost:8080/"
        },
        "id": "JBnBYGBliJ9Z",
        "outputId": "ff287b56-4dcf-49ad-a704-7723810e1f71"
      },
      "execution_count": null,
      "outputs": [
        {
          "output_type": "stream",
          "name": "stdout",
          "text": [
            "5 5 5 5 5 \n",
            "4 4 4 4 4 \n",
            "3 3 3 3 3 \n",
            "2 2 2 2 2 \n",
            "1 1 1 1 1 \n"
          ]
        }
      ]
    },
    {
      "cell_type": "code",
      "source": [
        "for x in range(5, 0, -1):\n",
        "  for y in range(5,0,-1):\n",
        "    print(y, end=\" \")\n",
        "  print()"
      ],
      "metadata": {
        "colab": {
          "base_uri": "https://localhost:8080/"
        },
        "id": "NVu-hw_oifR0",
        "outputId": "6df3558f-b7a8-41dc-f610-f6b5bfe28916"
      },
      "execution_count": null,
      "outputs": [
        {
          "output_type": "stream",
          "name": "stdout",
          "text": [
            "5 4 3 2 1 \n",
            "5 4 3 2 1 \n",
            "5 4 3 2 1 \n",
            "5 4 3 2 1 \n",
            "5 4 3 2 1 \n"
          ]
        }
      ]
    },
    {
      "cell_type": "code",
      "source": [
        "k=1\n",
        "for x in range(1, 6):\n",
        "  for y in range(1,6):\n",
        "    print(k, end=\" \")\n",
        "    k+=1\n",
        "  print()\n"
      ],
      "metadata": {
        "colab": {
          "base_uri": "https://localhost:8080/"
        },
        "id": "m1_tPFZli2yM",
        "outputId": "a89c78d8-74e5-450c-b9a6-70221d8e273b"
      },
      "execution_count": null,
      "outputs": [
        {
          "output_type": "stream",
          "name": "stdout",
          "text": [
            "1 2 3 4 5 \n",
            "6 7 8 9 10 \n",
            "11 12 13 14 15 \n",
            "16 17 18 19 20 \n",
            "21 22 23 24 25 \n"
          ]
        }
      ]
    },
    {
      "cell_type": "code",
      "source": [
        "k=2\n",
        "for x in range(1, 6):\n",
        "  for y in range(1,6):\n",
        "    print(k, end=\" \")\n",
        "    k+=2\n",
        "  print()\n"
      ],
      "metadata": {
        "colab": {
          "base_uri": "https://localhost:8080/"
        },
        "id": "bc4qcdJUjURI",
        "outputId": "4ac0d165-fb48-47ff-f46c-35f584a280ff"
      },
      "execution_count": null,
      "outputs": [
        {
          "output_type": "stream",
          "name": "stdout",
          "text": [
            "2 4 6 8 10 \n",
            "12 14 16 18 20 \n",
            "22 24 26 28 30 \n",
            "32 34 36 38 40 \n",
            "42 44 46 48 50 \n"
          ]
        }
      ]
    },
    {
      "cell_type": "code",
      "source": [
        "k=1\n",
        "for x in range(1, 6):\n",
        "  for y in range(1,6):\n",
        "    print(k, end=\" \")\n",
        "    k+=2\n",
        "  print()\n"
      ],
      "metadata": {
        "colab": {
          "base_uri": "https://localhost:8080/"
        },
        "id": "mW9JuKbAjewA",
        "outputId": "97da82ac-a87d-4b10-85ae-ca8dc6ece839"
      },
      "execution_count": null,
      "outputs": [
        {
          "output_type": "stream",
          "name": "stdout",
          "text": [
            "1 3 5 7 9 \n",
            "11 13 15 17 19 \n",
            "21 23 25 27 29 \n",
            "31 33 35 37 39 \n",
            "41 43 45 47 49 \n"
          ]
        }
      ]
    },
    {
      "cell_type": "code",
      "source": [
        "for x in 'ABCDE':\n",
        "  for y in 'ABCDE':\n",
        "    print(x, end=\" \")\n",
        "  print()"
      ],
      "metadata": {
        "colab": {
          "base_uri": "https://localhost:8080/"
        },
        "id": "CTKwNJ8ejola",
        "outputId": "aa45cfc7-995f-46bc-e653-72eabf753444"
      },
      "execution_count": null,
      "outputs": [
        {
          "output_type": "stream",
          "name": "stdout",
          "text": [
            "A A A A A \n",
            "B B B B B \n",
            "C C C C C \n",
            "D D D D D \n",
            "E E E E E \n"
          ]
        }
      ]
    },
    {
      "cell_type": "code",
      "source": [
        "for x in range(65, 70):\n",
        "  for y in range(1,6):\n",
        "    print(chr(x), end=\" \")\n",
        "  print()"
      ],
      "metadata": {
        "colab": {
          "base_uri": "https://localhost:8080/"
        },
        "id": "9GKjHOwXj_rn",
        "outputId": "b77a52f2-c58d-4621-c5dd-449cb3da7227"
      },
      "execution_count": null,
      "outputs": [
        {
          "output_type": "stream",
          "name": "stdout",
          "text": [
            "A A A A A \n",
            "B B B B B \n",
            "C C C C C \n",
            "D D D D D \n",
            "E E E E E \n"
          ]
        }
      ]
    },
    {
      "cell_type": "code",
      "source": [
        "for x in 'ABCDE':\n",
        "  for y in 'ABCDE':\n",
        "    print(y, end=\" \")\n",
        "  print()"
      ],
      "metadata": {
        "colab": {
          "base_uri": "https://localhost:8080/"
        },
        "id": "FSc7zLI1kU5n",
        "outputId": "7c7513ae-0a62-485e-f24f-9d7df9441a09"
      },
      "execution_count": null,
      "outputs": [
        {
          "output_type": "stream",
          "name": "stdout",
          "text": [
            "A B C D E \n",
            "A B C D E \n",
            "A B C D E \n",
            "A B C D E \n",
            "A B C D E \n"
          ]
        }
      ]
    },
    {
      "cell_type": "code",
      "source": [
        "for x in range(1,6):\n",
        "  for y in range(65,70):\n",
        "    print(chr(y), end=\" \")\n",
        "  print()"
      ],
      "metadata": {
        "colab": {
          "base_uri": "https://localhost:8080/"
        },
        "id": "IgUNhZG7kg15",
        "outputId": "f2675020-809f-4603-d9bd-63efbf19c92c"
      },
      "execution_count": null,
      "outputs": [
        {
          "output_type": "stream",
          "name": "stdout",
          "text": [
            "A B C D E \n",
            "A B C D E \n",
            "A B C D E \n",
            "A B C D E \n",
            "A B C D E \n"
          ]
        }
      ]
    },
    {
      "cell_type": "code",
      "source": [
        "for x in range(1,6):\n",
        "  for y in range(1,x+1):\n",
        "    print(\"*\", end=\" \")\n",
        "  print()"
      ],
      "metadata": {
        "colab": {
          "base_uri": "https://localhost:8080/"
        },
        "id": "0o7if8PBlTB7",
        "outputId": "2f0fd7a5-2d92-4c82-f819-e7053c22f4fb"
      },
      "execution_count": null,
      "outputs": [
        {
          "output_type": "stream",
          "name": "stdout",
          "text": [
            "* \n",
            "* * \n",
            "* * * \n",
            "* * * * \n",
            "* * * * * \n"
          ]
        }
      ]
    },
    {
      "cell_type": "code",
      "source": [
        "for x in range(1,6):\n",
        "  for y in range(1,x+1):\n",
        "    print(x, end=\" \")\n",
        "  print()"
      ],
      "metadata": {
        "colab": {
          "base_uri": "https://localhost:8080/"
        },
        "id": "_PsH3voNlxbB",
        "outputId": "903623d2-5453-46eb-a1ea-2bd27507b024"
      },
      "execution_count": null,
      "outputs": [
        {
          "output_type": "stream",
          "name": "stdout",
          "text": [
            "1 \n",
            "2 2 \n",
            "3 3 3 \n",
            "4 4 4 4 \n",
            "5 5 5 5 5 \n"
          ]
        }
      ]
    },
    {
      "cell_type": "code",
      "source": [
        "for x in range(1,6):\n",
        "  for y in range(1,x+1):\n",
        "    print(y, end=\" \")\n",
        "  print()"
      ],
      "metadata": {
        "colab": {
          "base_uri": "https://localhost:8080/"
        },
        "id": "R5TEG7L2l0gD",
        "outputId": "d21c84ff-cef8-415f-ceb0-77c64daedad7"
      },
      "execution_count": null,
      "outputs": [
        {
          "output_type": "stream",
          "name": "stdout",
          "text": [
            "1 \n",
            "1 2 \n",
            "1 2 3 \n",
            "1 2 3 4 \n",
            "1 2 3 4 5 \n"
          ]
        }
      ]
    },
    {
      "cell_type": "code",
      "source": [
        "for x in range(5,0,-1):\n",
        "  for y in range(6, x,-1):\n",
        "    print(x, end=\" \")\n",
        "  print()"
      ],
      "metadata": {
        "colab": {
          "base_uri": "https://localhost:8080/"
        },
        "id": "4IuEoSTHmAFz",
        "outputId": "41dbb31f-78ec-416f-d4e3-355bfc8f711e"
      },
      "execution_count": null,
      "outputs": [
        {
          "output_type": "stream",
          "name": "stdout",
          "text": [
            "5 \n",
            "4 4 \n",
            "3 3 3 \n",
            "2 2 2 2 \n",
            "1 1 1 1 1 \n"
          ]
        }
      ]
    },
    {
      "cell_type": "code",
      "source": [
        "for x in range(5,0,-1):\n",
        "  for y in range(5,x-1,-1):\n",
        "    print(y, end=\" \")\n",
        "  print()"
      ],
      "metadata": {
        "colab": {
          "base_uri": "https://localhost:8080/"
        },
        "id": "HSB6hC9xmNUl",
        "outputId": "547dec30-464f-4b21-fcb5-1fa494600c1c"
      },
      "execution_count": null,
      "outputs": [
        {
          "output_type": "stream",
          "name": "stdout",
          "text": [
            "5 \n",
            "5 4 \n",
            "5 4 3 \n",
            "5 4 3 2 \n",
            "5 4 3 2 1 \n"
          ]
        }
      ]
    },
    {
      "cell_type": "code",
      "source": [
        "# Task\n",
        "\n",
        "# 5\n",
        "# 4 5\n",
        "# 3 4 5\n",
        "# 2 3 4 5\n",
        "# 1 2 3 4 5\n",
        "\n",
        "# A\n",
        "# A B\n",
        "# A B C\n",
        "# A B c D\n",
        "# A B C D E"
      ],
      "metadata": {
        "id": "-tGudevpmeoK"
      },
      "execution_count": null,
      "outputs": []
    },
    {
      "cell_type": "code",
      "source": [
        "for x in range(1,6):\n",
        "  for y in range(6, x,-1):\n",
        "    print(\"*\", end=\" \")\n",
        "  print()"
      ],
      "metadata": {
        "colab": {
          "base_uri": "https://localhost:8080/"
        },
        "id": "8T4xIpHLm4J3",
        "outputId": "b0b8b373-ff31-4bb4-aa6f-8e2f3364fbb6"
      },
      "execution_count": null,
      "outputs": [
        {
          "output_type": "stream",
          "name": "stdout",
          "text": [
            "* * * * * \n",
            "* * * * \n",
            "* * * \n",
            "* * \n",
            "* \n"
          ]
        }
      ]
    },
    {
      "cell_type": "code",
      "source": [
        "for x in range(1,6):\n",
        "  for y in range(5,x-1, -1):\n",
        "    print(x, end=\" \")\n",
        "  print()"
      ],
      "metadata": {
        "colab": {
          "base_uri": "https://localhost:8080/"
        },
        "id": "AfAdUCRinIFy",
        "outputId": "7d22612b-260d-4a6d-bd50-c47c6f287a8e"
      },
      "execution_count": null,
      "outputs": [
        {
          "output_type": "stream",
          "name": "stdout",
          "text": [
            "1 1 1 1 1 \n",
            "2 2 2 2 \n",
            "3 3 3 \n",
            "4 4 \n",
            "5 \n"
          ]
        }
      ]
    },
    {
      "cell_type": "code",
      "source": [
        "for x in range(6,1,-1):\n",
        "  for y in range(1,x):\n",
        "    print(y, end=\" \")\n",
        "  print()"
      ],
      "metadata": {
        "colab": {
          "base_uri": "https://localhost:8080/"
        },
        "id": "XP8Xpjl3ndTq",
        "outputId": "ed2e7c87-5505-4df0-aac1-1082fb73e615"
      },
      "execution_count": null,
      "outputs": [
        {
          "output_type": "stream",
          "name": "stdout",
          "text": [
            "1 2 3 4 5 \n",
            "1 2 3 4 \n",
            "1 2 3 \n",
            "1 2 \n",
            "1 \n"
          ]
        }
      ]
    },
    {
      "cell_type": "code",
      "source": [
        "print(\"Welcome to Credo Systemz\")"
      ],
      "metadata": {
        "colab": {
          "base_uri": "https://localhost:8080/"
        },
        "id": "Ivf_jtBunx9e",
        "outputId": "01e9ab97-14a0-4717-93fa-40801c3dfc5d"
      },
      "execution_count": null,
      "outputs": [
        {
          "output_type": "stream",
          "name": "stdout",
          "text": [
            "Welcome to Credo Systemz\n"
          ]
        }
      ]
    },
    {
      "cell_type": "code",
      "source": [
        "print('Welcome to Credo Systemz')"
      ],
      "metadata": {
        "colab": {
          "base_uri": "https://localhost:8080/"
        },
        "id": "kZW1GX9sn6bF",
        "outputId": "89a335f9-8a20-4099-de75-4a86c80cd0f4"
      },
      "execution_count": null,
      "outputs": [
        {
          "output_type": "stream",
          "name": "stdout",
          "text": [
            "Welcome to Credo Systemz\n"
          ]
        }
      ]
    },
    {
      "cell_type": "code",
      "source": [
        "print('Welcome to \"Credo Systemz\"')"
      ],
      "metadata": {
        "colab": {
          "base_uri": "https://localhost:8080/"
        },
        "id": "A1c5SeAVoBrX",
        "outputId": "924dfe18-d3de-4456-bd88-c4150d502a2a"
      },
      "execution_count": null,
      "outputs": [
        {
          "output_type": "stream",
          "name": "stdout",
          "text": [
            "Welcome to \"Credo Systemz\"\n"
          ]
        }
      ]
    },
    {
      "cell_type": "code",
      "source": [
        "print(\"Welcome to 'Credo Systemz'\")"
      ],
      "metadata": {
        "colab": {
          "base_uri": "https://localhost:8080/"
        },
        "id": "ldcgX-1woBtX",
        "outputId": "12433217-83da-41d5-c802-c4a157330fe6"
      },
      "execution_count": null,
      "outputs": [
        {
          "output_type": "stream",
          "name": "stdout",
          "text": [
            "Welcome to 'Credo Systemz'\n"
          ]
        }
      ]
    },
    {
      "cell_type": "code",
      "source": [
        "print(\"\"\"\n",
        "Welcome to Credo Systemz\n",
        "Python Course\n",
        "Present by Sridhar Raj P\n",
        "\"\"\")"
      ],
      "metadata": {
        "colab": {
          "base_uri": "https://localhost:8080/"
        },
        "id": "u4vo0kSkoBxK",
        "outputId": "af0074d8-163c-4754-af23-cc1ce699c870"
      },
      "execution_count": null,
      "outputs": [
        {
          "output_type": "stream",
          "name": "stdout",
          "text": [
            "\n",
            "Welcome to Credo Systemz\n",
            "Python Course \n",
            "Present by Sridhar Raj P\n",
            "\n"
          ]
        }
      ]
    },
    {
      "cell_type": "code",
      "source": [
        "print('''\n",
        "Welcome to Credo Systemz\n",
        "Python + AI Course\n",
        "Present by Sridhar Raj P\n",
        "''')"
      ],
      "metadata": {
        "colab": {
          "base_uri": "https://localhost:8080/"
        },
        "id": "tarufMQnoByw",
        "outputId": "a551a7dc-ab3c-4fcb-9e75-2ce2e7e0b8de"
      },
      "execution_count": null,
      "outputs": [
        {
          "output_type": "stream",
          "name": "stdout",
          "text": [
            "\n",
            "Welcome to Credo Systemz \n",
            "Python + AI Course \n",
            "Present by Sridhar Raj P\n",
            "\n"
          ]
        }
      ]
    },
    {
      "cell_type": "code",
      "source": [
        "Name=\"Sridhar\"\n",
        "print(Name[0])\n",
        "print(Name[1])\n",
        "print(Name[2])\n",
        "print(Name[3])\n",
        "print(Name[4])\n",
        "print(Name[5])\n",
        "print(Name[6])\n"
      ],
      "metadata": {
        "colab": {
          "base_uri": "https://localhost:8080/"
        },
        "id": "byrwskRZoB3A",
        "outputId": "02589e7c-a7ad-4b4f-a727-458e94562710"
      },
      "execution_count": null,
      "outputs": [
        {
          "output_type": "stream",
          "name": "stdout",
          "text": [
            "S\n",
            "r\n",
            "i\n",
            "d\n",
            "h\n",
            "a\n",
            "r\n"
          ]
        }
      ]
    },
    {
      "cell_type": "code",
      "source": [
        "for x in \"Sridhar\":\n",
        "  print(x)"
      ],
      "metadata": {
        "colab": {
          "base_uri": "https://localhost:8080/"
        },
        "id": "IaOp_LTtoCAz",
        "outputId": "42651a81-4537-4097-e64b-93f65a03250d"
      },
      "execution_count": null,
      "outputs": [
        {
          "output_type": "stream",
          "name": "stdout",
          "text": [
            "S\n",
            "r\n",
            "i\n",
            "d\n",
            "h\n",
            "a\n",
            "r\n"
          ]
        }
      ]
    },
    {
      "cell_type": "code",
      "source": [
        "Name=\"Sridhar\"\n",
        "print(len(Name))"
      ],
      "metadata": {
        "colab": {
          "base_uri": "https://localhost:8080/"
        },
        "id": "N7yUEFKaoCCi",
        "outputId": "1fdd12ca-e8a7-409b-bd95-3dc2f9a25da7"
      },
      "execution_count": null,
      "outputs": [
        {
          "output_type": "stream",
          "name": "stdout",
          "text": [
            "7\n"
          ]
        }
      ]
    },
    {
      "cell_type": "code",
      "source": [
        "txt=\"Sridhar - Python Trainer\"\n",
        "print(\"Java\" in txt)"
      ],
      "metadata": {
        "colab": {
          "base_uri": "https://localhost:8080/"
        },
        "id": "J8uMr7IsoCGQ",
        "outputId": "1789089e-3b3a-45b5-c743-476c887b76b3"
      },
      "execution_count": null,
      "outputs": [
        {
          "output_type": "stream",
          "name": "stdout",
          "text": [
            "False\n"
          ]
        }
      ]
    },
    {
      "cell_type": "code",
      "source": [
        "txt=\"Sridhar - Python Trainer\"\n",
        "print(\"Python\" in txt)"
      ],
      "metadata": {
        "colab": {
          "base_uri": "https://localhost:8080/"
        },
        "id": "484k8gQEoCII",
        "outputId": "fae4a5d8-a1c7-4e46-ec52-b00683c62fd3"
      },
      "execution_count": null,
      "outputs": [
        {
          "output_type": "stream",
          "name": "stdout",
          "text": [
            "True\n"
          ]
        }
      ]
    },
    {
      "cell_type": "code",
      "source": [
        "txt=\"Sridhar - Python Trainer\"\n",
        "if \"Python\" in txt:\n",
        "  print(\"Yes, Present\")\n",
        "else:\n",
        "  print(\"No, Not Present\")"
      ],
      "metadata": {
        "colab": {
          "base_uri": "https://localhost:8080/"
        },
        "id": "kPOjFekFoCLX",
        "outputId": "518f57f4-d518-4e6b-c562-b8d3e056a08d"
      },
      "execution_count": null,
      "outputs": [
        {
          "output_type": "stream",
          "name": "stdout",
          "text": [
            "Yes, Present\n"
          ]
        }
      ]
    },
    {
      "cell_type": "code",
      "source": [
        "txt=\"Sridhar - Python Trainer\"\n",
        "if \"Java\" in txt:\n",
        "  print(\"Yes, Present\")\n",
        "else:\n",
        "  print(\"No, Not Present\")"
      ],
      "metadata": {
        "colab": {
          "base_uri": "https://localhost:8080/"
        },
        "id": "OH2vgjAboCNV",
        "outputId": "0accea69-8e13-45a0-df2a-5b1c33c9e281"
      },
      "execution_count": null,
      "outputs": [
        {
          "output_type": "stream",
          "name": "stdout",
          "text": [
            "No, Not Present\n"
          ]
        }
      ]
    },
    {
      "cell_type": "code",
      "source": [
        "txt=\"Sridhar - Python Trainer\"\n",
        "print(\"Java\" not in txt)"
      ],
      "metadata": {
        "colab": {
          "base_uri": "https://localhost:8080/"
        },
        "id": "hjEPjRZioCQ5",
        "outputId": "83604df0-6208-434e-b4f7-10121abdcfbe"
      },
      "execution_count": null,
      "outputs": [
        {
          "output_type": "stream",
          "name": "stdout",
          "text": [
            "True\n"
          ]
        }
      ]
    },
    {
      "cell_type": "code",
      "source": [
        "txt=\"Sridhar - Python Trainer\"\n",
        "print(\"Python\" not in txt)"
      ],
      "metadata": {
        "colab": {
          "base_uri": "https://localhost:8080/"
        },
        "id": "SsYi-G2koCTl",
        "outputId": "4f98a824-66fd-4937-87e3-aa4b2fa9cce3"
      },
      "execution_count": null,
      "outputs": [
        {
          "output_type": "stream",
          "name": "stdout",
          "text": [
            "False\n"
          ]
        }
      ]
    },
    {
      "cell_type": "code",
      "source": [
        "# Slicing\n",
        "\n",
        "txt=\"Sridhar\"\n",
        "print(txt[1:3])"
      ],
      "metadata": {
        "colab": {
          "base_uri": "https://localhost:8080/"
        },
        "id": "FgASzajkoCWI",
        "outputId": "b4ccaa5b-6ad5-4d47-e584-bb37236a7624"
      },
      "execution_count": null,
      "outputs": [
        {
          "output_type": "stream",
          "name": "stdout",
          "text": [
            "ri\n"
          ]
        }
      ]
    },
    {
      "cell_type": "code",
      "source": [
        "txt=\"Sridhar\"\n",
        "print(txt[1:])"
      ],
      "metadata": {
        "colab": {
          "base_uri": "https://localhost:8080/"
        },
        "id": "1KPUmMSIoCYC",
        "outputId": "39695b44-baf2-45c3-a21d-06be3a46ff59"
      },
      "execution_count": null,
      "outputs": [
        {
          "output_type": "stream",
          "name": "stdout",
          "text": [
            "ridhar\n"
          ]
        }
      ]
    },
    {
      "cell_type": "code",
      "source": [
        "txt=\"Sridhar\"\n",
        "print(txt[:3])"
      ],
      "metadata": {
        "colab": {
          "base_uri": "https://localhost:8080/"
        },
        "id": "mqXiUW7foCbr",
        "outputId": "6296c2de-4f4d-47e1-db7b-91ef9669981b"
      },
      "execution_count": null,
      "outputs": [
        {
          "output_type": "stream",
          "name": "stdout",
          "text": [
            "Sri\n"
          ]
        }
      ]
    },
    {
      "cell_type": "code",
      "source": [
        "answer=\"Sridhar\"\n",
        "print(answer.upper())"
      ],
      "metadata": {
        "colab": {
          "base_uri": "https://localhost:8080/"
        },
        "id": "rrMEResWoCj7",
        "outputId": "ad44dc4b-0164-409c-c735-15c0a5061587"
      },
      "execution_count": null,
      "outputs": [
        {
          "output_type": "stream",
          "name": "stdout",
          "text": [
            "SRIDHAR\n"
          ]
        }
      ]
    },
    {
      "cell_type": "code",
      "source": [
        "answer=\"Sridhar\"\n",
        "print(answer.lower())"
      ],
      "metadata": {
        "colab": {
          "base_uri": "https://localhost:8080/"
        },
        "id": "WCDBsmEFoClv",
        "outputId": "37211303-2d70-442a-aa49-721eff54e563"
      },
      "execution_count": null,
      "outputs": [
        {
          "output_type": "stream",
          "name": "stdout",
          "text": [
            "sridhar\n"
          ]
        }
      ]
    },
    {
      "cell_type": "code",
      "source": [
        "# Remove Whitespace\n",
        "\n",
        "answer=\"      Sridhar Raj P        \"\n",
        "print(answer)\n",
        "print(answer.strip())"
      ],
      "metadata": {
        "colab": {
          "base_uri": "https://localhost:8080/"
        },
        "id": "oqtbmLDtoCpC",
        "outputId": "c5d0b9a2-5bcd-4772-9848-91ce626deb3c"
      },
      "execution_count": null,
      "outputs": [
        {
          "output_type": "stream",
          "name": "stdout",
          "text": [
            "      Sridhar Raj P        \n",
            "Sridhar Raj P\n"
          ]
        }
      ]
    },
    {
      "cell_type": "code",
      "source": [
        "answer=\"Call Cat\"\n",
        "print(answer.replace(\"C\", \"B\"))"
      ],
      "metadata": {
        "colab": {
          "base_uri": "https://localhost:8080/"
        },
        "id": "cl29qwcMoCq8",
        "outputId": "a552e5fc-c81c-4a5b-c688-8d3ce08b9d0a"
      },
      "execution_count": null,
      "outputs": [
        {
          "output_type": "stream",
          "name": "stdout",
          "text": [
            "Ball Bat\n"
          ]
        }
      ]
    },
    {
      "cell_type": "code",
      "source": [
        "answer=\"Python Java\"\n",
        "print(answer.split(\" \"))"
      ],
      "metadata": {
        "colab": {
          "base_uri": "https://localhost:8080/"
        },
        "id": "AwSJPFaKoCuA",
        "outputId": "92521809-f1d5-4a05-b964-4920862d7db8"
      },
      "execution_count": null,
      "outputs": [
        {
          "output_type": "stream",
          "name": "stdout",
          "text": [
            "['Python', 'Java']\n"
          ]
        }
      ]
    },
    {
      "cell_type": "code",
      "source": [
        "answer=\"sridhar raj p\"\n",
        "print(answer.capitalize())"
      ],
      "metadata": {
        "colab": {
          "base_uri": "https://localhost:8080/"
        },
        "id": "Z26LQsGroCwA",
        "outputId": "227bd193-c1be-461b-8498-029ef7cc075f"
      },
      "execution_count": null,
      "outputs": [
        {
          "output_type": "stream",
          "name": "stdout",
          "text": [
            "Sridhar raj p\n"
          ]
        }
      ]
    },
    {
      "cell_type": "code",
      "source": [
        "answer=\"Sridhar Raj P - Python Trainer\"\n",
        "print(answer.endswith(\"Trainer\"))"
      ],
      "metadata": {
        "colab": {
          "base_uri": "https://localhost:8080/"
        },
        "id": "02KrzstKoCzG",
        "outputId": "dc33b149-dabf-4516-b3ed-1a7f2d13108c"
      },
      "execution_count": null,
      "outputs": [
        {
          "output_type": "stream",
          "name": "stdout",
          "text": [
            "True\n"
          ]
        }
      ]
    },
    {
      "cell_type": "code",
      "source": [
        "answer=\"Sridhar Raj P - Python Trainer\"\n",
        "print(answer.index(\"Raj\"))"
      ],
      "metadata": {
        "colab": {
          "base_uri": "https://localhost:8080/"
        },
        "id": "ZRq6PLaioC1D",
        "outputId": "b627aeb4-c7f2-42d1-d29e-a21e92adaa47"
      },
      "execution_count": null,
      "outputs": [
        {
          "output_type": "stream",
          "name": "stdout",
          "text": [
            "8\n"
          ]
        }
      ]
    },
    {
      "cell_type": "code",
      "source": [
        "userName=\"Sridhar123\"\n",
        "print(userName.isalnum())\n",
        "userName=\"Sridhar\"\n",
        "print(userName.isalpha())\n",
        "user=\"sridhar\"\n",
        "print(user.islower())\n",
        "user=\"SRIDHAR\"\n",
        "print(user.isupper())"
      ],
      "metadata": {
        "colab": {
          "base_uri": "https://localhost:8080/"
        },
        "id": "z-KWkkaHsP8p",
        "outputId": "1cd04d4a-51e2-4628-e6b1-a5bd21559b52"
      },
      "execution_count": null,
      "outputs": [
        {
          "output_type": "stream",
          "name": "stdout",
          "text": [
            "True\n",
            "True\n",
            "True\n",
            "True\n"
          ]
        }
      ]
    },
    {
      "cell_type": "code",
      "source": [
        "answer=\"Sridhar Raj - Python Trainer\"\n",
        "print(answer.startswith(\"Sridhar\"))"
      ],
      "metadata": {
        "colab": {
          "base_uri": "https://localhost:8080/"
        },
        "id": "bXNqJse2szQZ",
        "outputId": "d546c4ab-8597-43da-b13c-5030fdd875ea"
      },
      "execution_count": null,
      "outputs": [
        {
          "output_type": "stream",
          "name": "stdout",
          "text": [
            "True\n"
          ]
        }
      ]
    },
    {
      "cell_type": "code",
      "source": [
        "for x in range(1,6):\n",
        "  if(x==3):\n",
        "    break\n",
        "  print(x)"
      ],
      "metadata": {
        "colab": {
          "base_uri": "https://localhost:8080/"
        },
        "id": "l9nsscpatM7T",
        "outputId": "8bd08e2d-a26c-4654-b99e-96eb80996ee7"
      },
      "execution_count": null,
      "outputs": [
        {
          "output_type": "stream",
          "name": "stdout",
          "text": [
            "1\n",
            "2\n"
          ]
        }
      ]
    },
    {
      "cell_type": "code",
      "source": [
        "topics=[\"Python\", \"Java\", \"AI\", \"NLP\", \"IP\", \"VP\"]\n",
        "\n",
        "for x in topics:\n",
        "  if x == \"AI\":\n",
        "    break\n",
        "  print(x)"
      ],
      "metadata": {
        "colab": {
          "base_uri": "https://localhost:8080/"
        },
        "id": "K6bEnXkatNBa",
        "outputId": "8e395258-8fc5-48f7-adf9-5fc70d919604"
      },
      "execution_count": null,
      "outputs": [
        {
          "output_type": "stream",
          "name": "stdout",
          "text": [
            "Python\n",
            "Java\n"
          ]
        }
      ]
    },
    {
      "cell_type": "code",
      "source": [
        "for x in range(1,6):\n",
        "  if(x==3):\n",
        "    continue\n",
        "  print(x)"
      ],
      "metadata": {
        "colab": {
          "base_uri": "https://localhost:8080/"
        },
        "id": "DazR_U2vtrp6",
        "outputId": "65e0f1de-f737-4faa-bb90-e7a408c4167d"
      },
      "execution_count": null,
      "outputs": [
        {
          "output_type": "stream",
          "name": "stdout",
          "text": [
            "1\n",
            "2\n",
            "4\n",
            "5\n"
          ]
        }
      ]
    },
    {
      "cell_type": "code",
      "source": [
        "topics=[\"Python\", \"Java\", \"AI\", \"NLP\", \"IP\", \"VP\"]\n",
        "\n",
        "for x in topics:\n",
        "  if x==\"AI\":\n",
        "    continue\n",
        "  print(x)"
      ],
      "metadata": {
        "colab": {
          "base_uri": "https://localhost:8080/"
        },
        "id": "1IFkX-Dztzrc",
        "outputId": "8b47f9f6-f779-4a93-caca-5dc856a81a9b"
      },
      "execution_count": null,
      "outputs": [
        {
          "output_type": "stream",
          "name": "stdout",
          "text": [
            "Python\n",
            "Java\n",
            "NLP\n",
            "IP\n",
            "VP\n"
          ]
        }
      ]
    },
    {
      "cell_type": "code",
      "source": [
        "for x in range(0,10):\n",
        "  if x%2==0:\n",
        "    print(x ,\"- Even Number\")\n",
        "  else:\n",
        "    print(x,\" - Odd Number\")"
      ],
      "metadata": {
        "colab": {
          "base_uri": "https://localhost:8080/"
        },
        "id": "os36jBxCuJGE",
        "outputId": "6b5d2e1c-a590-4cda-a8e4-06fae936c069"
      },
      "execution_count": null,
      "outputs": [
        {
          "output_type": "stream",
          "name": "stdout",
          "text": [
            "0 - Even Number\n",
            "1  - Odd Number\n",
            "2 - Even Number\n",
            "3  - Odd Number\n",
            "4 - Even Number\n",
            "5  - Odd Number\n",
            "6 - Even Number\n",
            "7  - Odd Number\n",
            "8 - Even Number\n",
            "9  - Odd Number\n"
          ]
        }
      ]
    },
    {
      "cell_type": "code",
      "source": [
        "# functions - A function is a block of code which only runs when it is called.\n",
        "\n",
        "print(\"Welcome to Credo Systemz - Python Session\")"
      ],
      "metadata": {
        "colab": {
          "base_uri": "https://localhost:8080/"
        },
        "id": "2elZw0g5kcWB",
        "outputId": "45410541-3da9-4c4f-8c52-337b51296e68"
      },
      "execution_count": null,
      "outputs": [
        {
          "output_type": "stream",
          "name": "stdout",
          "text": [
            "Welcome to Credo Systemz - Python Session\n"
          ]
        }
      ]
    },
    {
      "cell_type": "code",
      "source": [
        "def display():\n",
        "  print(\"Welcome to Credo Ssytemz - Python Session\")\n",
        "display()"
      ],
      "metadata": {
        "colab": {
          "base_uri": "https://localhost:8080/"
        },
        "id": "sct45XCQk1Uf",
        "outputId": "e503bee7-cba8-4b51-9f9a-43a5f3ce41f1"
      },
      "execution_count": null,
      "outputs": [
        {
          "output_type": "stream",
          "name": "stdout",
          "text": [
            "Welcome to Credo Ssytemz - Python Session\n"
          ]
        }
      ]
    },
    {
      "cell_type": "code",
      "source": [
        "# without argument, without return type\n",
        "\n",
        "def add():\n",
        "  a=5\n",
        "  b=5\n",
        "  c=a+b\n",
        "  print(c)\n",
        "add()"
      ],
      "metadata": {
        "colab": {
          "base_uri": "https://localhost:8080/"
        },
        "id": "d0Fjs1tZlFh4",
        "outputId": "2715f980-520e-4c19-d170-d4c9f7fe0185"
      },
      "execution_count": null,
      "outputs": [
        {
          "output_type": "stream",
          "name": "stdout",
          "text": [
            "10\n"
          ]
        }
      ]
    },
    {
      "cell_type": "code",
      "source": [
        "# with argument, without return type\n",
        "\n",
        "def add(a,b,c,d,e):\n",
        "  answer=a+b+c+d+e\n",
        "  print(answer)\n",
        "\n",
        "add(90,80,100,100,100)"
      ],
      "metadata": {
        "colab": {
          "base_uri": "https://localhost:8080/"
        },
        "id": "RyKdKv3glZzG",
        "outputId": "d95ee596-7de5-494f-da46-8db44aa174c3"
      },
      "execution_count": null,
      "outputs": [
        {
          "output_type": "stream",
          "name": "stdout",
          "text": [
            "470\n"
          ]
        }
      ]
    },
    {
      "cell_type": "code",
      "source": [
        "# without argument, with return type\n",
        "\n",
        "def add():\n",
        "  a=10\n",
        "  b=90\n",
        "  return a+b\n",
        "print(add())"
      ],
      "metadata": {
        "colab": {
          "base_uri": "https://localhost:8080/"
        },
        "id": "aOlzcT64lxhz",
        "outputId": "8e18bcb1-f96d-4da7-dc19-4ba4097ade8d"
      },
      "execution_count": null,
      "outputs": [
        {
          "output_type": "stream",
          "name": "stdout",
          "text": [
            "100\n"
          ]
        }
      ]
    },
    {
      "cell_type": "code",
      "source": [
        "# with argument, with return type\n",
        "\n",
        "def add(a,b,c,d,e):\n",
        "  return a+b+c+d+e\n",
        "\n",
        "print(add(95,85,100,100,100))\n"
      ],
      "metadata": {
        "colab": {
          "base_uri": "https://localhost:8080/"
        },
        "id": "eHGcsjVXmFnh",
        "outputId": "0ff049b7-46b2-48d6-bb4d-bf370b409e89"
      },
      "execution_count": null,
      "outputs": [
        {
          "output_type": "stream",
          "name": "stdout",
          "text": [
            "480\n"
          ]
        }
      ]
    },
    {
      "cell_type": "code",
      "source": [
        "def display(name):\n",
        "  print(name)\n",
        "display(\"Sridhar\")"
      ],
      "metadata": {
        "colab": {
          "base_uri": "https://localhost:8080/"
        },
        "id": "grcRhpuxma42",
        "outputId": "f8ee8f29-c8d6-4f8b-aa41-651f158402c3"
      },
      "execution_count": null,
      "outputs": [
        {
          "output_type": "stream",
          "name": "stdout",
          "text": [
            "Sridhar\n"
          ]
        }
      ]
    },
    {
      "cell_type": "code",
      "source": [
        "# Arbitrary Arguments (*args)\n",
        "\n",
        "def display(*course):\n",
        "  print(course[0])\n",
        "  print(course[1])\n",
        "  print(course[2])\n",
        "display(\"Python\", \"AI\" , \"NLP\")"
      ],
      "metadata": {
        "colab": {
          "base_uri": "https://localhost:8080/"
        },
        "id": "1lcj2oTcmlnT",
        "outputId": "30d80983-faa7-431d-cc34-3ca620d58283"
      },
      "execution_count": null,
      "outputs": [
        {
          "output_type": "stream",
          "name": "stdout",
          "text": [
            "Python\n",
            "AI\n",
            "NLP\n"
          ]
        }
      ]
    },
    {
      "cell_type": "code",
      "source": [
        "# Keyword Arguments  - Key=Value Syntax\n",
        "\n",
        "def display(C1,C2,C3,C4,C5):\n",
        "  print(C1)\n",
        "  print(C2)\n",
        "  print(C3)\n",
        "  print(C4)\n",
        "  print(C5)\n",
        "display(C1=\"Python\", C2=\"AI\", C3=\"NLP\", C4=\"PyGame\", C5=\"Django\")"
      ],
      "metadata": {
        "colab": {
          "base_uri": "https://localhost:8080/"
        },
        "id": "dytZl3gjnGES",
        "outputId": "990aa821-63d4-4a34-8c1a-d2fa2d35fda4"
      },
      "execution_count": null,
      "outputs": [
        {
          "output_type": "stream",
          "name": "stdout",
          "text": [
            "Python\n",
            "AI\n",
            "NLP\n",
            "PyGame\n",
            "Django\n"
          ]
        }
      ]
    },
    {
      "cell_type": "code",
      "source": [
        "# Arbitrary Keyword Arguments **kwargs\n",
        "\n",
        "def display(**topics):\n",
        "  print(topics[\"C1\"])\n",
        "  print(topics[\"C2\"])\n",
        "display(C1=\"Python\", C2=\"NLP\")"
      ],
      "metadata": {
        "colab": {
          "base_uri": "https://localhost:8080/"
        },
        "id": "ZDpjr9n5nt4V",
        "outputId": "b0584981-dcc2-4b3f-a942-35fba0b44551"
      },
      "execution_count": null,
      "outputs": [
        {
          "output_type": "stream",
          "name": "stdout",
          "text": [
            "Python\n",
            "NLP\n"
          ]
        }
      ]
    },
    {
      "cell_type": "code",
      "source": [
        "# Default Paramerer Value\n",
        "\n",
        "def display(user=\"Guest\"):\n",
        "  print(\"Welcome \"+user)\n",
        "\n",
        "display(\"Sridhar\")\n",
        "display(\"Sasi\")\n",
        "display(\"Priya\")\n",
        "display()"
      ],
      "metadata": {
        "colab": {
          "base_uri": "https://localhost:8080/"
        },
        "id": "NlnrhsTuoV7d",
        "outputId": "632aeb1f-2f67-4a8b-b462-3658053a432e"
      },
      "execution_count": null,
      "outputs": [
        {
          "output_type": "stream",
          "name": "stdout",
          "text": [
            "Welcome Sridhar\n",
            "Welcome Sasi\n",
            "Welcome Priya\n",
            "Welcome Guest\n"
          ]
        }
      ]
    },
    {
      "cell_type": "code",
      "source": [
        "def displayFruits(food):\n",
        "  for i in food:\n",
        "    print(i)\n",
        "\n",
        "fruits=[\"Apple\", \"Orange\", \"Banan\", \"Cherry\"]\n",
        "displayFruits(fruits)"
      ],
      "metadata": {
        "colab": {
          "base_uri": "https://localhost:8080/"
        },
        "id": "qY2Nxhn2o07Y",
        "outputId": "a397e414-440e-4690-86e4-3b2b97b015aa"
      },
      "execution_count": null,
      "outputs": [
        {
          "output_type": "stream",
          "name": "stdout",
          "text": [
            "Apple\n",
            "Orange\n",
            "Banan\n",
            "Cherry\n"
          ]
        }
      ]
    },
    {
      "cell_type": "code",
      "source": [
        "# Lambda - A lambda function is a small anonymous function.\n",
        "# A lambda function can take any number of arguments, but cna only have one expression\n",
        "\n",
        "# lambda arguments:expression\n",
        "\n",
        "answer=lambda a  :  a+90\n",
        "print(answer(10))"
      ],
      "metadata": {
        "colab": {
          "base_uri": "https://localhost:8080/"
        },
        "id": "YOy_3uffpbVZ",
        "outputId": "e19c6718-3dd0-48b9-9f6f-20dd838eb9d2"
      },
      "execution_count": null,
      "outputs": [
        {
          "output_type": "stream",
          "name": "stdout",
          "text": [
            "100\n"
          ]
        }
      ]
    },
    {
      "cell_type": "code",
      "source": [
        "answer=lambda a,b,c,d,e : a+b+c+d+e\n",
        "print(answer(90,90,90,90,90))"
      ],
      "metadata": {
        "colab": {
          "base_uri": "https://localhost:8080/"
        },
        "id": "D393hpZ6qDCY",
        "outputId": "7839cfca-994c-4970-dfea-8cd77176a64a"
      },
      "execution_count": null,
      "outputs": [
        {
          "output_type": "stream",
          "name": "stdout",
          "text": [
            "450\n"
          ]
        }
      ]
    },
    {
      "cell_type": "code",
      "source": [
        "answer=lambda a,b : a*b\n",
        "print(answer(10,2))"
      ],
      "metadata": {
        "colab": {
          "base_uri": "https://localhost:8080/"
        },
        "id": "vYk-mXhKqNHp",
        "outputId": "94703826-297f-49c2-8d62-9ea5196c0e92"
      },
      "execution_count": null,
      "outputs": [
        {
          "output_type": "stream",
          "name": "stdout",
          "text": [
            "20\n"
          ]
        }
      ]
    },
    {
      "cell_type": "code",
      "source": [
        "# List - Lists are used to store multiple items in a single variable\n",
        "\n",
        "topics=[\"Core Python\", \"OOPS Python\", \"Collections\", \"GUI\", \"Database - Sqlite\"]\n",
        "print(topics)"
      ],
      "metadata": {
        "colab": {
          "base_uri": "https://localhost:8080/"
        },
        "id": "tKZzux2brwnv",
        "outputId": "5baea9b9-1ee0-4d9d-ee37-6d58d74c68ad"
      },
      "execution_count": null,
      "outputs": [
        {
          "output_type": "stream",
          "name": "stdout",
          "text": [
            "['Core Python', 'OOPS Python', 'Collections', 'GUI', 'Database - Sqlite']\n"
          ]
        }
      ]
    },
    {
      "cell_type": "code",
      "source": [
        "# List Items - Ordered, Changeable, and allow dupllcate values\n",
        "\n",
        "topics=[\"Core Python\", \"OOPS Python\", \"Collections\", \"GUI\", \"Database - Sqlite\", \"Core Python\"]\n",
        "print(topics)"
      ],
      "metadata": {
        "colab": {
          "base_uri": "https://localhost:8080/"
        },
        "id": "1P-qcOdisJZJ",
        "outputId": "36ce2aba-9b36-424c-d71c-01a7ec4ade00"
      },
      "execution_count": null,
      "outputs": [
        {
          "output_type": "stream",
          "name": "stdout",
          "text": [
            "['Core Python', 'OOPS Python', 'Collections', 'GUI', 'Database - Sqlite', 'Core Python']\n"
          ]
        }
      ]
    },
    {
      "cell_type": "code",
      "source": [
        "topics=[\"Core Python\", \"OOPS Python\", \"Collections\", \"GUI\", \"Database - Sqlite\"]\n",
        "print(len(topics))\n",
        "print(type(topics))"
      ],
      "metadata": {
        "colab": {
          "base_uri": "https://localhost:8080/"
        },
        "id": "qdIiugECsfWZ",
        "outputId": "d2ea4b6a-d12d-4900-d1a6-e6f540f3a2ee"
      },
      "execution_count": null,
      "outputs": [
        {
          "output_type": "stream",
          "name": "stdout",
          "text": [
            "5\n",
            "<class 'list'>\n"
          ]
        }
      ]
    },
    {
      "cell_type": "code",
      "source": [
        "topics=list((\"Core Python\", \"OOPS Python\", \"Collections\"))\n",
        "print(len(topics))\n",
        "print(type(topics))"
      ],
      "metadata": {
        "colab": {
          "base_uri": "https://localhost:8080/"
        },
        "id": "78XmSBwysu9b",
        "outputId": "7fe89367-9596-43d7-fec4-387661aa2972"
      },
      "execution_count": null,
      "outputs": [
        {
          "output_type": "stream",
          "name": "stdout",
          "text": [
            "3\n",
            "<class 'list'>\n"
          ]
        }
      ]
    },
    {
      "cell_type": "code",
      "source": [
        "# Access Items\n",
        "\n",
        "topics=[\"Core Python\", \"OOPS Python\", \"Collections\", \"GUI\", \"Database - Sqlite\"]\n",
        "\n",
        "print(topics[0])\n",
        "print(topics[1])\n",
        "print(topics[2])\n",
        "print(topics[3])\n",
        "print(topics[4])"
      ],
      "metadata": {
        "colab": {
          "base_uri": "https://localhost:8080/"
        },
        "id": "YkeZuiaAs_87",
        "outputId": "cdcd7e49-d643-4b60-b907-a7d0ac9e7e94"
      },
      "execution_count": null,
      "outputs": [
        {
          "output_type": "stream",
          "name": "stdout",
          "text": [
            "Core Python\n",
            "OOPS Python\n",
            "Collections\n",
            "GUI\n",
            "Database - Sqlite\n"
          ]
        }
      ]
    },
    {
      "cell_type": "code",
      "source": [
        "print(topics[-1])\n",
        "print(topics[-2])\n",
        "print(topics[-3])\n",
        "print(topics[-4])\n",
        "print(topics[-5])"
      ],
      "metadata": {
        "colab": {
          "base_uri": "https://localhost:8080/"
        },
        "id": "MVKvPmqJtOnT",
        "outputId": "1041676d-2ac5-42ab-841b-7d0f10b6d5fd"
      },
      "execution_count": null,
      "outputs": [
        {
          "output_type": "stream",
          "name": "stdout",
          "text": [
            "Database - Sqlite\n",
            "GUI\n",
            "Collections\n",
            "OOPS Python\n",
            "Core Python\n"
          ]
        }
      ]
    },
    {
      "cell_type": "code",
      "source": [
        "topics=[\"Core Python\", \"OOPS Python\", \"Collections\", \"GUI\", \"Database - Sqlite\"]\n",
        "print(topics[2:4])"
      ],
      "metadata": {
        "colab": {
          "base_uri": "https://localhost:8080/"
        },
        "id": "x1bmRXqotlP1",
        "outputId": "51a26d49-2ad8-4799-c83a-dae71cb171fa"
      },
      "execution_count": null,
      "outputs": [
        {
          "output_type": "stream",
          "name": "stdout",
          "text": [
            "['Collections', 'GUI']\n"
          ]
        }
      ]
    },
    {
      "cell_type": "code",
      "source": [
        "print(topics[2:])"
      ],
      "metadata": {
        "colab": {
          "base_uri": "https://localhost:8080/"
        },
        "id": "Ajyykydvt5d6",
        "outputId": "7e704b48-8f9a-456f-dacd-5aee2a8bf598"
      },
      "execution_count": null,
      "outputs": [
        {
          "output_type": "stream",
          "name": "stdout",
          "text": [
            "['Collections', 'GUI', 'Database - Sqlite']\n"
          ]
        }
      ]
    },
    {
      "cell_type": "code",
      "source": [
        "print(topics[:4])"
      ],
      "metadata": {
        "colab": {
          "base_uri": "https://localhost:8080/"
        },
        "id": "AYM0gSwBt89v",
        "outputId": "8deb72a7-50c1-4054-fb8a-62bbed893a4e"
      },
      "execution_count": null,
      "outputs": [
        {
          "output_type": "stream",
          "name": "stdout",
          "text": [
            "['Core Python', 'OOPS Python', 'Collections', 'GUI']\n"
          ]
        }
      ]
    },
    {
      "cell_type": "code",
      "source": [
        "topics=[\"Core Python\", \"OOPS Python\", \"Collections\", \"GUI\", \"Database - Sqlite\"]\n",
        "\n",
        "# Change List Items\n",
        "print(topics)\n",
        "topics[1]=\"Object Oriented Programming - Python\"\n",
        "print(topics)"
      ],
      "metadata": {
        "colab": {
          "base_uri": "https://localhost:8080/"
        },
        "id": "fd-MKwwNuCHe",
        "outputId": "63a5c439-4706-4543-9971-fa95b92058d6"
      },
      "execution_count": null,
      "outputs": [
        {
          "output_type": "stream",
          "name": "stdout",
          "text": [
            "['Core Python', 'OOPS Python', 'Collections', 'GUI', 'Database - Sqlite']\n",
            "['Core Python', 'Object Oriented Programming - Python', 'Collections', 'GUI', 'Database - Sqlite']\n"
          ]
        }
      ]
    },
    {
      "cell_type": "code",
      "source": [
        "topics=[\"Core Python\", \"OOPS Python\", \"Collections\", \"GUI\", \"Database - Sqlite\"]\n",
        "topics.append(\"Python - AI\")\n",
        "print(topics)"
      ],
      "metadata": {
        "colab": {
          "base_uri": "https://localhost:8080/"
        },
        "id": "p2aQlxzIudX7",
        "outputId": "8ebb1b35-166d-47ef-d89a-736df8b097b8"
      },
      "execution_count": null,
      "outputs": [
        {
          "output_type": "stream",
          "name": "stdout",
          "text": [
            "['Core Python', 'OOPS Python', 'Collections', 'GUI', 'Database - Sqlite', 'Python - AI']\n"
          ]
        }
      ]
    },
    {
      "cell_type": "code",
      "source": [
        "L1=[\"Core Python\", \"OOPS Python\", \"Collections\", \"GUI\", \"Database - SQL\"]\n",
        "L2=[\"AI\", \"NLP\", \"OpenCV\", \"Django\", \"Flask\", \"PyGame\"]\n",
        "\n",
        "L1.extend(L2)\n",
        "print(L1)"
      ],
      "metadata": {
        "colab": {
          "base_uri": "https://localhost:8080/"
        },
        "id": "r3hu_Kjiu8HA",
        "outputId": "73385822-ee67-4ea9-f20d-d020b3a4cbad"
      },
      "execution_count": null,
      "outputs": [
        {
          "output_type": "stream",
          "name": "stdout",
          "text": [
            "['Core Python', 'OOPS Python', 'Collections', 'GUI', 'Database - SQL', 'AI', 'NLP', 'OpenCV', 'Django', 'Flask', 'PyGame']\n"
          ]
        }
      ]
    },
    {
      "cell_type": "code",
      "source": [
        "L1=[\"Core Python\", \"OOPS Python\", \"Collections\", \"GUI\", \"Database - SQL\"]\n",
        "T1=(\"AI\", \"NLP\", \"OpenCV\", \"Django\", \"Flask\", \"PyGame\")\n",
        "\n",
        "print(type(L1))\n",
        "print(type(T1))\n",
        "\n",
        "L1.extend(T1)\n",
        "print(L1)"
      ],
      "metadata": {
        "colab": {
          "base_uri": "https://localhost:8080/"
        },
        "id": "mr3qPCzHvoE1",
        "outputId": "a2548230-5a99-442f-b304-15ceb3c34e9b"
      },
      "execution_count": null,
      "outputs": [
        {
          "output_type": "stream",
          "name": "stdout",
          "text": [
            "<class 'list'>\n",
            "<class 'tuple'>\n",
            "['Core Python', 'OOPS Python', 'Collections', 'GUI', 'Database - SQL', 'AI', 'NLP', 'OpenCV', 'Django', 'Flask', 'PyGame']\n"
          ]
        }
      ]
    },
    {
      "cell_type": "code",
      "source": [
        "topics=[\"Core Python\", \"OOPS Python\", \"Collections\", \"GUI\", \"Database - Sqlite\"]\n",
        "topics.insert(0, \"AI Leaning Path\")\n",
        "print(topics)"
      ],
      "metadata": {
        "colab": {
          "base_uri": "https://localhost:8080/"
        },
        "id": "dSHWLvclupsK",
        "outputId": "5c044dbc-a79d-4eb2-88d3-4a37696c6040"
      },
      "execution_count": null,
      "outputs": [
        {
          "output_type": "stream",
          "name": "stdout",
          "text": [
            "['AI Leaning Path', 'Core Python', 'OOPS Python', 'Collections', 'GUI', 'Database - Sqlite']\n"
          ]
        }
      ]
    },
    {
      "cell_type": "code",
      "source": [
        "L1=[\"Core Python\", \"OOPS Python\", \"Collections\", \"GUI\", \"Database - SQL\"]\n",
        "\n",
        "print(L1)\n",
        "L1.remove(\"Core Python\")\n",
        "print(L1)"
      ],
      "metadata": {
        "colab": {
          "base_uri": "https://localhost:8080/"
        },
        "id": "uanbxYIXv5U8",
        "outputId": "5cf81359-12c0-4d7f-a415-4c1b4d028db9"
      },
      "execution_count": null,
      "outputs": [
        {
          "output_type": "stream",
          "name": "stdout",
          "text": [
            "['Core Python', 'OOPS Python', 'Collections', 'GUI', 'Database - SQL']\n",
            "['OOPS Python', 'Collections', 'GUI', 'Database - SQL']\n"
          ]
        }
      ]
    },
    {
      "cell_type": "code",
      "source": [
        "L1=[\"Core Python\", \"OOPS Python\", \"Collections\", \"GUI\", \"Database - SQL\"]\n",
        "\n",
        "# pop() - removes the specified index\n",
        "\n",
        "print(L1)\n",
        "L1.pop(1)\n",
        "print(L1)"
      ],
      "metadata": {
        "colab": {
          "base_uri": "https://localhost:8080/"
        },
        "id": "Ir_vuE83wM_P",
        "outputId": "7238711a-8a08-43d3-a7d7-3bcbe88b6669"
      },
      "execution_count": null,
      "outputs": [
        {
          "output_type": "stream",
          "name": "stdout",
          "text": [
            "['Core Python', 'OOPS Python', 'Collections', 'GUI', 'Database - SQL']\n",
            "['Core Python', 'Collections', 'GUI', 'Database - SQL']\n"
          ]
        }
      ]
    },
    {
      "cell_type": "code",
      "source": [
        "L1=[\"Core Python\", \"OOPS Python\", \"Collections\", \"GUI\", \"Database - SQL\"]\n",
        "\n",
        "print(L1)\n",
        "L1.pop()\n",
        "print(L1)"
      ],
      "metadata": {
        "colab": {
          "base_uri": "https://localhost:8080/"
        },
        "id": "TK5D2jeFwbdK",
        "outputId": "6929f631-a069-43a8-8975-565a92603c2b"
      },
      "execution_count": null,
      "outputs": [
        {
          "output_type": "stream",
          "name": "stdout",
          "text": [
            "['Core Python', 'OOPS Python', 'Collections', 'GUI', 'Database - SQL']\n",
            "['Core Python', 'OOPS Python', 'Collections', 'GUI']\n"
          ]
        }
      ]
    },
    {
      "cell_type": "code",
      "source": [
        "L1=[\"Core Python\", \"OOPS Python\", \"Collections\", \"GUI\", \"Database - SQL\"]\n",
        "\n",
        "print(L1)\n",
        "del L1[0]\n",
        "print(L1)"
      ],
      "metadata": {
        "colab": {
          "base_uri": "https://localhost:8080/"
        },
        "id": "53JntFzkwk4e",
        "outputId": "39cee90d-a061-4f23-bea6-4358ce54e457"
      },
      "execution_count": null,
      "outputs": [
        {
          "output_type": "stream",
          "name": "stdout",
          "text": [
            "['Core Python', 'OOPS Python', 'Collections', 'GUI', 'Database - SQL']\n",
            "['OOPS Python', 'Collections', 'GUI', 'Database - SQL']\n"
          ]
        }
      ]
    },
    {
      "cell_type": "code",
      "source": [
        "L1=[\"Core Python\", \"OOPS Python\", \"Collections\", \"GUI\", \"Database - SQL\"]\n",
        "\n",
        "print(L1)\n",
        "L1.clear()\n",
        "print(L1)"
      ],
      "metadata": {
        "colab": {
          "base_uri": "https://localhost:8080/"
        },
        "id": "XiCW-uX0w26y",
        "outputId": "54ea1b55-f340-4d4c-f556-f7b5c5acb654"
      },
      "execution_count": null,
      "outputs": [
        {
          "output_type": "stream",
          "name": "stdout",
          "text": [
            "['Core Python', 'OOPS Python', 'Collections', 'GUI', 'Database - SQL']\n",
            "[]\n"
          ]
        }
      ]
    },
    {
      "cell_type": "code",
      "source": [
        "L1=[\"Core Python\", \"OOPS Python\", \"Collections\", \"GUI\", \"Database - SQL\"]\n",
        "\n",
        "del L1\n",
        "print(L1)"
      ],
      "metadata": {
        "colab": {
          "base_uri": "https://localhost:8080/",
          "height": 176
        },
        "id": "TZ9-dB84wtVT",
        "outputId": "8dcc1077-5eba-4f99-f48c-6b0d345ea7f3"
      },
      "execution_count": null,
      "outputs": [
        {
          "output_type": "error",
          "ename": "NameError",
          "evalue": "name 'L1' is not defined",
          "traceback": [
            "\u001b[0;31m---------------------------------------------------------------------------\u001b[0m",
            "\u001b[0;31mNameError\u001b[0m                                 Traceback (most recent call last)",
            "\u001b[0;32m/tmp/ipython-input-51-1063398262.py\u001b[0m in \u001b[0;36m<cell line: 0>\u001b[0;34m()\u001b[0m\n\u001b[1;32m      2\u001b[0m \u001b[0;34m\u001b[0m\u001b[0m\n\u001b[1;32m      3\u001b[0m \u001b[0;32mdel\u001b[0m \u001b[0mL1\u001b[0m\u001b[0;34m\u001b[0m\u001b[0;34m\u001b[0m\u001b[0m\n\u001b[0;32m----> 4\u001b[0;31m \u001b[0mprint\u001b[0m\u001b[0;34m(\u001b[0m\u001b[0mL1\u001b[0m\u001b[0;34m)\u001b[0m\u001b[0;34m\u001b[0m\u001b[0;34m\u001b[0m\u001b[0m\n\u001b[0m",
            "\u001b[0;31mNameError\u001b[0m: name 'L1' is not defined"
          ]
        }
      ]
    },
    {
      "cell_type": "code",
      "source": [
        "L1=[\"Core Python\", \"OOPS Python\", \"Collections\", \"GUI\", \"Database - SQL\"]\n",
        "\n",
        "for i in L1:\n",
        "  print(i)"
      ],
      "metadata": {
        "colab": {
          "base_uri": "https://localhost:8080/"
        },
        "id": "Eu84WlBAxZLh",
        "outputId": "15c0440f-a35e-4e94-952c-21e6e78d21d6"
      },
      "execution_count": null,
      "outputs": [
        {
          "output_type": "stream",
          "name": "stdout",
          "text": [
            "Core Python\n",
            "OOPS Python\n",
            "Collections\n",
            "GUI\n",
            "Database - SQL\n"
          ]
        }
      ]
    },
    {
      "cell_type": "code",
      "source": [
        "L1=[\"Core Python\", \"OOPS Python\", \"Collections\", \"GUI\", \"Database - SQL\"]\n",
        "\n",
        "for i in range(len(L1)):\n",
        "  print(i , \" - \" , L1[i])"
      ],
      "metadata": {
        "colab": {
          "base_uri": "https://localhost:8080/"
        },
        "id": "9jKPt-0PxhCo",
        "outputId": "095c23ef-ecd8-449b-8918-8e0e49130088"
      },
      "execution_count": null,
      "outputs": [
        {
          "output_type": "stream",
          "name": "stdout",
          "text": [
            "0  -  Core Python\n",
            "1  -  OOPS Python\n",
            "2  -  Collections\n",
            "3  -  GUI\n",
            "4  -  Database - SQL\n"
          ]
        }
      ]
    },
    {
      "cell_type": "code",
      "source": [
        "L1=[\"Core Python\", \"OOPS Python\", \"Collections\", \"GUI\", \"Database - SQL\"]\n",
        "\n",
        "i=0\n",
        "\n",
        "while i<len(L1):\n",
        "  print(i, \" - \", L1[i])\n",
        "  i=i+1"
      ],
      "metadata": {
        "colab": {
          "base_uri": "https://localhost:8080/"
        },
        "id": "RPieOkEOx0a7",
        "outputId": "715e8820-8322-41ab-85e7-29a85990556e"
      },
      "execution_count": null,
      "outputs": [
        {
          "output_type": "stream",
          "name": "stdout",
          "text": [
            "0  -  Core Python\n",
            "1  -  OOPS Python\n",
            "2  -  Collections\n",
            "3  -  GUI\n",
            "4  -  Database - SQL\n"
          ]
        }
      ]
    },
    {
      "cell_type": "code",
      "source": [
        "L1=[\"Core Python\", \"OOPS Python\", \"Collections\", \"GUI\", \"Database - SQL\"]\n",
        "\n",
        "print(L1)\n",
        "L1.sort()\n",
        "print(L1)"
      ],
      "metadata": {
        "colab": {
          "base_uri": "https://localhost:8080/"
        },
        "id": "TTP0f7sJyFDG",
        "outputId": "dd79dc1f-0220-4782-8d0f-1c13f7949049"
      },
      "execution_count": null,
      "outputs": [
        {
          "output_type": "stream",
          "name": "stdout",
          "text": [
            "['Core Python', 'OOPS Python', 'Collections', 'GUI', 'Database - SQL']\n",
            "['Collections', 'Core Python', 'Database - SQL', 'GUI', 'OOPS Python']\n"
          ]
        }
      ]
    },
    {
      "cell_type": "code",
      "source": [
        "check=[10,30,20,100,60,40,50,200]\n",
        "check.sort()\n",
        "print(check)"
      ],
      "metadata": {
        "colab": {
          "base_uri": "https://localhost:8080/"
        },
        "id": "mrEtaaaSyPUo",
        "outputId": "3392a9e3-222c-4753-a11d-24a0330c7ea7"
      },
      "execution_count": null,
      "outputs": [
        {
          "output_type": "stream",
          "name": "stdout",
          "text": [
            "[10, 20, 30, 40, 50, 60, 100, 200]\n"
          ]
        }
      ]
    },
    {
      "cell_type": "code",
      "source": [
        "L1=[\"Core Python\", \"OOPS Python\", \"Collections\", \"GUI\", \"Database - SQL\"]\n",
        "\n",
        "L1.sort(reverse=True)\n",
        "print(L1)"
      ],
      "metadata": {
        "colab": {
          "base_uri": "https://localhost:8080/"
        },
        "id": "blNG3gZHyak3",
        "outputId": "e3f1b27c-c6de-4c03-dee1-4a3aac4772ca"
      },
      "execution_count": null,
      "outputs": [
        {
          "output_type": "stream",
          "name": "stdout",
          "text": [
            "['OOPS Python', 'GUI', 'Database - SQL', 'Core Python', 'Collections']\n"
          ]
        }
      ]
    },
    {
      "cell_type": "code",
      "source": [
        "check=[10,30,60,80,20,40,100,800,300,200,600]\n",
        "check.sort(reverse=True)\n",
        "print(check)"
      ],
      "metadata": {
        "colab": {
          "base_uri": "https://localhost:8080/"
        },
        "id": "NAmu6cp8yhwh",
        "outputId": "34734fc8-c107-4281-8dd5-8b0eb0d71f36"
      },
      "execution_count": null,
      "outputs": [
        {
          "output_type": "stream",
          "name": "stdout",
          "text": [
            "[800, 600, 300, 200, 100, 80, 60, 40, 30, 20, 10]\n"
          ]
        }
      ]
    },
    {
      "cell_type": "code",
      "source": [
        "answer=[\"banana\", \"Orange\", \"Kiwi\", \"cherry\"]\n",
        "\n",
        "answer.sort(key=str.lower)\n",
        "print(answer)"
      ],
      "metadata": {
        "colab": {
          "base_uri": "https://localhost:8080/"
        },
        "id": "Q8VCsxmqy03C",
        "outputId": "35c22791-e68e-4480-ec63-942d3ae92bbd"
      },
      "execution_count": null,
      "outputs": [
        {
          "output_type": "stream",
          "name": "stdout",
          "text": [
            "['banana', 'cherry', 'Kiwi', 'Orange']\n"
          ]
        }
      ]
    },
    {
      "cell_type": "code",
      "source": [
        "L1=[\"Core Python\", \"OOPS Python\", \"Collections\", \"GUI\", \"Database - SQL\"]\n",
        "L1.reverse()\n",
        "print(L1)"
      ],
      "metadata": {
        "colab": {
          "base_uri": "https://localhost:8080/"
        },
        "id": "kEQxGXFyzHjx",
        "outputId": "f45b5376-cd14-4fa9-85b5-f355dd3a87c3"
      },
      "execution_count": null,
      "outputs": [
        {
          "output_type": "stream",
          "name": "stdout",
          "text": [
            "['Database - SQL', 'GUI', 'Collections', 'OOPS Python', 'Core Python']\n"
          ]
        }
      ]
    },
    {
      "cell_type": "code",
      "source": [
        "L1=[\"Core Python\", \"OOPS Python\", \"Collections\", \"GUI\", \"Database - SQL\"]\n",
        "\n",
        "answer=L1.copy()\n",
        "\n",
        "print(answer)\n",
        "print(L1)"
      ],
      "metadata": {
        "colab": {
          "base_uri": "https://localhost:8080/"
        },
        "id": "dHafN_2AzO9E",
        "outputId": "5fce2f54-adb6-44a6-fc9f-5943c2c52858"
      },
      "execution_count": null,
      "outputs": [
        {
          "output_type": "stream",
          "name": "stdout",
          "text": [
            "['Core Python', 'OOPS Python', 'Collections', 'GUI', 'Database - SQL']\n",
            "['Core Python', 'OOPS Python', 'Collections', 'GUI', 'Database - SQL']\n"
          ]
        }
      ]
    },
    {
      "cell_type": "code",
      "source": [
        "L1=[\"Core Python\", \"OOPS Python\", \"Collections\", \"GUI\", \"Database - SQL\"]\n",
        "\n",
        "answer=list(L1)\n",
        "print(answer)\n",
        "print(L1)"
      ],
      "metadata": {
        "colab": {
          "base_uri": "https://localhost:8080/"
        },
        "id": "3XZIAwiCzVvi",
        "outputId": "37b7ebd9-daeb-42c4-d729-50ca109ad31e"
      },
      "execution_count": null,
      "outputs": [
        {
          "output_type": "stream",
          "name": "stdout",
          "text": [
            "['Core Python', 'OOPS Python', 'Collections', 'GUI', 'Database - SQL']\n",
            "['Core Python', 'OOPS Python', 'Collections', 'GUI', 'Database - SQL']\n"
          ]
        }
      ]
    },
    {
      "cell_type": "code",
      "source": [
        "L1=[1,2,3,4,5]\n",
        "L2=[6,7,8,9,0]\n",
        "\n",
        "answer=L1+L2\n",
        "print(answer)"
      ],
      "metadata": {
        "colab": {
          "base_uri": "https://localhost:8080/"
        },
        "id": "TX30a1CfzfHf",
        "outputId": "a39d3fae-ca9d-4c71-ec67-6822415efaa7"
      },
      "execution_count": null,
      "outputs": [
        {
          "output_type": "stream",
          "name": "stdout",
          "text": [
            "[1, 2, 3, 4, 5, 6, 7, 8, 9, 0]\n"
          ]
        }
      ]
    },
    {
      "cell_type": "code",
      "source": [
        "for i in L2:\n",
        "  L1.append(i)\n",
        "\n",
        "print(L1)"
      ],
      "metadata": {
        "colab": {
          "base_uri": "https://localhost:8080/"
        },
        "id": "luJcZM2XznrU",
        "outputId": "08d4f39e-09b2-4c5d-8bac-69a5a84872d0"
      },
      "execution_count": null,
      "outputs": [
        {
          "output_type": "stream",
          "name": "stdout",
          "text": [
            "[1, 2, 3, 4, 5, 6, 7, 8, 9, 0]\n"
          ]
        }
      ]
    },
    {
      "cell_type": "code",
      "source": [
        "L1.extend(L2)\n",
        "print(L1)"
      ],
      "metadata": {
        "colab": {
          "base_uri": "https://localhost:8080/"
        },
        "id": "B-gF-_L6z0Um",
        "outputId": "34b5b266-2d83-4120-e2eb-08d6eb1049be"
      },
      "execution_count": null,
      "outputs": [
        {
          "output_type": "stream",
          "name": "stdout",
          "text": [
            "[1, 2, 3, 4, 5, 6, 7, 8, 9, 0, 6, 7, 8, 9, 0]\n"
          ]
        }
      ]
    },
    {
      "cell_type": "code",
      "source": [
        "L1=[\"Core Python\", \"OOPS Python\", \"Collections\", \"GUI\", \"Database - SQL\", \"Core Python\"]\n",
        "\n",
        "answer=L1.count(\"Core Python\")\n",
        "print(answer)"
      ],
      "metadata": {
        "colab": {
          "base_uri": "https://localhost:8080/"
        },
        "id": "fl4QNKLAz65V",
        "outputId": "5185100c-ac5e-4ca7-d840-f1c80d4411ae"
      },
      "execution_count": null,
      "outputs": [
        {
          "output_type": "stream",
          "name": "stdout",
          "text": [
            "2\n"
          ]
        }
      ]
    },
    {
      "cell_type": "code",
      "source": [
        "L1=[\"Core Python\", \"OOPS Python\", \"Collections\", \"GUI\", \"Database - SQL\"]\n",
        "\n",
        "answer=L1.index(\"Core Python\")\n",
        "print(answer)"
      ],
      "metadata": {
        "colab": {
          "base_uri": "https://localhost:8080/"
        },
        "id": "Fgr2nMrC0MEw",
        "outputId": "48de5d09-3a90-44fa-87e6-fc9529a7f406"
      },
      "execution_count": null,
      "outputs": [
        {
          "output_type": "stream",
          "name": "stdout",
          "text": [
            "0\n"
          ]
        }
      ]
    },
    {
      "cell_type": "code",
      "source": [
        "# List - append(), clear(), copy(), count(), extend(), index(), Insert(), pop(), remove(), reverse(), sort(), len(), type(), del"
      ],
      "metadata": {
        "id": "iOWDyfk30EaB"
      },
      "execution_count": null,
      "outputs": []
    },
    {
      "cell_type": "code",
      "source": [
        "# Tuples - Tuples are used to store multiple items in a single variable\n",
        "# ordered and unchageable, Allow Duplicates\n",
        "\n",
        "answer=(\"Core Python\", \"OOPS Python\", \"Collections\", \"Core Python\")\n",
        "print(answer)\n",
        "print(type(answer))\n",
        "print(len(answer))"
      ],
      "metadata": {
        "colab": {
          "base_uri": "https://localhost:8080/"
        },
        "id": "wdmjrck7tqip",
        "outputId": "fb3b2cac-4535-4acf-e8cc-a628ecf5af27"
      },
      "execution_count": null,
      "outputs": [
        {
          "output_type": "stream",
          "name": "stdout",
          "text": [
            "('Core Python', 'OOPS Python', 'Collections', 'Core Python')\n",
            "<class 'tuple'>\n",
            "4\n"
          ]
        }
      ]
    },
    {
      "cell_type": "code",
      "source": [
        "answer=(\"Core Python\")\n",
        "print(type(answer))"
      ],
      "metadata": {
        "colab": {
          "base_uri": "https://localhost:8080/"
        },
        "id": "K-FM3rBGvAl6",
        "outputId": "31f215c9-5ab8-4230-a5e9-3b8f015e0f0d"
      },
      "execution_count": null,
      "outputs": [
        {
          "output_type": "stream",
          "name": "stdout",
          "text": [
            "<class 'str'>\n"
          ]
        }
      ]
    },
    {
      "cell_type": "code",
      "source": [
        "answer=(\"Core Python\",)\n",
        "print(type(answer))"
      ],
      "metadata": {
        "colab": {
          "base_uri": "https://localhost:8080/"
        },
        "id": "7cKM8HHEvFZb",
        "outputId": "bc08573f-8747-4455-e184-68b4bf0b8540"
      },
      "execution_count": null,
      "outputs": [
        {
          "output_type": "stream",
          "name": "stdout",
          "text": [
            "<class 'tuple'>\n"
          ]
        }
      ]
    },
    {
      "cell_type": "code",
      "source": [
        "answer=tuple((\"Core Python\", \"OOPS Python\"))\n",
        "print(answer)\n",
        "print(type(answer))"
      ],
      "metadata": {
        "colab": {
          "base_uri": "https://localhost:8080/"
        },
        "id": "ItKbh-nFvMcH",
        "outputId": "acad5c9e-1983-47a6-de3c-1bce4e11ab87"
      },
      "execution_count": null,
      "outputs": [
        {
          "output_type": "stream",
          "name": "stdout",
          "text": [
            "('Core Python', 'OOPS Python')\n",
            "<class 'tuple'>\n"
          ]
        }
      ]
    },
    {
      "cell_type": "code",
      "source": [
        "answer=(\"Core Python\", \"OOPS Python\", \"Collections\")\n",
        "print(answer[0])\n",
        "print(answer[1])\n",
        "print(answer[2])\n",
        "print(answer[-1])\n",
        "print(answer[-2])\n",
        "print(answer[-3])"
      ],
      "metadata": {
        "colab": {
          "base_uri": "https://localhost:8080/"
        },
        "id": "_Ba-oL7NvWvO",
        "outputId": "77c8d622-b621-47b0-e83e-e3f308bce985"
      },
      "execution_count": null,
      "outputs": [
        {
          "output_type": "stream",
          "name": "stdout",
          "text": [
            "Core Python\n",
            "OOPS Python\n",
            "Collections\n",
            "Collections\n",
            "OOPS Python\n",
            "Core Python\n"
          ]
        }
      ]
    },
    {
      "cell_type": "code",
      "source": [
        "answer=(\"Core Python\", \"OOPS Python\", \"Collections\", \"GUI\", \"Database - \", \"MySQL\", \"SQLite\", \"PosegreSQL\")\n",
        "print(answer[1:4])"
      ],
      "metadata": {
        "colab": {
          "base_uri": "https://localhost:8080/"
        },
        "id": "BpYsf0SXvtwh",
        "outputId": "6dfcdef0-2c58-4180-a01e-73745866a97c"
      },
      "execution_count": null,
      "outputs": [
        {
          "output_type": "stream",
          "name": "stdout",
          "text": [
            "('OOPS Python', 'Collections', 'GUI')\n"
          ]
        }
      ]
    },
    {
      "cell_type": "code",
      "source": [
        "answer=(\"Core Python\", \"OOPS Python\", \"Collections\", \"GUI\", \"Database - \", \"MySQL\", \"SQLite\", \"PosegreSQL\")\n",
        "print(answer[1:])"
      ],
      "metadata": {
        "colab": {
          "base_uri": "https://localhost:8080/"
        },
        "id": "r1vzzHCmv7A_",
        "outputId": "44e401e9-0484-4009-923e-41094c486f37"
      },
      "execution_count": null,
      "outputs": [
        {
          "output_type": "stream",
          "name": "stdout",
          "text": [
            "('OOPS Python', 'Collections', 'GUI', 'Database - ', 'MySQL', 'SQLite', 'PosegreSQL')\n"
          ]
        }
      ]
    },
    {
      "cell_type": "code",
      "source": [
        "answer=(\"Core Python\", \"OOPS Python\", \"Collections\", \"GUI\", \"Database - \", \"MySQL\", \"SQLite\", \"PosegreSQL\")\n",
        "print(answer[:4])"
      ],
      "metadata": {
        "colab": {
          "base_uri": "https://localhost:8080/"
        },
        "id": "-n5cW6vWv_jl",
        "outputId": "7a6f57e1-2bda-4b7a-e86d-1e30ba97a9bc"
      },
      "execution_count": null,
      "outputs": [
        {
          "output_type": "stream",
          "name": "stdout",
          "text": [
            "('Core Python', 'OOPS Python', 'Collections', 'GUI')\n"
          ]
        }
      ]
    },
    {
      "cell_type": "code",
      "source": [
        "answer=(\"Core Python\", \"OOPS Python\", \"Collections\", \"GUI\", \"Database - \", \"MySQL\", \"SQLite\", \"PosegreSQL\")\n",
        "\n",
        "if \"Python\" in answer:\n",
        "  print(\"Yes\")\n",
        "else:\n",
        "  print(\"No\")"
      ],
      "metadata": {
        "colab": {
          "base_uri": "https://localhost:8080/"
        },
        "id": "_6IgkzkWwG0T",
        "outputId": "a2f0e495-fd61-4434-b78b-e278db43b34a"
      },
      "execution_count": null,
      "outputs": [
        {
          "output_type": "stream",
          "name": "stdout",
          "text": [
            "No\n"
          ]
        }
      ]
    },
    {
      "cell_type": "code",
      "source": [
        "answer=(\"Core Python\", \"OOPS Python\", \"Collections\")\n",
        "check=list(answer)\n",
        "\n",
        "print(check)\n",
        "print(type(check))\n",
        "\n",
        "check[1]=\"Python - OOPS\"\n",
        "answer=tuple(check)\n",
        "\n",
        "print(answer)\n",
        "print(type(answer))"
      ],
      "metadata": {
        "colab": {
          "base_uri": "https://localhost:8080/"
        },
        "id": "NXv5I011wXap",
        "outputId": "b26a35aa-d089-442e-86c6-273456e5f3cc"
      },
      "execution_count": null,
      "outputs": [
        {
          "output_type": "stream",
          "name": "stdout",
          "text": [
            "['Core Python', 'OOPS Python', 'Collections']\n",
            "<class 'list'>\n",
            "('Core Python', 'Python - OOPS', 'Collections')\n",
            "<class 'tuple'>\n"
          ]
        }
      ]
    },
    {
      "cell_type": "code",
      "source": [
        "answer=(\"Core Python\", \"OOPS Python\", \"Collections\")\n",
        "\n",
        "check=list(answer)\n",
        "\n",
        "print(check)\n",
        "print(type(check))\n",
        "\n",
        "check.append(\"GUI\")\n",
        "\n",
        "answer=tuple(check)\n",
        "print(answer)\n",
        "print(type(answer))"
      ],
      "metadata": {
        "colab": {
          "base_uri": "https://localhost:8080/"
        },
        "id": "w5LSy8Dkw8y2",
        "outputId": "05fc8bfa-cd3b-47ed-8f79-cfd36c1e2ad0"
      },
      "execution_count": null,
      "outputs": [
        {
          "output_type": "stream",
          "name": "stdout",
          "text": [
            "['Core Python', 'OOPS Python', 'Collections']\n",
            "<class 'list'>\n",
            "('Core Python', 'OOPS Python', 'Collections', 'GUI')\n",
            "<class 'tuple'>\n"
          ]
        }
      ]
    },
    {
      "cell_type": "code",
      "source": [
        "T1=(\"Core Python\", \"Database Python\")\n",
        "T2=(\"AI\",\"NLP\")\n",
        "\n",
        "T1+=T2\n",
        "# T1=T1+T2\n",
        "\n",
        "print(T1)"
      ],
      "metadata": {
        "colab": {
          "base_uri": "https://localhost:8080/"
        },
        "id": "xgKGxiIAxYBH",
        "outputId": "af0f0cd7-ada1-4e25-f2ff-5daf8fd77e7c"
      },
      "execution_count": null,
      "outputs": [
        {
          "output_type": "stream",
          "name": "stdout",
          "text": [
            "('Core Python', 'Database Python', 'AI', 'NLP')\n"
          ]
        }
      ]
    },
    {
      "cell_type": "code",
      "source": [
        "answer=(\"Core Python\", \"OOPS Python\", \"Collections\")\n",
        "\n",
        "check=list(answer)\n",
        "check.remove(\"Core Python\")\n",
        "\n",
        "answer=tuple(check)\n",
        "\n",
        "print(answer)"
      ],
      "metadata": {
        "colab": {
          "base_uri": "https://localhost:8080/"
        },
        "id": "hgnKOtr_xob6",
        "outputId": "91d24d3c-4a92-4ef0-ea67-fcc79760bdd8"
      },
      "execution_count": null,
      "outputs": [
        {
          "output_type": "stream",
          "name": "stdout",
          "text": [
            "('OOPS Python', 'Collections')\n"
          ]
        }
      ]
    },
    {
      "cell_type": "code",
      "source": [
        "answer=(\"Core Python\", \"OOPS Python\", \"Collections\")\n",
        "print(answer)\n",
        "del answer\n",
        "print(answer)"
      ],
      "metadata": {
        "colab": {
          "base_uri": "https://localhost:8080/",
          "height": 193
        },
        "id": "dCcZJe0_x49n",
        "outputId": "857ea3e1-070f-452a-d1d3-660ba06d50ed"
      },
      "execution_count": null,
      "outputs": [
        {
          "output_type": "stream",
          "name": "stdout",
          "text": [
            "('Core Python', 'OOPS Python', 'Collections')\n"
          ]
        },
        {
          "output_type": "error",
          "ename": "NameError",
          "evalue": "name 'answer' is not defined",
          "traceback": [
            "\u001b[0;31m---------------------------------------------------------------------------\u001b[0m",
            "\u001b[0;31mNameError\u001b[0m                                 Traceback (most recent call last)",
            "\u001b[0;32m/tmp/ipython-input-27-1816186206.py\u001b[0m in \u001b[0;36m<cell line: 0>\u001b[0;34m()\u001b[0m\n\u001b[1;32m      2\u001b[0m \u001b[0mprint\u001b[0m\u001b[0;34m(\u001b[0m\u001b[0manswer\u001b[0m\u001b[0;34m)\u001b[0m\u001b[0;34m\u001b[0m\u001b[0;34m\u001b[0m\u001b[0m\n\u001b[1;32m      3\u001b[0m \u001b[0;32mdel\u001b[0m \u001b[0manswer\u001b[0m\u001b[0;34m\u001b[0m\u001b[0;34m\u001b[0m\u001b[0m\n\u001b[0;32m----> 4\u001b[0;31m \u001b[0mprint\u001b[0m\u001b[0;34m(\u001b[0m\u001b[0manswer\u001b[0m\u001b[0;34m)\u001b[0m\u001b[0;34m\u001b[0m\u001b[0;34m\u001b[0m\u001b[0m\n\u001b[0m",
            "\u001b[0;31mNameError\u001b[0m: name 'answer' is not defined"
          ]
        }
      ]
    },
    {
      "cell_type": "code",
      "source": [
        "answer=(\"Core Python\", \"OOPS Python\", \"Collections\")\n",
        "\n",
        "(L1, L2, L3)=answer\n",
        "\n",
        "print(L1)\n",
        "print(L2)\n",
        "print(L3)"
      ],
      "metadata": {
        "colab": {
          "base_uri": "https://localhost:8080/"
        },
        "id": "5nRA5uE_yIlg",
        "outputId": "6b5e9901-6ff6-4723-a092-b00f1a1edd21"
      },
      "execution_count": null,
      "outputs": [
        {
          "output_type": "stream",
          "name": "stdout",
          "text": [
            "Core Python\n",
            "OOPS Python\n",
            "Collections\n"
          ]
        }
      ]
    },
    {
      "cell_type": "code",
      "source": [
        "answer=(\"Core Python\", \"OOPS Python\", \"Collections\", \"GUI\", \"Database - MySQL\", \"SQLite\", \"PosegreSQL\", \"AI\", \"Coputer Vision\", \"NLP\")\n",
        "(L1, L2, L3, *L4)=answer\n",
        "\n",
        "print(L1)\n",
        "print(L2)\n",
        "print(L3)\n",
        "print(L4)\n",
        "print(\"-----------------------------------------------\")\n",
        "(L1, *L2, L3 )=answer\n",
        "print(L1)\n",
        "print(L2)\n",
        "print(L3)"
      ],
      "metadata": {
        "colab": {
          "base_uri": "https://localhost:8080/"
        },
        "id": "lFl4AmzQyTgY",
        "outputId": "a97eee0a-3a38-4529-ccce-b9fa0f5493a9"
      },
      "execution_count": null,
      "outputs": [
        {
          "output_type": "stream",
          "name": "stdout",
          "text": [
            "Core Python\n",
            "OOPS Python\n",
            "Collections\n",
            "['GUI', 'Database - MySQL', 'SQLite', 'PosegreSQL', 'AI', 'Coputer Vision', 'NLP']\n",
            "-----------------------------------------------\n",
            "Core Python\n",
            "['OOPS Python', 'Collections', 'GUI', 'Database - MySQL', 'SQLite', 'PosegreSQL', 'AI', 'Coputer Vision']\n",
            "NLP\n"
          ]
        }
      ]
    },
    {
      "cell_type": "code",
      "source": [
        "answer=(\"Core Python\", \"OOPS Python\", \"Collections\")\n",
        "\n",
        "for i in answer:\n",
        "  print(i)"
      ],
      "metadata": {
        "colab": {
          "base_uri": "https://localhost:8080/"
        },
        "id": "WpdrSAyMy5vo",
        "outputId": "68d29417-31e7-4005-e720-992fbbcdc409"
      },
      "execution_count": null,
      "outputs": [
        {
          "output_type": "stream",
          "name": "stdout",
          "text": [
            "Core Python\n",
            "OOPS Python\n",
            "Collections\n"
          ]
        }
      ]
    },
    {
      "cell_type": "code",
      "source": [
        "answer=(\"Core Python\", \"OOPS Python\", \"Collections\")\n",
        "\n",
        "for i in range(len(answer)):\n",
        "  print(i, \" - \", answer[i])"
      ],
      "metadata": {
        "colab": {
          "base_uri": "https://localhost:8080/"
        },
        "id": "r0zqzX2Ay_MS",
        "outputId": "0574177e-5ea1-4ade-c0de-68836df193cc"
      },
      "execution_count": null,
      "outputs": [
        {
          "output_type": "stream",
          "name": "stdout",
          "text": [
            "0  -  Core Python\n",
            "1  -  OOPS Python\n",
            "2  -  Collections\n"
          ]
        }
      ]
    },
    {
      "cell_type": "code",
      "source": [
        "answer=(\"Core Python\", \"OOPS Python\", \"Collections\")\n",
        "\n",
        "i=0\n",
        "while(i<len(answer)):\n",
        "  print(answer[i])\n",
        "  i=i+1"
      ],
      "metadata": {
        "colab": {
          "base_uri": "https://localhost:8080/"
        },
        "id": "U4r1DHiZzMZu",
        "outputId": "a28678db-f9b6-4fa2-e847-1942382b6956"
      },
      "execution_count": null,
      "outputs": [
        {
          "output_type": "stream",
          "name": "stdout",
          "text": [
            "Core Python\n",
            "OOPS Python\n",
            "Collections\n"
          ]
        }
      ]
    },
    {
      "cell_type": "code",
      "source": [
        "T1=(\"Core Python\", \"OOPS Python\", \"Collections\")\n",
        "T2=(\"GUI\", \"Database - MySQL, SQLite\")\n",
        "\n",
        "answer=T1+T2\n",
        "print(answer)"
      ],
      "metadata": {
        "colab": {
          "base_uri": "https://localhost:8080/"
        },
        "id": "f4UpJeSkzaMZ",
        "outputId": "b9b425e2-403e-4ffd-ebbb-a873010af19a"
      },
      "execution_count": null,
      "outputs": [
        {
          "output_type": "stream",
          "name": "stdout",
          "text": [
            "('Core Python', 'OOPS Python', 'Collections', 'GUI', 'Database - MySQL, SQLite')\n"
          ]
        }
      ]
    },
    {
      "cell_type": "code",
      "source": [
        "answer=(\"Core Python\", \"OOPS Python\", \"Collections\")\n",
        "check=answer*5\n",
        "print(check)"
      ],
      "metadata": {
        "colab": {
          "base_uri": "https://localhost:8080/"
        },
        "id": "4_tX1fHazoOy",
        "outputId": "510bd23b-94e6-4b3b-fbe2-a8ac954eaa02"
      },
      "execution_count": null,
      "outputs": [
        {
          "output_type": "stream",
          "name": "stdout",
          "text": [
            "('Core Python', 'OOPS Python', 'Collections', 'Core Python', 'OOPS Python', 'Collections', 'Core Python', 'OOPS Python', 'Collections', 'Core Python', 'OOPS Python', 'Collections', 'Core Python', 'OOPS Python', 'Collections')\n"
          ]
        }
      ]
    },
    {
      "cell_type": "code",
      "source": [
        "answer=(\"Core Python\", \"OOPS Python\", \"Collections\",\"Core Python\")\n",
        "\n",
        "check=answer.count(\"Core Python\")\n",
        "print(check)"
      ],
      "metadata": {
        "colab": {
          "base_uri": "https://localhost:8080/"
        },
        "id": "GtEB4dLOz0jC",
        "outputId": "cbacfb05-1053-4b05-cb12-b906ce1fc67d"
      },
      "execution_count": null,
      "outputs": [
        {
          "output_type": "stream",
          "name": "stdout",
          "text": [
            "2\n"
          ]
        }
      ]
    },
    {
      "cell_type": "code",
      "source": [
        "answer=(\"Core Python\", \"OOPS Python\", \"Collections\")\n",
        "\n",
        "check=answer.index(\"Core Python\")\n",
        "print(check)"
      ],
      "metadata": {
        "colab": {
          "base_uri": "https://localhost:8080/"
        },
        "id": "ZAaOh8Gfz_-I",
        "outputId": "4456a2db-3556-4825-ec6f-83554c5519d5"
      },
      "execution_count": null,
      "outputs": [
        {
          "output_type": "stream",
          "name": "stdout",
          "text": [
            "0\n"
          ]
        }
      ]
    },
    {
      "cell_type": "code",
      "source": [
        "# Set - Set are used to store multiple items in a single variable\n",
        "# Unordered, UnChangeable, Duplicates Not Allowed\n",
        "\n",
        "answer={\"Core Python\", \"OOPS Python\", \"Collections\", \"GUI\", \"Database\", \"Core Python\", \"GUI\"}\n",
        "print(answer)"
      ],
      "metadata": {
        "id": "_LGEI9ozk_Af",
        "colab": {
          "base_uri": "https://localhost:8080/"
        },
        "outputId": "d1533cb9-f02f-4ee8-c2b1-fd3df7cc0845"
      },
      "execution_count": null,
      "outputs": [
        {
          "output_type": "stream",
          "name": "stdout",
          "text": [
            "{'Core Python', 'Collections', 'OOPS Python', 'Database', 'GUI'}\n"
          ]
        }
      ]
    },
    {
      "cell_type": "code",
      "source": [
        "check={\"Python\", 15000, True, \"50%\"}\n",
        "print(check)\n",
        "print(type(check))"
      ],
      "metadata": {
        "colab": {
          "base_uri": "https://localhost:8080/"
        },
        "id": "hjpH61xqnTHc",
        "outputId": "467d7969-bfb5-4932-dc05-059b8f65be85"
      },
      "execution_count": null,
      "outputs": [
        {
          "output_type": "stream",
          "name": "stdout",
          "text": [
            "{'Python', True, 15000, '50%'}\n",
            "<class 'set'>\n"
          ]
        }
      ]
    },
    {
      "cell_type": "code",
      "source": [
        "check={\"Python\", \"Java\", \"JavaScript\"}\n",
        "print(len(check))"
      ],
      "metadata": {
        "colab": {
          "base_uri": "https://localhost:8080/"
        },
        "id": "EMqRs1fEnTKR",
        "outputId": "ee666404-f72e-4371-e8b0-b1e951e62733"
      },
      "execution_count": null,
      "outputs": [
        {
          "output_type": "stream",
          "name": "stdout",
          "text": [
            "3\n"
          ]
        }
      ]
    },
    {
      "cell_type": "code",
      "source": [
        "print(type(check))"
      ],
      "metadata": {
        "colab": {
          "base_uri": "https://localhost:8080/"
        },
        "id": "IntsXaIUnTNH",
        "outputId": "06c89061-73fa-42c4-d465-f75a25eb13d5"
      },
      "execution_count": null,
      "outputs": [
        {
          "output_type": "stream",
          "name": "stdout",
          "text": [
            "<class 'set'>\n"
          ]
        }
      ]
    },
    {
      "cell_type": "code",
      "source": [
        "# set() Constructor\n",
        "\n",
        "check=set((\"Python\", \"Java\", \"JavaScript\", \"AI\", \"NLP\"))\n",
        "print(check)\n",
        "print(type(check))\n",
        "print(len(check))"
      ],
      "metadata": {
        "colab": {
          "base_uri": "https://localhost:8080/"
        },
        "id": "otVo1khEnTQg",
        "outputId": "c5dfdd65-00d6-4d3e-b428-ded1dbce7b0d"
      },
      "execution_count": null,
      "outputs": [
        {
          "output_type": "stream",
          "name": "stdout",
          "text": [
            "{'JavaScript', 'NLP', 'Java', 'Python', 'AI'}\n",
            "<class 'set'>\n",
            "5\n"
          ]
        }
      ]
    },
    {
      "cell_type": "code",
      "source": [
        "check={\"Python\", \"AI\", \"NLP\", \"Computer Vision\"}\n",
        "\n",
        "for i in check:\n",
        "  print(i)"
      ],
      "metadata": {
        "colab": {
          "base_uri": "https://localhost:8080/"
        },
        "id": "NY2UhEERnTj5",
        "outputId": "2ec34ed1-83bb-4994-c21b-09a356f4834e"
      },
      "execution_count": null,
      "outputs": [
        {
          "output_type": "stream",
          "name": "stdout",
          "text": [
            "Python\n",
            "AI\n",
            "Computer Vision\n",
            "NLP\n"
          ]
        }
      ]
    },
    {
      "cell_type": "code",
      "source": [
        "check={\"Python\", \"AI\", \"NLP\", \"Computer Vision\"}\n",
        "\n",
        "print(\"AI\" in check)"
      ],
      "metadata": {
        "colab": {
          "base_uri": "https://localhost:8080/"
        },
        "id": "cdcGiMxVnTsT",
        "outputId": "164811de-7eeb-420f-a2ab-6c094c806e0e"
      },
      "execution_count": null,
      "outputs": [
        {
          "output_type": "stream",
          "name": "stdout",
          "text": [
            "True\n"
          ]
        }
      ]
    },
    {
      "cell_type": "code",
      "source": [
        "print(\"OpenCV\" not in check)"
      ],
      "metadata": {
        "colab": {
          "base_uri": "https://localhost:8080/"
        },
        "id": "q6uEgbCdogp1",
        "outputId": "81f9c977-c034-4f57-ae21-db216061db62"
      },
      "execution_count": null,
      "outputs": [
        {
          "output_type": "stream",
          "name": "stdout",
          "text": [
            "True\n"
          ]
        }
      ]
    },
    {
      "cell_type": "code",
      "source": [
        "check={\"Python\", \"AI\", \"NLP\", \"Computer Vision\"}\n",
        "print(check)\n",
        "check.add(\"OpenCV\")\n",
        "print(check)"
      ],
      "metadata": {
        "colab": {
          "base_uri": "https://localhost:8080/"
        },
        "id": "BhCPYZ6Nogst",
        "outputId": "fe68acc3-6dcc-4164-fae9-ff1a7cb9fa4a"
      },
      "execution_count": null,
      "outputs": [
        {
          "output_type": "stream",
          "name": "stdout",
          "text": [
            "{'Python', 'AI', 'Computer Vision', 'NLP'}\n",
            "{'OpenCV', 'NLP', 'Computer Vision', 'Python', 'AI'}\n"
          ]
        }
      ]
    },
    {
      "cell_type": "code",
      "source": [
        "set1={\"Python\", \"AI\", \"NLP\"}\n",
        "set2={\"ML\", \"DL\", \"NN\", \"DS\", \"DA\", \"DV\"}\n",
        "\n",
        "set1.update(set2)\n",
        "\n",
        "print(set1)"
      ],
      "metadata": {
        "colab": {
          "base_uri": "https://localhost:8080/"
        },
        "id": "CoX0x0Mnogvm",
        "outputId": "ae5844ce-75c8-4e8c-8bbe-7554592b2f2b"
      },
      "execution_count": null,
      "outputs": [
        {
          "output_type": "stream",
          "name": "stdout",
          "text": [
            "{'NN', 'DV', 'ML', 'DS', 'NLP', 'DA', 'Python', 'DL', 'AI'}\n"
          ]
        }
      ]
    },
    {
      "cell_type": "code",
      "source": [
        "set1={\"Python\", \"AI\", \"NLP\"}\n",
        "list1=[\"ML\", \"DL\", \"NN\"]\n",
        "\n",
        "set1.update(list1)\n",
        "\n",
        "print(set1)"
      ],
      "metadata": {
        "colab": {
          "base_uri": "https://localhost:8080/"
        },
        "id": "YwcJYq5HogyX",
        "outputId": "d4e80028-32c9-457f-aac3-a0104d89674a"
      },
      "execution_count": null,
      "outputs": [
        {
          "output_type": "stream",
          "name": "stdout",
          "text": [
            "{'NN', 'ML', 'NLP', 'Python', 'DL', 'AI'}\n"
          ]
        }
      ]
    },
    {
      "cell_type": "code",
      "source": [
        "check={\"Python\", \"AI\", \"NLP\", \"Computer Vision\"}\n",
        "\n",
        "check.remove(\"Computer Vision\")\n",
        "print(check)"
      ],
      "metadata": {
        "colab": {
          "base_uri": "https://localhost:8080/"
        },
        "id": "azNCExRtog1t",
        "outputId": "b7d35153-89d1-4518-ef5f-768832379c97"
      },
      "execution_count": null,
      "outputs": [
        {
          "output_type": "stream",
          "name": "stdout",
          "text": [
            "{'Python', 'AI', 'NLP'}\n"
          ]
        }
      ]
    },
    {
      "cell_type": "code",
      "source": [
        "check={\"Python\", \"AI\", \"NLP\", \"Computer Vision\"}\n",
        "\n",
        "check.discard(\"AI\")\n",
        "print(check)"
      ],
      "metadata": {
        "colab": {
          "base_uri": "https://localhost:8080/"
        },
        "id": "0guJl33Hog4m",
        "outputId": "552b245e-4467-49f3-d7b3-fc0bdeed6694"
      },
      "execution_count": null,
      "outputs": [
        {
          "output_type": "stream",
          "name": "stdout",
          "text": [
            "{'Python', 'Computer Vision', 'NLP'}\n"
          ]
        }
      ]
    },
    {
      "cell_type": "code",
      "source": [
        "check={\"Python\", \"AI\", \"NLP\", \"Computer Vision\"}\n",
        "\n",
        "deletevalue=check.pop()\n",
        "\n",
        "print(deletevalue)\n",
        "print(check)\n"
      ],
      "metadata": {
        "colab": {
          "base_uri": "https://localhost:8080/"
        },
        "id": "9TDj7sR0nT1H",
        "outputId": "d1550a20-7f3d-4d0f-c7a2-299adbf2d592"
      },
      "execution_count": null,
      "outputs": [
        {
          "output_type": "stream",
          "name": "stdout",
          "text": [
            "Python\n",
            "{'AI', 'Computer Vision', 'NLP'}\n"
          ]
        }
      ]
    },
    {
      "cell_type": "code",
      "source": [
        "check={\"Python\", \"AI\", \"NLP\", \"Computer Vision\"}\n",
        "print(check)\n",
        "check.clear()\n",
        "print(check)"
      ],
      "metadata": {
        "colab": {
          "base_uri": "https://localhost:8080/"
        },
        "id": "XN1hsSy8nT7P",
        "outputId": "62aa6d6a-725f-4497-e03c-65b845e810e9"
      },
      "execution_count": null,
      "outputs": [
        {
          "output_type": "stream",
          "name": "stdout",
          "text": [
            "{'Python', 'AI', 'Computer Vision', 'NLP'}\n",
            "set()\n"
          ]
        }
      ]
    },
    {
      "cell_type": "code",
      "source": [
        "check={\"Python\", \"AI\", \"NLP\", \"Computer Vision\"}\n",
        "\n",
        "print(check)\n",
        "del check\n",
        "print(check)"
      ],
      "metadata": {
        "colab": {
          "base_uri": "https://localhost:8080/",
          "height": 193
        },
        "id": "-l1Rkp0_qDyK",
        "outputId": "f755fb3e-6c89-4f22-e5f5-0cb5a8b06d98"
      },
      "execution_count": null,
      "outputs": [
        {
          "output_type": "stream",
          "name": "stdout",
          "text": [
            "{'Python', 'AI', 'Computer Vision', 'NLP'}\n"
          ]
        },
        {
          "output_type": "error",
          "ename": "NameError",
          "evalue": "name 'check' is not defined",
          "traceback": [
            "\u001b[0;31m---------------------------------------------------------------------------\u001b[0m",
            "\u001b[0;31mNameError\u001b[0m                                 Traceback (most recent call last)",
            "\u001b[0;32m/tmp/ipython-input-22-1084795124.py\u001b[0m in \u001b[0;36m<cell line: 0>\u001b[0;34m()\u001b[0m\n\u001b[1;32m      3\u001b[0m \u001b[0mprint\u001b[0m\u001b[0;34m(\u001b[0m\u001b[0mcheck\u001b[0m\u001b[0;34m)\u001b[0m\u001b[0;34m\u001b[0m\u001b[0;34m\u001b[0m\u001b[0m\n\u001b[1;32m      4\u001b[0m \u001b[0;32mdel\u001b[0m \u001b[0mcheck\u001b[0m\u001b[0;34m\u001b[0m\u001b[0;34m\u001b[0m\u001b[0m\n\u001b[0;32m----> 5\u001b[0;31m \u001b[0mprint\u001b[0m\u001b[0;34m(\u001b[0m\u001b[0mcheck\u001b[0m\u001b[0;34m)\u001b[0m\u001b[0;34m\u001b[0m\u001b[0;34m\u001b[0m\u001b[0m\n\u001b[0m",
            "\u001b[0;31mNameError\u001b[0m: name 'check' is not defined"
          ]
        }
      ]
    },
    {
      "cell_type": "code",
      "source": [
        "set1={\"Python\", \"AI\", \"NLP\"}\n",
        "set2={\"DS\",\"DA\",\"DV\"}\n",
        "\n",
        "answer=set1.union(set2)\n",
        "print(answer)"
      ],
      "metadata": {
        "colab": {
          "base_uri": "https://localhost:8080/"
        },
        "id": "2ZM5VhVnqD1H",
        "outputId": "641b24fe-f80c-4af7-d1cc-192826eb2846"
      },
      "execution_count": null,
      "outputs": [
        {
          "output_type": "stream",
          "name": "stdout",
          "text": [
            "{'DA', 'DV', 'Python', 'AI', 'NLP', 'DS'}\n"
          ]
        }
      ]
    },
    {
      "cell_type": "code",
      "source": [
        "set1={\"Python\", \"AI\", \"NLP\"}\n",
        "set2={\"DS\",\"DA\",\"DV\"}\n",
        "\n",
        "answer=set1 | set2\n",
        "print(answer)"
      ],
      "metadata": {
        "colab": {
          "base_uri": "https://localhost:8080/"
        },
        "id": "zEwb7ChsqD45",
        "outputId": "23947354-a65d-424d-d7c6-5b2b854de3be"
      },
      "execution_count": null,
      "outputs": [
        {
          "output_type": "stream",
          "name": "stdout",
          "text": [
            "{'DA', 'DV', 'Python', 'AI', 'NLP', 'DS'}\n"
          ]
        }
      ]
    },
    {
      "cell_type": "code",
      "source": [
        "set1={\"Python\", \"AI\", \"NLP\"}\n",
        "set2={\"DS\",\"DA\",\"DV\"}\n",
        "set3={\"GUI\", \"PYQT\", \"Tkiner\"}\n",
        "set4={\"Django\", \"Flask\"}\n",
        "\n",
        "answer=set1.union(set2,set3,set4)\n",
        "print(answer)\n",
        "\n",
        "answer1= set1 | set2 | set3 | set4\n",
        "print(answer)"
      ],
      "metadata": {
        "colab": {
          "base_uri": "https://localhost:8080/"
        },
        "id": "XuhxoxzwqD70",
        "outputId": "cb0d1ec5-17cb-4257-8212-42708d451258"
      },
      "execution_count": null,
      "outputs": [
        {
          "output_type": "stream",
          "name": "stdout",
          "text": [
            "{'Flask', 'Django', 'DV', 'PYQT', 'DS', 'NLP', 'GUI', 'DA', 'Tkiner', 'Python', 'AI'}\n",
            "{'Flask', 'Django', 'DV', 'PYQT', 'DS', 'NLP', 'GUI', 'DA', 'Tkiner', 'Python', 'AI'}\n"
          ]
        }
      ]
    },
    {
      "cell_type": "code",
      "source": [
        "set1={\"Python\", \"AI\", \"NLP\"}\n",
        "tuple1=(1,2,3)\n",
        "\n",
        "answer=set1.union(tuple1)\n",
        "print(answer)"
      ],
      "metadata": {
        "colab": {
          "base_uri": "https://localhost:8080/"
        },
        "id": "ZtpX9ePSqD-_",
        "outputId": "97b6f30c-bebf-46b3-f812-de39ed612a7d"
      },
      "execution_count": null,
      "outputs": [
        {
          "output_type": "stream",
          "name": "stdout",
          "text": [
            "{1, 2, 3, 'NLP', 'Python', 'AI'}\n"
          ]
        }
      ]
    },
    {
      "cell_type": "code",
      "source": [
        "set1={\"Python\", \"AI\", \"NLP\"}\n",
        "set2={\"DS\",\"DA\",\"DV\"}\n",
        "\n",
        "set1.update(set2)\n",
        "print(set1)"
      ],
      "metadata": {
        "colab": {
          "base_uri": "https://localhost:8080/"
        },
        "id": "fFmL4awLqEB8",
        "outputId": "64e4a442-56cb-4184-a9ba-ce78c53081f6"
      },
      "execution_count": null,
      "outputs": [
        {
          "output_type": "stream",
          "name": "stdout",
          "text": [
            "{'DA', 'DV', 'Python', 'AI', 'NLP', 'DS'}\n"
          ]
        }
      ]
    },
    {
      "cell_type": "code",
      "source": [
        "set1={\"apple\", \"banana\",\"cherry\"}\n",
        "set2={\"goole\", \"apple\", \"microsoft\"}\n",
        "\n",
        "answer=set1.intersection(set2)\n",
        "print(answer)"
      ],
      "metadata": {
        "colab": {
          "base_uri": "https://localhost:8080/"
        },
        "id": "3nGiwYSJnT-M",
        "outputId": "08e21ec6-cbaf-4833-f21b-71e00263b423"
      },
      "execution_count": null,
      "outputs": [
        {
          "output_type": "stream",
          "name": "stdout",
          "text": [
            "{'apple'}\n"
          ]
        }
      ]
    },
    {
      "cell_type": "code",
      "source": [
        "set1={\"apple\", \"banana\",\"cherry\"}\n",
        "set2={\"goole\", \"apple\", \"microsoft\"}\n",
        "\n",
        "answer=set1 & set2\n",
        "print(answer)"
      ],
      "metadata": {
        "colab": {
          "base_uri": "https://localhost:8080/"
        },
        "id": "facby3QBsCET",
        "outputId": "f9bad858-76aa-46dd-aff4-6b40a0018fd7"
      },
      "execution_count": null,
      "outputs": [
        {
          "output_type": "stream",
          "name": "stdout",
          "text": [
            "{'apple'}\n"
          ]
        }
      ]
    },
    {
      "cell_type": "code",
      "source": [
        "set1={\"apple\", \"banana\",\"cherry\"}\n",
        "set2={\"goole\", \"apple\", \"microsoft\"}\n",
        "\n",
        "set1.intersection_update(set2)\n",
        "print(set1)"
      ],
      "metadata": {
        "colab": {
          "base_uri": "https://localhost:8080/"
        },
        "id": "hA3j35zgsJfR",
        "outputId": "6875c7a6-75ef-4ec2-e315-0981b82d1f32"
      },
      "execution_count": null,
      "outputs": [
        {
          "output_type": "stream",
          "name": "stdout",
          "text": [
            "{'apple'}\n"
          ]
        }
      ]
    },
    {
      "cell_type": "code",
      "source": [
        "set1={\"apple\", \"banana\",\"cherry\"}\n",
        "set2={\"goole\", \"apple\", \"microsoft\"}\n",
        "\n",
        "answer=set1.difference(set2)\n",
        "print(answer)"
      ],
      "metadata": {
        "colab": {
          "base_uri": "https://localhost:8080/"
        },
        "id": "FvseFdSbsRA0",
        "outputId": "90cb8964-87b0-48ee-ea6d-bf91d1cd75bb"
      },
      "execution_count": null,
      "outputs": [
        {
          "output_type": "stream",
          "name": "stdout",
          "text": [
            "{'cherry', 'banana'}\n"
          ]
        }
      ]
    },
    {
      "cell_type": "code",
      "source": [
        "set1={\"apple\", \"banana\",\"cherry\"}\n",
        "set2={\"goole\", \"apple\", \"microsoft\"}\n",
        "\n",
        "answer=set1 - set2\n",
        "print(answer)"
      ],
      "metadata": {
        "colab": {
          "base_uri": "https://localhost:8080/"
        },
        "id": "vYcVjrE_sZ8D",
        "outputId": "d57474c7-df5c-4df7-f20f-ec2690855a64"
      },
      "execution_count": null,
      "outputs": [
        {
          "output_type": "stream",
          "name": "stdout",
          "text": [
            "{'cherry', 'banana'}\n"
          ]
        }
      ]
    },
    {
      "cell_type": "code",
      "source": [
        "set1={\"apple\", \"banana\",\"cherry\"}\n",
        "set2={\"goole\", \"apple\", \"microsoft\"}\n",
        "\n",
        "set1.difference_update(set2)\n",
        "print(set1)"
      ],
      "metadata": {
        "colab": {
          "base_uri": "https://localhost:8080/"
        },
        "id": "PkyHJuoCsaG6",
        "outputId": "1e7b5a4b-f79f-4804-ef2f-4c0e41f8f673"
      },
      "execution_count": null,
      "outputs": [
        {
          "output_type": "stream",
          "name": "stdout",
          "text": [
            "{'cherry', 'banana'}\n"
          ]
        }
      ]
    },
    {
      "cell_type": "code",
      "source": [
        "set1={\"apple\", \"banana\",\"cherry\"}\n",
        "set2={\"goole\", \"apple\", \"microsoft\"}\n",
        "\n",
        "answer=set1.symmetric_difference(set2)\n",
        "print(answer)"
      ],
      "metadata": {
        "colab": {
          "base_uri": "https://localhost:8080/"
        },
        "id": "J7aWLfL2saPj",
        "outputId": "da82d027-b1ba-4c09-b37f-5072f646f6f2"
      },
      "execution_count": null,
      "outputs": [
        {
          "output_type": "stream",
          "name": "stdout",
          "text": [
            "{'cherry', 'banana', 'microsoft', 'goole'}\n"
          ]
        }
      ]
    },
    {
      "cell_type": "code",
      "source": [
        "set1={\"apple\", \"banana\",\"cherry\"}\n",
        "set2={\"goole\", \"apple\", \"microsoft\"}\n",
        "\n",
        "answer=set1 ^ set2\n",
        "print(answer)"
      ],
      "metadata": {
        "colab": {
          "base_uri": "https://localhost:8080/"
        },
        "id": "zSkL-kW6saZY",
        "outputId": "9e10a595-fe0f-4739-d6e1-1114c52eb3ac"
      },
      "execution_count": null,
      "outputs": [
        {
          "output_type": "stream",
          "name": "stdout",
          "text": [
            "{'cherry', 'banana', 'microsoft', 'goole'}\n"
          ]
        }
      ]
    },
    {
      "cell_type": "code",
      "source": [
        "set1={\"apple\", \"banana\",\"cherry\"}\n",
        "set2={\"goole\", \"apple\", \"microsoft\"}\n",
        "\n",
        "set1.symmetric_difference_update(set2)\n",
        "print(set1)"
      ],
      "metadata": {
        "colab": {
          "base_uri": "https://localhost:8080/"
        },
        "id": "IdkDsp5xsah-",
        "outputId": "98d87e24-c010-438e-ed8a-f21fbb852bcb"
      },
      "execution_count": null,
      "outputs": [
        {
          "output_type": "stream",
          "name": "stdout",
          "text": [
            "{'cherry', 'banana', 'microsoft', 'goole'}\n"
          ]
        }
      ]
    },
    {
      "cell_type": "code",
      "source": [
        "set1={\"Python\", \"AI\", \"NLP\"}\n",
        "\n",
        "answer=set1.copy()\n",
        "\n",
        "print(set1)\n",
        "print(answer)"
      ],
      "metadata": {
        "colab": {
          "base_uri": "https://localhost:8080/"
        },
        "id": "A67J8QFgsawY",
        "outputId": "1602d5b2-956f-4567-a65e-44620d23ba67"
      },
      "execution_count": null,
      "outputs": [
        {
          "output_type": "stream",
          "name": "stdout",
          "text": [
            "{'Python', 'AI', 'NLP'}\n",
            "{'Python', 'AI', 'NLP'}\n"
          ]
        }
      ]
    },
    {
      "cell_type": "code",
      "source": [
        "# Dictionaries  Dictionary - Dictionaries are used to store data values in key:value pairs\n",
        "\n",
        "person={\n",
        "    \"name\":\"Sridhar\",\n",
        "    \"age\":27,\n",
        "    \"age\":28,\n",
        "    \"dob\":\"09/12/1997\"\n",
        "}\n",
        "print(person)\n",
        "print(person[\"name\"])\n",
        "print(person[\"age\"])\n",
        "print(person[\"dob\"])"
      ],
      "metadata": {
        "colab": {
          "base_uri": "https://localhost:8080/"
        },
        "id": "rSIhS2QDtjmq",
        "outputId": "9fd42656-62bd-4a55-caa1-fbad85381a1b"
      },
      "execution_count": null,
      "outputs": [
        {
          "output_type": "stream",
          "name": "stdout",
          "text": [
            "{'name': 'Sridhar', 'age': 28, 'dob': '09/12/1997'}\n",
            "Sridhar\n",
            "28\n",
            "09/12/1997\n"
          ]
        }
      ]
    },
    {
      "cell_type": "code",
      "source": [
        "person={\n",
        "    \"name\":\"Sridhar\",\n",
        "    \"age\":27,\n",
        "    \"dob\":\"09/12/1997\",\n",
        "    \"skills\":[\"Python\", \"SQLite\", \"MySQL\", \"PostgreSQL\"]\n",
        "}\n",
        "\n",
        "print(person)\n",
        "print(person[\"skills\"])"
      ],
      "metadata": {
        "colab": {
          "base_uri": "https://localhost:8080/"
        },
        "id": "C3VCZ8H-tj0m",
        "outputId": "e86c306b-6d93-48bb-ecfe-499b6793d97d"
      },
      "execution_count": null,
      "outputs": [
        {
          "output_type": "stream",
          "name": "stdout",
          "text": [
            "{'name': 'Sridhar', 'age': 27, 'dob': '09/12/1997', 'skills': ['Python', 'SQLite', 'MySQL', 'PostgreSQL']}\n",
            "['Python', 'SQLite', 'MySQL', 'PostgreSQL']\n"
          ]
        }
      ]
    },
    {
      "cell_type": "code",
      "source": [
        "person={\n",
        "    \"name\":\"Sridhar\",\n",
        "    \"age\":27,\n",
        "    \"dob\":\"09/12/1997\",\n",
        "    \"skills\":[\"Python\", \"SQLite\", \"MySQL\", \"PostgreSQL\"]\n",
        "}\n",
        "\n",
        "print(person)\n",
        "print(type(person))\n",
        "print(len(person))"
      ],
      "metadata": {
        "colab": {
          "base_uri": "https://localhost:8080/"
        },
        "id": "ADE86OdbtkAO",
        "outputId": "37c0e725-e046-41e0-9b07-e63034d73956"
      },
      "execution_count": null,
      "outputs": [
        {
          "output_type": "stream",
          "name": "stdout",
          "text": [
            "{'name': 'Sridhar', 'age': 27, 'dob': '09/12/1997', 'skills': ['Python', 'SQLite', 'MySQL', 'PostgreSQL']}\n",
            "<class 'dict'>\n",
            "4\n"
          ]
        }
      ]
    },
    {
      "cell_type": "code",
      "source": [
        "# dic() Construcotr\n",
        "\n",
        "person=dict(name=\"Sridhar\", age=27, bg=\"B-\")\n",
        "print(person)\n",
        "print(type(person))\n",
        "print(len(person))"
      ],
      "metadata": {
        "colab": {
          "base_uri": "https://localhost:8080/"
        },
        "id": "TwzAZ11atkMH",
        "outputId": "0266c818-9452-46ee-ab3a-c6d89be8aaf4"
      },
      "execution_count": null,
      "outputs": [
        {
          "output_type": "stream",
          "name": "stdout",
          "text": [
            "{'name': 'Sridhar', 'age': 27, 'bg': 'B-'}\n",
            "<class 'dict'>\n",
            "3\n"
          ]
        }
      ]
    },
    {
      "cell_type": "code",
      "source": [
        "person={\n",
        "    \"name\":\"Sridhar\",\n",
        "    \"age\":27,\n",
        "    \"dob\":\"09/12/1997\",\n",
        "    \"skills\":[\"Python\", \"SQLite\", \"MySQL\", \"PostgreSQL\"]\n",
        "}\n",
        "\n",
        "answer=person[\"name\"]\n",
        "print(answer)"
      ],
      "metadata": {
        "colab": {
          "base_uri": "https://localhost:8080/"
        },
        "id": "rqdUg9T6tkYc",
        "outputId": "95d55e25-8476-4c90-85f7-657cdc040598"
      },
      "execution_count": null,
      "outputs": [
        {
          "output_type": "stream",
          "name": "stdout",
          "text": [
            "Sridhar\n"
          ]
        }
      ]
    },
    {
      "cell_type": "code",
      "source": [
        "answer=person.get(\"name\")\n",
        "print(answer)\n",
        "answer1=person.get(\"skills\")\n",
        "print(answer1)"
      ],
      "metadata": {
        "colab": {
          "base_uri": "https://localhost:8080/"
        },
        "id": "Mqw3klP_tkiP",
        "outputId": "c8af2968-801b-49b1-8a1e-508bb50e9932"
      },
      "execution_count": null,
      "outputs": [
        {
          "output_type": "stream",
          "name": "stdout",
          "text": [
            "Sridhar\n",
            "['Python', 'SQLite', 'MySQL', 'PostgreSQL']\n"
          ]
        }
      ]
    },
    {
      "cell_type": "code",
      "source": [
        "answer=person.keys()\n",
        "print(answer)"
      ],
      "metadata": {
        "colab": {
          "base_uri": "https://localhost:8080/"
        },
        "id": "ZQzivC-XtktL",
        "outputId": "2eaaf619-0a65-49b6-cf48-d9ebf26d1b0d"
      },
      "execution_count": null,
      "outputs": [
        {
          "output_type": "stream",
          "name": "stdout",
          "text": [
            "dict_keys(['name', 'age', 'dob', 'skills'])\n"
          ]
        }
      ]
    },
    {
      "cell_type": "code",
      "source": [
        "person[\"email\"]=\"sridhar@gmail.com\"\n",
        "print(person)"
      ],
      "metadata": {
        "colab": {
          "base_uri": "https://localhost:8080/"
        },
        "id": "JL8U_ZZEtk3V",
        "outputId": "1c4052da-b552-4f5a-ac5d-a29950e8ef76"
      },
      "execution_count": null,
      "outputs": [
        {
          "output_type": "stream",
          "name": "stdout",
          "text": [
            "{'name': 'Sridhar', 'age': 27, 'dob': '09/12/1997', 'skills': ['Python', 'SQLite', 'MySQL', 'PostgreSQL'], 'email': 'sridhar@gmail.com'}\n"
          ]
        }
      ]
    },
    {
      "cell_type": "code",
      "source": [
        "answer=person.values()\n",
        "print(answer)"
      ],
      "metadata": {
        "colab": {
          "base_uri": "https://localhost:8080/"
        },
        "id": "gFrPF2FGvtqv",
        "outputId": "e03a7748-eeeb-4ffa-ca53-5925684c02bc"
      },
      "execution_count": null,
      "outputs": [
        {
          "output_type": "stream",
          "name": "stdout",
          "text": [
            "dict_values(['Sridhar', 27, '09/12/1997', ['Python', 'SQLite', 'MySQL', 'PostgreSQL'], 'sridhar@gmail.com'])\n"
          ]
        }
      ]
    },
    {
      "cell_type": "code",
      "source": [
        "answer=person.items()\n",
        "print(answer)"
      ],
      "metadata": {
        "colab": {
          "base_uri": "https://localhost:8080/"
        },
        "id": "GFBT_pkZv3Sv",
        "outputId": "968020dc-bdc8-48d9-f535-5310f23ff30d"
      },
      "execution_count": null,
      "outputs": [
        {
          "output_type": "stream",
          "name": "stdout",
          "text": [
            "dict_items([('name', 'Sridhar'), ('age', 27), ('dob', '09/12/1997'), ('skills', ['Python', 'SQLite', 'MySQL', 'PostgreSQL']), ('email', 'sridhar@gmail.com')])\n"
          ]
        }
      ]
    },
    {
      "cell_type": "code",
      "source": [
        "if \"role\" in person:\n",
        "  print(\"Yes\")\n",
        "else:\n",
        "  print(\"No\")"
      ],
      "metadata": {
        "colab": {
          "base_uri": "https://localhost:8080/"
        },
        "id": "0sVYA3pvv-_p",
        "outputId": "4cad9453-c134-4d43-e7a2-9dd662330e6b"
      },
      "execution_count": null,
      "outputs": [
        {
          "output_type": "stream",
          "name": "stdout",
          "text": [
            "No\n"
          ]
        }
      ]
    },
    {
      "cell_type": "code",
      "source": [
        "person={\n",
        "    \"name\":\"Sridhar\",\n",
        "    \"age\":27,\n",
        "    \"dob\":\"09/12/1997\",\n",
        "    \"skills\":[\"Python\", \"SQLite\", \"MySQL\", \"PostgreSQL\"]\n",
        "}\n",
        "\n",
        "print(person)\n",
        "person[\"age\"]=28\n",
        "print(person)"
      ],
      "metadata": {
        "colab": {
          "base_uri": "https://localhost:8080/"
        },
        "id": "9pdfk0M0v_M8",
        "outputId": "11c98ad2-4397-4161-970f-1b6b3b4be7d9"
      },
      "execution_count": null,
      "outputs": [
        {
          "output_type": "stream",
          "name": "stdout",
          "text": [
            "{'name': 'Sridhar', 'age': 27, 'dob': '09/12/1997', 'skills': ['Python', 'SQLite', 'MySQL', 'PostgreSQL']}\n",
            "{'name': 'Sridhar', 'age': 28, 'dob': '09/12/1997', 'skills': ['Python', 'SQLite', 'MySQL', 'PostgreSQL']}\n"
          ]
        }
      ]
    },
    {
      "cell_type": "code",
      "source": [
        "person={\n",
        "    \"name\":\"Sridhar\",\n",
        "    \"age\":27,\n",
        "    \"dob\":\"09/12/1997\",\n",
        "    \"skills\":[\"Python\", \"SQLite\", \"MySQL\", \"PostgreSQL\"]\n",
        "}\n",
        "print(person)\n",
        "person.update({\"age\":28})\n",
        "print(person)"
      ],
      "metadata": {
        "colab": {
          "base_uri": "https://localhost:8080/"
        },
        "id": "TDc_p5QXv_W8",
        "outputId": "a226712f-c481-449f-cd38-fc8c2dcbbf07"
      },
      "execution_count": null,
      "outputs": [
        {
          "output_type": "stream",
          "name": "stdout",
          "text": [
            "{'name': 'Sridhar', 'age': 27, 'dob': '09/12/1997', 'skills': ['Python', 'SQLite', 'MySQL', 'PostgreSQL']}\n",
            "{'name': 'Sridhar', 'age': 28, 'dob': '09/12/1997', 'skills': ['Python', 'SQLite', 'MySQL', 'PostgreSQL']}\n"
          ]
        }
      ]
    },
    {
      "cell_type": "code",
      "source": [
        "person={\n",
        "    \"name\":\"Sridhar\",\n",
        "    \"age\":27,\n",
        "    \"dob\":\"09/12/1997\",\n",
        "    \"skills\":[\"Python\", \"SQLite\", \"MySQL\", \"PostgreSQL\"]\n",
        "}\n",
        "print(person)\n",
        "person.update({\"bg\":\"B-\"})\n",
        "print(person)"
      ],
      "metadata": {
        "colab": {
          "base_uri": "https://localhost:8080/"
        },
        "id": "OEfnfkNQw810",
        "outputId": "8b3dae43-685d-478a-ae77-49ef60a64322"
      },
      "execution_count": null,
      "outputs": [
        {
          "output_type": "stream",
          "name": "stdout",
          "text": [
            "{'name': 'Sridhar', 'age': 27, 'dob': '09/12/1997', 'skills': ['Python', 'SQLite', 'MySQL', 'PostgreSQL']}\n",
            "{'name': 'Sridhar', 'age': 27, 'dob': '09/12/1997', 'skills': ['Python', 'SQLite', 'MySQL', 'PostgreSQL'], 'bg': 'B-'}\n"
          ]
        }
      ]
    },
    {
      "cell_type": "code",
      "source": [
        "person={\n",
        "    \"name\":\"Sridhar\",\n",
        "    \"age\":27,\n",
        "    \"dob\":\"09/12/1997\",\n",
        "    \"skills\":[\"Python\", \"SQLite\", \"MySQL\", \"PostgreSQL\"]\n",
        "}\n",
        "\n",
        "person.pop(\"dob\")\n",
        "print(person)"
      ],
      "metadata": {
        "colab": {
          "base_uri": "https://localhost:8080/"
        },
        "id": "W7yxqMjYxLAh",
        "outputId": "0cc10200-f5a1-43e1-8359-5cef77b35663"
      },
      "execution_count": null,
      "outputs": [
        {
          "output_type": "stream",
          "name": "stdout",
          "text": [
            "{'name': 'Sridhar', 'age': 27, 'skills': ['Python', 'SQLite', 'MySQL', 'PostgreSQL']}\n"
          ]
        }
      ]
    },
    {
      "cell_type": "code",
      "source": [
        "person={\n",
        "    \"name\":\"Sridhar\",\n",
        "    \"age\":27,\n",
        "    \"dob\":\"09/12/1997\",\n",
        "    \"skills\":[\"Python\", \"SQLite\", \"MySQL\", \"PostgreSQL\"]\n",
        "}\n",
        "\n",
        "person.popitem()\n",
        "print(person)"
      ],
      "metadata": {
        "colab": {
          "base_uri": "https://localhost:8080/"
        },
        "id": "3TOWlYNUxLHN",
        "outputId": "4c6859e2-cb72-49fd-ab34-9f97d9c65a1d"
      },
      "execution_count": null,
      "outputs": [
        {
          "output_type": "stream",
          "name": "stdout",
          "text": [
            "{'name': 'Sridhar', 'age': 27, 'dob': '09/12/1997'}\n"
          ]
        }
      ]
    },
    {
      "cell_type": "code",
      "source": [
        "person={\n",
        "    \"name\":\"Sridhar\",\n",
        "    \"age\":27,\n",
        "    \"dob\":\"09/12/1997\",\n",
        "    \"skills\":[\"Python\", \"SQLite\", \"MySQL\", \"PostgreSQL\"]\n",
        "}\n",
        "\n",
        "print(person)\n",
        "del person[\"age\"]\n",
        "print(person)"
      ],
      "metadata": {
        "colab": {
          "base_uri": "https://localhost:8080/"
        },
        "id": "sBDy1MHCxLNZ",
        "outputId": "ffc9862e-48f9-4a24-971e-c1a03609e651"
      },
      "execution_count": null,
      "outputs": [
        {
          "output_type": "stream",
          "name": "stdout",
          "text": [
            "{'name': 'Sridhar', 'age': 27, 'dob': '09/12/1997', 'skills': ['Python', 'SQLite', 'MySQL', 'PostgreSQL']}\n",
            "{'name': 'Sridhar', 'dob': '09/12/1997', 'skills': ['Python', 'SQLite', 'MySQL', 'PostgreSQL']}\n"
          ]
        }
      ]
    },
    {
      "cell_type": "code",
      "source": [
        "person={\n",
        "    \"name\":\"Sridhar\",\n",
        "    \"age\":27,\n",
        "    \"dob\":\"09/12/1997\",\n",
        "    \"skills\":[\"Python\", \"SQLite\", \"MySQL\", \"PostgreSQL\"]\n",
        "}\n",
        "\n",
        "print(person)\n",
        "del person\n",
        "print(person)"
      ],
      "metadata": {
        "colab": {
          "base_uri": "https://localhost:8080/",
          "height": 193
        },
        "id": "2AOFX2jpxlPB",
        "outputId": "eaf82d46-7216-4cd9-d292-8820ded10f87"
      },
      "execution_count": null,
      "outputs": [
        {
          "output_type": "stream",
          "name": "stdout",
          "text": [
            "{'name': 'Sridhar', 'age': 27, 'dob': '09/12/1997', 'skills': ['Python', 'SQLite', 'MySQL', 'PostgreSQL']}\n"
          ]
        },
        {
          "output_type": "error",
          "ename": "NameError",
          "evalue": "name 'person' is not defined",
          "traceback": [
            "\u001b[0;31m---------------------------------------------------------------------------\u001b[0m",
            "\u001b[0;31mNameError\u001b[0m                                 Traceback (most recent call last)",
            "\u001b[0;32m/tmp/ipython-input-64-3220512182.py\u001b[0m in \u001b[0;36m<cell line: 0>\u001b[0;34m()\u001b[0m\n\u001b[1;32m      8\u001b[0m \u001b[0mprint\u001b[0m\u001b[0;34m(\u001b[0m\u001b[0mperson\u001b[0m\u001b[0;34m)\u001b[0m\u001b[0;34m\u001b[0m\u001b[0;34m\u001b[0m\u001b[0m\n\u001b[1;32m      9\u001b[0m \u001b[0;32mdel\u001b[0m \u001b[0mperson\u001b[0m\u001b[0;34m\u001b[0m\u001b[0;34m\u001b[0m\u001b[0m\n\u001b[0;32m---> 10\u001b[0;31m \u001b[0mprint\u001b[0m\u001b[0;34m(\u001b[0m\u001b[0mperson\u001b[0m\u001b[0;34m)\u001b[0m\u001b[0;34m\u001b[0m\u001b[0;34m\u001b[0m\u001b[0m\n\u001b[0m",
            "\u001b[0;31mNameError\u001b[0m: name 'person' is not defined"
          ]
        }
      ]
    },
    {
      "cell_type": "code",
      "source": [
        "person={\n",
        "    \"name\":\"Sridhar\",\n",
        "    \"age\":27,\n",
        "    \"dob\":\"09/12/1997\",\n",
        "    \"skills\":[\"Python\", \"SQLite\", \"MySQL\", \"PostgreSQL\"]\n",
        "}\n",
        "\n",
        "person[\"email\"]=\"sridhar@gmail.com\"\n",
        "print(person)"
      ],
      "metadata": {
        "colab": {
          "base_uri": "https://localhost:8080/"
        },
        "id": "7ykZuL6Dv_g3",
        "outputId": "1e01c99e-fb20-4811-8859-272b22c6c4cc"
      },
      "execution_count": null,
      "outputs": [
        {
          "output_type": "stream",
          "name": "stdout",
          "text": [
            "{'name': 'Sridhar', 'age': 27, 'dob': '09/12/1997', 'skills': ['Python', 'SQLite', 'MySQL', 'PostgreSQL'], 'email': 'sridhar@gmail.com'}\n"
          ]
        }
      ]
    },
    {
      "cell_type": "code",
      "source": [
        "person={\n",
        "    \"name\":\"Sridhar\",\n",
        "    \"age\":27,\n",
        "    \"dob\":\"09/12/1997\",\n",
        "    \"skills\":[\"Python\", \"SQLite\", \"MySQL\", \"PostgreSQL\"]\n",
        "}\n",
        "\n",
        "print(person)\n",
        "person.clear()\n",
        "print(person)"
      ],
      "metadata": {
        "colab": {
          "base_uri": "https://localhost:8080/"
        },
        "id": "nM2SOaJPyXp0",
        "outputId": "d1442834-d0cd-46f0-8af2-f1219be3ba79"
      },
      "execution_count": null,
      "outputs": [
        {
          "output_type": "stream",
          "name": "stdout",
          "text": [
            "{'name': 'Sridhar', 'age': 27, 'dob': '09/12/1997', 'skills': ['Python', 'SQLite', 'MySQL', 'PostgreSQL']}\n",
            "{}\n"
          ]
        }
      ]
    },
    {
      "cell_type": "code",
      "source": [
        "person={\n",
        "    \"name\":\"Sridhar\",\n",
        "    \"age\":27,\n",
        "    \"dob\":\"09/12/1997\",\n",
        "    \"skills\":[\"Python\", \"SQLite\", \"MySQL\", \"PostgreSQL\"]\n",
        "}\n",
        "\n",
        "for i in person:\n",
        "  print(i)\n",
        "  print(person[i])"
      ],
      "metadata": {
        "colab": {
          "base_uri": "https://localhost:8080/"
        },
        "id": "IqHhsWIXygy4",
        "outputId": "22c8bfcf-6e95-4dc3-ac01-71fac722f51b"
      },
      "execution_count": null,
      "outputs": [
        {
          "output_type": "stream",
          "name": "stdout",
          "text": [
            "name\n",
            "Sridhar\n",
            "age\n",
            "27\n",
            "dob\n",
            "09/12/1997\n",
            "skills\n",
            "['Python', 'SQLite', 'MySQL', 'PostgreSQL']\n"
          ]
        }
      ]
    },
    {
      "cell_type": "code",
      "source": [
        "person={\n",
        "    \"name\":\"Sridhar\",\n",
        "    \"age\":27,\n",
        "    \"dob\":\"09/12/1997\",\n",
        "    \"skills\":[\"Python\", \"SQLite\", \"MySQL\", \"PostgreSQL\"]\n",
        "}\n",
        "\n",
        "answer=person.copy()\n",
        "print(answer)\n",
        "print(person)"
      ],
      "metadata": {
        "colab": {
          "base_uri": "https://localhost:8080/"
        },
        "id": "tmR-Y19SzMAy",
        "outputId": "4bdf2226-5307-4557-df02-9781a4bfed3b"
      },
      "execution_count": null,
      "outputs": [
        {
          "output_type": "stream",
          "name": "stdout",
          "text": [
            "{'name': 'Sridhar', 'age': 27, 'dob': '09/12/1997', 'skills': ['Python', 'SQLite', 'MySQL', 'PostgreSQL']}\n",
            "{'name': 'Sridhar', 'age': 27, 'dob': '09/12/1997', 'skills': ['Python', 'SQLite', 'MySQL', 'PostgreSQL']}\n"
          ]
        }
      ]
    },
    {
      "cell_type": "code",
      "source": [
        "person={\n",
        "    \"name\":\"Sridhar\",\n",
        "    \"age\":27,\n",
        "    \"dob\":\"09/12/1997\",\n",
        "    \"skills\":[\"Python\", \"SQLite\", \"MySQL\", \"PostgreSQL\"]\n",
        "}\n",
        "\n",
        "answer=dict(person)\n",
        "print(person)\n",
        "print(answer)"
      ],
      "metadata": {
        "colab": {
          "base_uri": "https://localhost:8080/"
        },
        "id": "qzm-rh60zUHS",
        "outputId": "fd49fec1-e95f-476e-8f34-61a3f21ca2fe"
      },
      "execution_count": null,
      "outputs": [
        {
          "output_type": "stream",
          "name": "stdout",
          "text": [
            "{'name': 'Sridhar', 'age': 27, 'dob': '09/12/1997', 'skills': ['Python', 'SQLite', 'MySQL', 'PostgreSQL']}\n",
            "{'name': 'Sridhar', 'age': 27, 'dob': '09/12/1997', 'skills': ['Python', 'SQLite', 'MySQL', 'PostgreSQL']}\n"
          ]
        }
      ]
    },
    {
      "cell_type": "code",
      "source": [
        "for i in person.values():\n",
        "  print(i)"
      ],
      "metadata": {
        "colab": {
          "base_uri": "https://localhost:8080/"
        },
        "id": "OxV9cUBRypf0",
        "outputId": "626bc485-57d0-425f-9ddc-bfb243ca625f"
      },
      "execution_count": null,
      "outputs": [
        {
          "output_type": "stream",
          "name": "stdout",
          "text": [
            "Sridhar\n",
            "27\n",
            "09/12/1997\n",
            "['Python', 'SQLite', 'MySQL', 'PostgreSQL']\n"
          ]
        }
      ]
    },
    {
      "cell_type": "code",
      "source": [
        "for i in person.keys():\n",
        "  print(i)"
      ],
      "metadata": {
        "colab": {
          "base_uri": "https://localhost:8080/"
        },
        "id": "26tMhhA-ywCm",
        "outputId": "ef9071c8-3895-40a9-d8a7-370b25cf5bc1"
      },
      "execution_count": null,
      "outputs": [
        {
          "output_type": "stream",
          "name": "stdout",
          "text": [
            "name\n",
            "age\n",
            "dob\n",
            "skills\n"
          ]
        }
      ]
    },
    {
      "cell_type": "code",
      "source": [
        "for i,j in person.items():\n",
        "  print(i, j)"
      ],
      "metadata": {
        "colab": {
          "base_uri": "https://localhost:8080/"
        },
        "id": "gu2K3GM7yz8-",
        "outputId": "cdb3bcaf-3fe6-412c-f668-1090c149d3d7"
      },
      "execution_count": null,
      "outputs": [
        {
          "output_type": "stream",
          "name": "stdout",
          "text": [
            "name Sridhar\n",
            "age 27\n",
            "dob 09/12/1997\n",
            "skills ['Python', 'SQLite', 'MySQL', 'PostgreSQL']\n"
          ]
        }
      ]
    },
    {
      "cell_type": "code",
      "source": [
        "for i in person:\n",
        "  print(person[i])"
      ],
      "metadata": {
        "colab": {
          "base_uri": "https://localhost:8080/"
        },
        "id": "L8bq0OFey5_2",
        "outputId": "350aa812-1ab2-4c8d-d1e2-f86e721ac71c"
      },
      "execution_count": null,
      "outputs": [
        {
          "output_type": "stream",
          "name": "stdout",
          "text": [
            "Sridhar\n",
            "27\n",
            "09/12/1997\n",
            "['Python', 'SQLite', 'MySQL', 'PostgreSQL']\n"
          ]
        }
      ]
    },
    {
      "cell_type": "code",
      "source": [
        "# Nested Dictionaries\n",
        "\n",
        "person={\n",
        "    \"persondetails\":{\n",
        "        \"name\":\"Sridhar Raj P\",\n",
        "        \"age\":27,\n",
        "        \"dob\":\"09/12/1997\"\n",
        "    },\n",
        "    \"companydetails\":{\n",
        "        \"companyname\":\"Credo Systemz\",\n",
        "        \"role\":\"Technical Head\"\n",
        "    },\n",
        "    \"salarydetails\":{\n",
        "        \"salary\":40000,\n",
        "        \"money\":\"INR\"\n",
        "    }\n",
        "}\n",
        "\n",
        "print(person)"
      ],
      "metadata": {
        "colab": {
          "base_uri": "https://localhost:8080/"
        },
        "id": "dYre_R-oziv5",
        "outputId": "ab70e42b-a1d5-417e-999f-fdffb096af28"
      },
      "execution_count": null,
      "outputs": [
        {
          "output_type": "stream",
          "name": "stdout",
          "text": [
            "{'persondetails': {'name': 'Sridhar Raj P', 'age': 27, 'dob': '09/12/1997'}, 'companydetails': {'companyname': 'Credo Systemz', 'role': 'Technical Head'}, 'salarydetails': {'salary': 40000, 'money': 'INR'}}\n"
          ]
        }
      ]
    },
    {
      "cell_type": "code",
      "source": [
        "persondetails={\n",
        "    \"name\":\"Sridhar Raj P\",\n",
        "    \"age\":27,\n",
        "    \"dob\":\"09/12/1997\"\n",
        "    }\n",
        "\n",
        "companydetails={\n",
        "    \"companyname\":\"Credo Systemz\",\n",
        "    \"role\":\"Technical Head\"\n",
        "  }\n",
        "\n",
        "salarydetails={\n",
        "    \"salary\":40000,\n",
        "    \"money\":\"INR\"\n",
        "    }\n",
        "\n",
        "answer={\n",
        "    \"persondetails\":persondetails,\n",
        "    \"companydetails\":companydetails,\n",
        "    \"salarydetails\":salarydetails,\n",
        "}\n",
        "\n",
        "print(answer)"
      ],
      "metadata": {
        "colab": {
          "base_uri": "https://localhost:8080/"
        },
        "id": "8vHBDbIOzi9l",
        "outputId": "9db81894-13b0-42a4-904c-6930f8c41c9a"
      },
      "execution_count": null,
      "outputs": [
        {
          "output_type": "stream",
          "name": "stdout",
          "text": [
            "{'persondetails': {'name': 'Sridhar Raj P', 'age': 27, 'dob': '09/12/1997'}, 'companydetails': {'companyname': 'Credo Systemz', 'role': 'Technical Head'}, 'salarydetails': {'salary': 40000, 'money': 'INR'}}\n"
          ]
        }
      ]
    },
    {
      "cell_type": "code",
      "source": [
        "# Nested Dictionaries\n",
        "\n",
        "person={\n",
        "    \"persondetails\":{\n",
        "        \"name\":\"Sridhar Raj P\",\n",
        "        \"age\":27,\n",
        "        \"dob\":\"09/12/1997\"\n",
        "    },\n",
        "    \"companydetails\":{\n",
        "        \"companyname\":\"Credo Systemz\",\n",
        "        \"role\":\"Technical Head\"\n",
        "    },\n",
        "    \"salarydetails\":{\n",
        "        \"salary\":40000,\n",
        "        \"money\":\"INR\"\n",
        "    }\n",
        "}\n",
        "\n",
        "print(person)\n",
        "\n",
        "print(person[\"persondetails\"][\"name\"])\n",
        "print(person[\"persondetails\"][\"age\"])\n",
        "\n",
        "print(person[\"companydetails\"][\"companyname\"])"
      ],
      "metadata": {
        "colab": {
          "base_uri": "https://localhost:8080/"
        },
        "id": "smzlXWyWzjAh",
        "outputId": "ed3e27d5-5543-4db5-c1a7-b00d1f2edd6b"
      },
      "execution_count": null,
      "outputs": [
        {
          "output_type": "stream",
          "name": "stdout",
          "text": [
            "{'persondetails': {'name': 'Sridhar Raj P', 'age': 27, 'dob': '09/12/1997'}, 'companydetails': {'companyname': 'Credo Systemz', 'role': 'Technical Head'}, 'salarydetails': {'salary': 40000, 'money': 'INR'}}\n",
            "Sridhar Raj P\n",
            "27\n",
            "Credo Systemz\n"
          ]
        }
      ]
    },
    {
      "cell_type": "code",
      "source": [
        "# Match Statement\n",
        "\n",
        "# match expression:\n",
        "#   case a:\n",
        "#     code block\n",
        "#   case b:\n",
        "#     code block\n",
        "#   case c:\n",
        "#     code block\n",
        "\n",
        "\n",
        "day=int(input(\"Enter the Day \"))\n",
        "match day:\n",
        "  case 1:\n",
        "    print(\"Monday\")\n",
        "  case 2:\n",
        "    print(\"Tuesday\")\n",
        "  case 3:\n",
        "    print(\"Wednesday\")\n",
        "  case 4:\n",
        "    print(\"Thursday\")\n",
        "  case 5:\n",
        "    print(\"Friday\")\n",
        "  case 6:\n",
        "    print(\"Saturday\")\n",
        "  case 7:\n",
        "    print(\"Sunday\")\n",
        "  case _:\n",
        "    print(\"Please 1 to 7 Values Valid\")"
      ],
      "metadata": {
        "id": "9dshxECszjDl",
        "colab": {
          "base_uri": "https://localhost:8080/"
        },
        "outputId": "c19822e2-6733-4f55-93fc-63bf2c49192c"
      },
      "execution_count": null,
      "outputs": [
        {
          "output_type": "stream",
          "name": "stdout",
          "text": [
            "Enter the Day 10\n",
            "Please 1 to 7 Values Valid\n"
          ]
        }
      ]
    },
    {
      "cell_type": "code",
      "source": [
        "# Math\n",
        "\n",
        "answer=min(5,10,15,20,25)\n",
        "print(answer)"
      ],
      "metadata": {
        "id": "lZ438zsEzjGi",
        "colab": {
          "base_uri": "https://localhost:8080/"
        },
        "outputId": "91156c69-d5f1-4fcd-8fc0-365a756014ea"
      },
      "execution_count": null,
      "outputs": [
        {
          "output_type": "stream",
          "name": "stdout",
          "text": [
            "5\n"
          ]
        }
      ]
    },
    {
      "cell_type": "code",
      "source": [
        "answer=max(5,10,15,20,25)\n",
        "print(answer)"
      ],
      "metadata": {
        "id": "X4_aFZ5jzjJ1",
        "colab": {
          "base_uri": "https://localhost:8080/"
        },
        "outputId": "4885c24c-8612-4d8d-8d4a-c5f67ea44e81"
      },
      "execution_count": null,
      "outputs": [
        {
          "output_type": "stream",
          "name": "stdout",
          "text": [
            "25\n"
          ]
        }
      ]
    },
    {
      "cell_type": "code",
      "source": [
        "print(10-90)\n",
        "print((abs(10-90)))"
      ],
      "metadata": {
        "colab": {
          "base_uri": "https://localhost:8080/"
        },
        "id": "4bFoWFcl2_yp",
        "outputId": "42d638b1-b08b-4059-8552-66f01714f0f0"
      },
      "execution_count": null,
      "outputs": [
        {
          "output_type": "stream",
          "name": "stdout",
          "text": [
            "-80\n",
            "80\n"
          ]
        }
      ]
    },
    {
      "cell_type": "code",
      "source": [
        "print(5**5)\n",
        "print(pow(5,4))"
      ],
      "metadata": {
        "colab": {
          "base_uri": "https://localhost:8080/"
        },
        "id": "aO91eQmO3KZl",
        "outputId": "4fc642db-c76b-4ef2-bad8-8353ffe755c3"
      },
      "execution_count": null,
      "outputs": [
        {
          "output_type": "stream",
          "name": "stdout",
          "text": [
            "3125\n",
            "625\n"
          ]
        }
      ]
    },
    {
      "cell_type": "code",
      "source": [
        "import math\n",
        "answer=math.sqrt(16)\n",
        "print(answer)"
      ],
      "metadata": {
        "colab": {
          "base_uri": "https://localhost:8080/"
        },
        "id": "ldiotRHX3KiE",
        "outputId": "00f8d8b4-923f-46be-fbf8-e0f0529dbee5"
      },
      "execution_count": null,
      "outputs": [
        {
          "output_type": "stream",
          "name": "stdout",
          "text": [
            "4.0\n"
          ]
        }
      ]
    },
    {
      "cell_type": "code",
      "source": [
        "import math\n",
        "\n",
        "answer=math.floor(1.8)\n",
        "print(answer)"
      ],
      "metadata": {
        "colab": {
          "base_uri": "https://localhost:8080/"
        },
        "id": "sj9Po1z23Kr-",
        "outputId": "1a96d3a7-8b69-494f-e054-38f697775648"
      },
      "execution_count": null,
      "outputs": [
        {
          "output_type": "stream",
          "name": "stdout",
          "text": [
            "1\n"
          ]
        }
      ]
    },
    {
      "cell_type": "code",
      "source": [
        "import math\n",
        "\n",
        "answer=math.ceil(1.1)\n",
        "print(answer)"
      ],
      "metadata": {
        "colab": {
          "base_uri": "https://localhost:8080/"
        },
        "id": "2JI1YhfX3K0g",
        "outputId": "ca5717f7-2134-43ae-dca3-8bb255e5ae36"
      },
      "execution_count": null,
      "outputs": [
        {
          "output_type": "stream",
          "name": "stdout",
          "text": [
            "2\n"
          ]
        }
      ]
    },
    {
      "cell_type": "code",
      "source": [
        "import math\n",
        "\n",
        "answer=math.pi\n",
        "print(answer)"
      ],
      "metadata": {
        "colab": {
          "base_uri": "https://localhost:8080/"
        },
        "id": "wRqq21ZB3LrV",
        "outputId": "4b29afa1-6db6-457e-a9c4-a8b65a53f043"
      },
      "execution_count": null,
      "outputs": [
        {
          "output_type": "stream",
          "name": "stdout",
          "text": [
            "3.141592653589793\n"
          ]
        }
      ]
    },
    {
      "cell_type": "code",
      "source": [
        "import math\n",
        "print(math.factorial(5))"
      ],
      "metadata": {
        "colab": {
          "base_uri": "https://localhost:8080/"
        },
        "id": "yEBsxRBH3L5R",
        "outputId": "d77c188a-27db-424e-a354-9e6b1d278724"
      },
      "execution_count": null,
      "outputs": [
        {
          "output_type": "stream",
          "name": "stdout",
          "text": [
            "120\n"
          ]
        }
      ]
    },
    {
      "cell_type": "code",
      "source": [
        "import math\n",
        "\n",
        "print(math.gcd(3,6))"
      ],
      "metadata": {
        "colab": {
          "base_uri": "https://localhost:8080/"
        },
        "id": "izzKaCM53MEB",
        "outputId": "2e8d165d-71fc-4b65-e26e-36fdf5d34b31"
      },
      "execution_count": null,
      "outputs": [
        {
          "output_type": "stream",
          "name": "stdout",
          "text": [
            "3\n"
          ]
        }
      ]
    },
    {
      "cell_type": "code",
      "source": [
        "# Math Methods, Constants\n",
        "\n",
        "import math\n",
        "print(math.e) # eulers number\n",
        "\n",
        "print(math.tau)"
      ],
      "metadata": {
        "colab": {
          "base_uri": "https://localhost:8080/"
        },
        "id": "bIIrgeJs3MOe",
        "outputId": "fbd760a4-747d-4a18-dc15-79cbefd98ff6"
      },
      "execution_count": null,
      "outputs": [
        {
          "output_type": "stream",
          "name": "stdout",
          "text": [
            "2.718281828459045\n",
            "6.283185307179586\n"
          ]
        }
      ]
    },
    {
      "cell_type": "code",
      "source": [
        "import math\n",
        "\n",
        "print(math.remainder(10,2))"
      ],
      "metadata": {
        "colab": {
          "base_uri": "https://localhost:8080/"
        },
        "id": "37LStxFG3Mbk",
        "outputId": "3c3a3403-6d83-4397-9052-7d5096219f41"
      },
      "execution_count": null,
      "outputs": [
        {
          "output_type": "stream",
          "name": "stdout",
          "text": [
            "0.0\n"
          ]
        }
      ]
    },
    {
      "cell_type": "code",
      "source": [
        "import math\n",
        "\n",
        "print(math.acos(0))\n",
        "print(math.sin(1))\n",
        "print(math.log(10))\n",
        "print(math.cos(1))\n",
        "print(math.tan(1))"
      ],
      "metadata": {
        "colab": {
          "base_uri": "https://localhost:8080/"
        },
        "id": "VCrDLHbQ3Mpz",
        "outputId": "15d8ea8c-a01d-4740-fc8e-b23f4e86d8ef"
      },
      "execution_count": null,
      "outputs": [
        {
          "output_type": "stream",
          "name": "stdout",
          "text": [
            "1.5707963267948966\n",
            "0.8414709848078965\n",
            "2.302585092994046\n",
            "0.5403023058681398\n",
            "1.5574077246549023\n"
          ]
        }
      ]
    },
    {
      "cell_type": "code",
      "source": [
        "# Date and Time\n",
        "\n",
        "import datetime\n",
        "\n",
        "answer=datetime.datetime.now()\n",
        "print(answer)"
      ],
      "metadata": {
        "colab": {
          "base_uri": "https://localhost:8080/"
        },
        "id": "fG5FRLLq5Iv2",
        "outputId": "97e6f2c9-127f-4beb-9b3b-69bd9b111329"
      },
      "execution_count": null,
      "outputs": [
        {
          "output_type": "stream",
          "name": "stdout",
          "text": [
            "2025-07-27 03:21:07.487148\n"
          ]
        }
      ]
    },
    {
      "cell_type": "code",
      "source": [
        "import datetime\n",
        "\n",
        "answer=datetime.datetime.now()\n",
        "print(answer.year)\n",
        "print(answer.month)\n",
        "print(answer.day)\n",
        "print(answer.hour)\n",
        "print(answer.minute)\n",
        "print(answer.second)"
      ],
      "metadata": {
        "colab": {
          "base_uri": "https://localhost:8080/"
        },
        "id": "ObzaG0eA5Yj8",
        "outputId": "ea676728-0161-48c8-b8b2-49016ffdb31d"
      },
      "execution_count": null,
      "outputs": [
        {
          "output_type": "stream",
          "name": "stdout",
          "text": [
            "2025\n",
            "7\n",
            "27\n",
            "3\n",
            "22\n",
            "17\n"
          ]
        }
      ]
    },
    {
      "cell_type": "code",
      "source": [
        "import datetime\n",
        "\n",
        "answer=datetime.datetime.now()\n",
        "\n",
        "print(answer.strftime(\"%H\"))   # 0 to 23\n",
        "print(answer.strftime(\"%I\"))   # 0 to 12\n",
        "print(answer.strftime(\"%p\"))   # AM / PM\n",
        "\n",
        "# %M, %S, %f, %z, %Z, %j , %U, %W, %c, %C, %x, %X, %%, %G, %u, %v\n",
        "\n",
        "print(answer.strftime(\"%j\"))\n",
        "print(answer.strftime(\"%c\"))\n",
        "\n",
        "print(answer.strftime(\"%y\"))\n",
        "print(answer.strftime(\"%Y\"))\n",
        "\n",
        "print(answer.strftime(\"%A\"))\n",
        "print(answer.strftime(\"%a\"))\n",
        "print(answer.strftime(\"%B\"))\n",
        "print(answer.strftime(\"%w\"))  # 0 Sun, 6 - Sat\n",
        "print(answer.strftime(\"%d\"))\n",
        "print(answer.strftime(\"%b\"))\n",
        "print(answer.strftime(\"%m\"))"
      ],
      "metadata": {
        "colab": {
          "base_uri": "https://localhost:8080/"
        },
        "id": "xrvHI4665YxO",
        "outputId": "c2951be6-c950-406e-c8e4-2fce0fbe1a06"
      },
      "execution_count": null,
      "outputs": [
        {
          "output_type": "stream",
          "name": "stdout",
          "text": [
            "03\n",
            "03\n",
            "AM\n",
            "208\n",
            "Sun Jul 27 03:30:55 2025\n",
            "25\n",
            "2025\n",
            "Sunday\n",
            "Sun\n",
            "July\n",
            "0\n",
            "27\n",
            "Jul\n",
            "07\n"
          ]
        }
      ]
    },
    {
      "cell_type": "code",
      "source": [
        "import datetime\n",
        "answer=datetime.datetime(2060,5,20)\n",
        "\n",
        "print(answer)"
      ],
      "metadata": {
        "colab": {
          "base_uri": "https://localhost:8080/"
        },
        "id": "8ZsS2-u75Y5n",
        "outputId": "36d5e2a7-88fc-4094-fa0e-31d4f7631929"
      },
      "execution_count": null,
      "outputs": [
        {
          "output_type": "stream",
          "name": "stdout",
          "text": [
            "2060-05-20 00:00:00\n"
          ]
        }
      ]
    },
    {
      "cell_type": "code",
      "source": [],
      "metadata": {
        "id": "lTbqrCwf5ZBI"
      },
      "execution_count": null,
      "outputs": []
    },
    {
      "cell_type": "code",
      "source": [],
      "metadata": {
        "id": "BdO7CPbf5ZHv"
      },
      "execution_count": null,
      "outputs": []
    },
    {
      "cell_type": "code",
      "source": [],
      "metadata": {
        "id": "PUHYC8Wj5ZN9"
      },
      "execution_count": null,
      "outputs": []
    },
    {
      "cell_type": "code",
      "source": [],
      "metadata": {
        "id": "NjVdIWcm5ZXM"
      },
      "execution_count": null,
      "outputs": []
    }
  ]
}